{
    "metadata": {
        "kernelspec": {
            "name": "SQL",
            "display_name": "SQL",
            "language": "sql"
        },
        "language_info": {
            "name": "sql",
            "version": ""
        }
    },
    "nbformat_minor": 2,
    "nbformat": 4,
    "cells": [
        {
            "cell_type": "markdown",
            "source": [
                "# **Time and data  functions in SQL**"
            ],
            "metadata": {
                "azdata_cell_guid": "4447279c-8822-45ac-b6d6-e1aaa90a3f8d"
            },
            "attachments": {}
        },
        {
            "cell_type": "code",
            "source": [
                "SELECT *\r\n",
                "FROM retail_sales\r\n",
                "LIMIT 10;"
            ],
            "metadata": {
                "azdata_cell_guid": "97e7e143-c05a-4685-b74c-7462afe75e48"
            },
            "outputs": [
                {
                    "output_type": "display_data",
                    "data": {
                        "text/html": "(10 row(s) affected)"
                    },
                    "metadata": {}
                },
                {
                    "output_type": "display_data",
                    "data": {
                        "text/html": "Total execution time: 00:00:00.033"
                    },
                    "metadata": {}
                },
                {
                    "output_type": "execute_result",
                    "execution_count": 6,
                    "data": {
                        "application/vnd.dataresource+json": {
                            "schema": {
                                "fields": [
                                    {
                                        "name": "sales_month"
                                    },
                                    {
                                        "name": "naics_code"
                                    },
                                    {
                                        "name": "kind_of_business"
                                    },
                                    {
                                        "name": "reason_for_null"
                                    },
                                    {
                                        "name": "sales"
                                    }
                                ]
                            },
                            "data": [
                                {
                                    "0": "1992-01-01",
                                    "1": "441",
                                    "2": "Motor vehicle and parts dealers",
                                    "3": "NULL",
                                    "4": "29811"
                                },
                                {
                                    "0": "1992-01-01",
                                    "1": "4411",
                                    "2": "Automobile dealers",
                                    "3": "NULL",
                                    "4": "25800"
                                },
                                {
                                    "0": "1992-01-01",
                                    "1": "4411, 4412",
                                    "2": "Automobile and other motor vehicle dealers",
                                    "3": "NULL",
                                    "4": "26788"
                                },
                                {
                                    "0": "1992-01-01",
                                    "1": "44111",
                                    "2": "New car dealers",
                                    "3": "NULL",
                                    "4": "24056"
                                },
                                {
                                    "0": "1992-01-01",
                                    "1": "44112",
                                    "2": "Used car dealers",
                                    "3": "NULL",
                                    "4": "1744"
                                },
                                {
                                    "0": "1992-01-01",
                                    "1": "4413",
                                    "2": "Automotive parts, acc., and tire stores",
                                    "3": "NULL",
                                    "4": "3023"
                                },
                                {
                                    "0": "1992-01-01",
                                    "1": "442",
                                    "2": "Furniture and home furnishings stores",
                                    "3": "NULL",
                                    "4": "3846"
                                },
                                {
                                    "0": "1992-01-01",
                                    "1": "442, 443",
                                    "2": "Furniture, home furn, electronics, and appliance stores",
                                    "3": "NULL",
                                    "4": "7503"
                                },
                                {
                                    "0": "1992-01-01",
                                    "1": "4421",
                                    "2": "Furniture stores",
                                    "3": "NULL",
                                    "4": "2392"
                                },
                                {
                                    "0": "1992-01-01",
                                    "1": "4422",
                                    "2": "Home furnishings stores",
                                    "3": "NULL",
                                    "4": "1454"
                                }
                            ]
                        },
                        "text/html": "<table><tr><th>sales_month</th><th>naics_code</th><th>kind_of_business</th><th>reason_for_null</th><th>sales</th></tr><tr><td>1992-01-01</td><td>441</td><td>Motor vehicle and parts dealers</td><td>NULL</td><td>29811</td></tr><tr><td>1992-01-01</td><td>4411</td><td>Automobile dealers</td><td>NULL</td><td>25800</td></tr><tr><td>1992-01-01</td><td>4411, 4412</td><td>Automobile and other motor vehicle dealers</td><td>NULL</td><td>26788</td></tr><tr><td>1992-01-01</td><td>44111</td><td>New car dealers</td><td>NULL</td><td>24056</td></tr><tr><td>1992-01-01</td><td>44112</td><td>Used car dealers</td><td>NULL</td><td>1744</td></tr><tr><td>1992-01-01</td><td>4413</td><td>Automotive parts, acc., and tire stores</td><td>NULL</td><td>3023</td></tr><tr><td>1992-01-01</td><td>442</td><td>Furniture and home furnishings stores</td><td>NULL</td><td>3846</td></tr><tr><td>1992-01-01</td><td>442, 443</td><td>Furniture, home furn, electronics, and appliance stores</td><td>NULL</td><td>7503</td></tr><tr><td>1992-01-01</td><td>4421</td><td>Furniture stores</td><td>NULL</td><td>2392</td></tr><tr><td>1992-01-01</td><td>4422</td><td>Home furnishings stores</td><td>NULL</td><td>1454</td></tr></table>"
                    },
                    "metadata": {}
                }
            ],
            "execution_count": 6
        },
        {
            "cell_type": "code",
            "source": [
                "SELECT '2020-01-01 00:00:00 -0' at time ZONE 'pst'"
            ],
            "metadata": {
                "azdata_cell_guid": "e7df94a0-da9c-4eae-886a-abbac04cb22a"
            },
            "outputs": [
                {
                    "output_type": "display_data",
                    "data": {
                        "text/html": "(1 row(s) affected)"
                    },
                    "metadata": {}
                },
                {
                    "output_type": "display_data",
                    "data": {
                        "text/html": "Total execution time: 00:00:00.070"
                    },
                    "metadata": {}
                },
                {
                    "output_type": "execute_result",
                    "execution_count": 7,
                    "data": {
                        "application/vnd.dataresource+json": {
                            "schema": {
                                "fields": [
                                    {
                                        "name": "timezone"
                                    }
                                ]
                            },
                            "data": [
                                {
                                    "0": "2019-12-31T16:00:00"
                                }
                            ]
                        },
                        "text/html": "<table><tr><th>timezone</th></tr><tr><td>2019-12-31T16:00:00</td></tr></table>"
                    },
                    "metadata": {}
                }
            ],
            "execution_count": 7
        },
        {
            "cell_type": "code",
            "source": [
                "SELECT '2020-01-01 00:00:00 -0' at time ZONE 'pdt'"
            ],
            "metadata": {
                "azdata_cell_guid": "aed9b52d-1aae-4874-9e75-671112a5bc25"
            },
            "outputs": [
                {
                    "output_type": "display_data",
                    "data": {
                        "text/html": "(1 row(s) affected)"
                    },
                    "metadata": {}
                },
                {
                    "output_type": "display_data",
                    "data": {
                        "text/html": "Total execution time: 00:00:00.023"
                    },
                    "metadata": {}
                },
                {
                    "output_type": "execute_result",
                    "execution_count": 8,
                    "data": {
                        "application/vnd.dataresource+json": {
                            "schema": {
                                "fields": [
                                    {
                                        "name": "timezone"
                                    }
                                ]
                            },
                            "data": [
                                {
                                    "0": "2019-12-31T17:00:00"
                                }
                            ]
                        },
                        "text/html": "<table><tr><th>timezone</th></tr><tr><td>2019-12-31T17:00:00</td></tr></table>"
                    },
                    "metadata": {}
                }
            ],
            "execution_count": 8
        },
        {
            "cell_type": "code",
            "source": [
                "-- time zone table in postgres\r\n",
                "SELECT * FROM pg_timezone_names;"
            ],
            "metadata": {
                "azdata_cell_guid": "890b5ecb-a18e-4c41-be15-b252df869ed3"
            },
            "outputs": [
                {
                    "output_type": "display_data",
                    "data": {
                        "text/html": "(595 row(s) affected)"
                    },
                    "metadata": {}
                },
                {
                    "output_type": "display_data",
                    "data": {
                        "text/html": "Total execution time: 00:00:00.424"
                    },
                    "metadata": {}
                },
                {
                    "output_type": "execute_result",
                    "metadata": {},
                    "execution_count": 36,
                    "data": {
                        "application/vnd.dataresource+json": {
                            "schema": {
                                "fields": [
                                    {
                                        "name": "name"
                                    },
                                    {
                                        "name": "abbrev"
                                    },
                                    {
                                        "name": "utc_offset"
                                    },
                                    {
                                        "name": "is_dst"
                                    }
                                ]
                            },
                            "data": [
                                {
                                    "0": "Africa/Abidjan",
                                    "1": "GMT",
                                    "2": "0:00:00",
                                    "3": "False"
                                },
                                {
                                    "0": "Africa/Accra",
                                    "1": "GMT",
                                    "2": "0:00:00",
                                    "3": "False"
                                },
                                {
                                    "0": "Africa/Addis_Ababa",
                                    "1": "EAT",
                                    "2": "3:00:00",
                                    "3": "False"
                                },
                                {
                                    "0": "Africa/Algiers",
                                    "1": "CET",
                                    "2": "1:00:00",
                                    "3": "False"
                                },
                                {
                                    "0": "Africa/Asmara",
                                    "1": "EAT",
                                    "2": "3:00:00",
                                    "3": "False"
                                },
                                {
                                    "0": "Africa/Asmera",
                                    "1": "EAT",
                                    "2": "3:00:00",
                                    "3": "False"
                                },
                                {
                                    "0": "Africa/Bamako",
                                    "1": "GMT",
                                    "2": "0:00:00",
                                    "3": "False"
                                },
                                {
                                    "0": "Africa/Bangui",
                                    "1": "WAT",
                                    "2": "1:00:00",
                                    "3": "False"
                                },
                                {
                                    "0": "Africa/Banjul",
                                    "1": "GMT",
                                    "2": "0:00:00",
                                    "3": "False"
                                },
                                {
                                    "0": "Africa/Bissau",
                                    "1": "GMT",
                                    "2": "0:00:00",
                                    "3": "False"
                                },
                                {
                                    "0": "Africa/Blantyre",
                                    "1": "CAT",
                                    "2": "2:00:00",
                                    "3": "False"
                                },
                                {
                                    "0": "Africa/Brazzaville",
                                    "1": "WAT",
                                    "2": "1:00:00",
                                    "3": "False"
                                },
                                {
                                    "0": "Africa/Bujumbura",
                                    "1": "CAT",
                                    "2": "2:00:00",
                                    "3": "False"
                                },
                                {
                                    "0": "Africa/Cairo",
                                    "1": "EET",
                                    "2": "2:00:00",
                                    "3": "False"
                                },
                                {
                                    "0": "Africa/Casablanca",
                                    "1": "+00",
                                    "2": "0:00:00",
                                    "3": "True"
                                },
                                {
                                    "0": "Africa/Ceuta",
                                    "1": "CEST",
                                    "2": "2:00:00",
                                    "3": "True"
                                },
                                {
                                    "0": "Africa/Conakry",
                                    "1": "GMT",
                                    "2": "0:00:00",
                                    "3": "False"
                                },
                                {
                                    "0": "Africa/Dakar",
                                    "1": "GMT",
                                    "2": "0:00:00",
                                    "3": "False"
                                },
                                {
                                    "0": "Africa/Dar_es_Salaam",
                                    "1": "EAT",
                                    "2": "3:00:00",
                                    "3": "False"
                                },
                                {
                                    "0": "Africa/Djibouti",
                                    "1": "EAT",
                                    "2": "3:00:00",
                                    "3": "False"
                                },
                                {
                                    "0": "Africa/Douala",
                                    "1": "WAT",
                                    "2": "1:00:00",
                                    "3": "False"
                                },
                                {
                                    "0": "Africa/El_Aaiun",
                                    "1": "+00",
                                    "2": "0:00:00",
                                    "3": "True"
                                },
                                {
                                    "0": "Africa/Freetown",
                                    "1": "GMT",
                                    "2": "0:00:00",
                                    "3": "False"
                                },
                                {
                                    "0": "Africa/Gaborone",
                                    "1": "CAT",
                                    "2": "2:00:00",
                                    "3": "False"
                                },
                                {
                                    "0": "Africa/Harare",
                                    "1": "CAT",
                                    "2": "2:00:00",
                                    "3": "False"
                                },
                                {
                                    "0": "Africa/Johannesburg",
                                    "1": "SAST",
                                    "2": "2:00:00",
                                    "3": "False"
                                },
                                {
                                    "0": "Africa/Juba",
                                    "1": "CAT",
                                    "2": "2:00:00",
                                    "3": "False"
                                },
                                {
                                    "0": "Africa/Kampala",
                                    "1": "EAT",
                                    "2": "3:00:00",
                                    "3": "False"
                                },
                                {
                                    "0": "Africa/Khartoum",
                                    "1": "CAT",
                                    "2": "2:00:00",
                                    "3": "False"
                                },
                                {
                                    "0": "Africa/Kigali",
                                    "1": "CAT",
                                    "2": "2:00:00",
                                    "3": "False"
                                },
                                {
                                    "0": "Africa/Kinshasa",
                                    "1": "WAT",
                                    "2": "1:00:00",
                                    "3": "False"
                                },
                                {
                                    "0": "Africa/Lagos",
                                    "1": "WAT",
                                    "2": "1:00:00",
                                    "3": "False"
                                },
                                {
                                    "0": "Africa/Libreville",
                                    "1": "WAT",
                                    "2": "1:00:00",
                                    "3": "False"
                                },
                                {
                                    "0": "Africa/Lome",
                                    "1": "GMT",
                                    "2": "0:00:00",
                                    "3": "False"
                                },
                                {
                                    "0": "Africa/Luanda",
                                    "1": "WAT",
                                    "2": "1:00:00",
                                    "3": "False"
                                },
                                {
                                    "0": "Africa/Lubumbashi",
                                    "1": "CAT",
                                    "2": "2:00:00",
                                    "3": "False"
                                },
                                {
                                    "0": "Africa/Lusaka",
                                    "1": "CAT",
                                    "2": "2:00:00",
                                    "3": "False"
                                },
                                {
                                    "0": "Africa/Malabo",
                                    "1": "WAT",
                                    "2": "1:00:00",
                                    "3": "False"
                                },
                                {
                                    "0": "Africa/Maputo",
                                    "1": "CAT",
                                    "2": "2:00:00",
                                    "3": "False"
                                },
                                {
                                    "0": "Africa/Maseru",
                                    "1": "SAST",
                                    "2": "2:00:00",
                                    "3": "False"
                                },
                                {
                                    "0": "Africa/Mbabane",
                                    "1": "SAST",
                                    "2": "2:00:00",
                                    "3": "False"
                                },
                                {
                                    "0": "Africa/Mogadishu",
                                    "1": "EAT",
                                    "2": "3:00:00",
                                    "3": "False"
                                },
                                {
                                    "0": "Africa/Monrovia",
                                    "1": "GMT",
                                    "2": "0:00:00",
                                    "3": "False"
                                },
                                {
                                    "0": "Africa/Nairobi",
                                    "1": "EAT",
                                    "2": "3:00:00",
                                    "3": "False"
                                },
                                {
                                    "0": "Africa/Ndjamena",
                                    "1": "WAT",
                                    "2": "1:00:00",
                                    "3": "False"
                                },
                                {
                                    "0": "Africa/Niamey",
                                    "1": "WAT",
                                    "2": "1:00:00",
                                    "3": "False"
                                },
                                {
                                    "0": "Africa/Nouakchott",
                                    "1": "GMT",
                                    "2": "0:00:00",
                                    "3": "False"
                                },
                                {
                                    "0": "Africa/Ouagadougou",
                                    "1": "GMT",
                                    "2": "0:00:00",
                                    "3": "False"
                                },
                                {
                                    "0": "Africa/Porto-Novo",
                                    "1": "WAT",
                                    "2": "1:00:00",
                                    "3": "False"
                                },
                                {
                                    "0": "Africa/Sao_Tome",
                                    "1": "GMT",
                                    "2": "0:00:00",
                                    "3": "False"
                                },
                                {
                                    "0": "Africa/Timbuktu",
                                    "1": "GMT",
                                    "2": "0:00:00",
                                    "3": "False"
                                },
                                {
                                    "0": "Africa/Tripoli",
                                    "1": "EET",
                                    "2": "2:00:00",
                                    "3": "False"
                                },
                                {
                                    "0": "Africa/Tunis",
                                    "1": "CET",
                                    "2": "1:00:00",
                                    "3": "False"
                                },
                                {
                                    "0": "Africa/Windhoek",
                                    "1": "CAT",
                                    "2": "2:00:00",
                                    "3": "False"
                                },
                                {
                                    "0": "America/Adak",
                                    "1": "HDT",
                                    "2": "-1 day, 15:00:00",
                                    "3": "True"
                                },
                                {
                                    "0": "America/Anchorage",
                                    "1": "AKDT",
                                    "2": "-1 day, 16:00:00",
                                    "3": "True"
                                },
                                {
                                    "0": "America/Anguilla",
                                    "1": "AST",
                                    "2": "-1 day, 20:00:00",
                                    "3": "False"
                                },
                                {
                                    "0": "America/Antigua",
                                    "1": "AST",
                                    "2": "-1 day, 20:00:00",
                                    "3": "False"
                                },
                                {
                                    "0": "America/Araguaina",
                                    "1": "-03",
                                    "2": "-1 day, 21:00:00",
                                    "3": "False"
                                },
                                {
                                    "0": "America/Argentina/Buenos_Aires",
                                    "1": "-03",
                                    "2": "-1 day, 21:00:00",
                                    "3": "False"
                                },
                                {
                                    "0": "America/Argentina/Catamarca",
                                    "1": "-03",
                                    "2": "-1 day, 21:00:00",
                                    "3": "False"
                                },
                                {
                                    "0": "America/Argentina/ComodRivadavia",
                                    "1": "-03",
                                    "2": "-1 day, 21:00:00",
                                    "3": "False"
                                },
                                {
                                    "0": "America/Argentina/Cordoba",
                                    "1": "-03",
                                    "2": "-1 day, 21:00:00",
                                    "3": "False"
                                },
                                {
                                    "0": "America/Argentina/Jujuy",
                                    "1": "-03",
                                    "2": "-1 day, 21:00:00",
                                    "3": "False"
                                },
                                {
                                    "0": "America/Argentina/La_Rioja",
                                    "1": "-03",
                                    "2": "-1 day, 21:00:00",
                                    "3": "False"
                                },
                                {
                                    "0": "America/Argentina/Mendoza",
                                    "1": "-03",
                                    "2": "-1 day, 21:00:00",
                                    "3": "False"
                                },
                                {
                                    "0": "America/Argentina/Rio_Gallegos",
                                    "1": "-03",
                                    "2": "-1 day, 21:00:00",
                                    "3": "False"
                                },
                                {
                                    "0": "America/Argentina/Salta",
                                    "1": "-03",
                                    "2": "-1 day, 21:00:00",
                                    "3": "False"
                                },
                                {
                                    "0": "America/Argentina/San_Juan",
                                    "1": "-03",
                                    "2": "-1 day, 21:00:00",
                                    "3": "False"
                                },
                                {
                                    "0": "America/Argentina/San_Luis",
                                    "1": "-03",
                                    "2": "-1 day, 21:00:00",
                                    "3": "False"
                                },
                                {
                                    "0": "America/Argentina/Tucuman",
                                    "1": "-03",
                                    "2": "-1 day, 21:00:00",
                                    "3": "False"
                                },
                                {
                                    "0": "America/Argentina/Ushuaia",
                                    "1": "-03",
                                    "2": "-1 day, 21:00:00",
                                    "3": "False"
                                },
                                {
                                    "0": "America/Aruba",
                                    "1": "AST",
                                    "2": "-1 day, 20:00:00",
                                    "3": "False"
                                },
                                {
                                    "0": "America/Asuncion",
                                    "1": "-04",
                                    "2": "-1 day, 20:00:00",
                                    "3": "False"
                                },
                                {
                                    "0": "America/Atikokan",
                                    "1": "EST",
                                    "2": "-1 day, 19:00:00",
                                    "3": "False"
                                },
                                {
                                    "0": "America/Atka",
                                    "1": "HDT",
                                    "2": "-1 day, 15:00:00",
                                    "3": "True"
                                },
                                {
                                    "0": "America/Bahia",
                                    "1": "-03",
                                    "2": "-1 day, 21:00:00",
                                    "3": "False"
                                },
                                {
                                    "0": "America/Bahia_Banderas",
                                    "1": "CDT",
                                    "2": "-1 day, 19:00:00",
                                    "3": "True"
                                },
                                {
                                    "0": "America/Barbados",
                                    "1": "AST",
                                    "2": "-1 day, 20:00:00",
                                    "3": "False"
                                },
                                {
                                    "0": "America/Belem",
                                    "1": "-03",
                                    "2": "-1 day, 21:00:00",
                                    "3": "False"
                                },
                                {
                                    "0": "America/Belize",
                                    "1": "CST",
                                    "2": "-1 day, 18:00:00",
                                    "3": "False"
                                },
                                {
                                    "0": "America/Blanc-Sablon",
                                    "1": "AST",
                                    "2": "-1 day, 20:00:00",
                                    "3": "False"
                                },
                                {
                                    "0": "America/Boa_Vista",
                                    "1": "-04",
                                    "2": "-1 day, 20:00:00",
                                    "3": "False"
                                },
                                {
                                    "0": "America/Bogota",
                                    "1": "-05",
                                    "2": "-1 day, 19:00:00",
                                    "3": "False"
                                },
                                {
                                    "0": "America/Boise",
                                    "1": "MDT",
                                    "2": "-1 day, 18:00:00",
                                    "3": "True"
                                },
                                {
                                    "0": "America/Buenos_Aires",
                                    "1": "-03",
                                    "2": "-1 day, 21:00:00",
                                    "3": "False"
                                },
                                {
                                    "0": "America/Cambridge_Bay",
                                    "1": "MDT",
                                    "2": "-1 day, 18:00:00",
                                    "3": "True"
                                },
                                {
                                    "0": "America/Campo_Grande",
                                    "1": "-04",
                                    "2": "-1 day, 20:00:00",
                                    "3": "False"
                                },
                                {
                                    "0": "America/Cancun",
                                    "1": "EST",
                                    "2": "-1 day, 19:00:00",
                                    "3": "False"
                                },
                                {
                                    "0": "America/Caracas",
                                    "1": "-04",
                                    "2": "-1 day, 20:00:00",
                                    "3": "False"
                                },
                                {
                                    "0": "America/Catamarca",
                                    "1": "-03",
                                    "2": "-1 day, 21:00:00",
                                    "3": "False"
                                },
                                {
                                    "0": "America/Cayenne",
                                    "1": "-03",
                                    "2": "-1 day, 21:00:00",
                                    "3": "False"
                                },
                                {
                                    "0": "America/Cayman",
                                    "1": "EST",
                                    "2": "-1 day, 19:00:00",
                                    "3": "False"
                                },
                                {
                                    "0": "America/Chicago",
                                    "1": "CDT",
                                    "2": "-1 day, 19:00:00",
                                    "3": "True"
                                },
                                {
                                    "0": "America/Chihuahua",
                                    "1": "MDT",
                                    "2": "-1 day, 18:00:00",
                                    "3": "True"
                                },
                                {
                                    "0": "America/Coral_Harbour",
                                    "1": "EST",
                                    "2": "-1 day, 19:00:00",
                                    "3": "False"
                                },
                                {
                                    "0": "America/Cordoba",
                                    "1": "-03",
                                    "2": "-1 day, 21:00:00",
                                    "3": "False"
                                },
                                {
                                    "0": "America/Costa_Rica",
                                    "1": "CST",
                                    "2": "-1 day, 18:00:00",
                                    "3": "False"
                                },
                                {
                                    "0": "America/Creston",
                                    "1": "MST",
                                    "2": "-1 day, 17:00:00",
                                    "3": "False"
                                },
                                {
                                    "0": "America/Cuiaba",
                                    "1": "-04",
                                    "2": "-1 day, 20:00:00",
                                    "3": "False"
                                },
                                {
                                    "0": "America/Curacao",
                                    "1": "AST",
                                    "2": "-1 day, 20:00:00",
                                    "3": "False"
                                },
                                {
                                    "0": "America/Danmarkshavn",
                                    "1": "GMT",
                                    "2": "0:00:00",
                                    "3": "False"
                                },
                                {
                                    "0": "America/Dawson",
                                    "1": "MST",
                                    "2": "-1 day, 17:00:00",
                                    "3": "False"
                                },
                                {
                                    "0": "America/Dawson_Creek",
                                    "1": "MST",
                                    "2": "-1 day, 17:00:00",
                                    "3": "False"
                                },
                                {
                                    "0": "America/Denver",
                                    "1": "MDT",
                                    "2": "-1 day, 18:00:00",
                                    "3": "True"
                                },
                                {
                                    "0": "America/Detroit",
                                    "1": "EDT",
                                    "2": "-1 day, 20:00:00",
                                    "3": "True"
                                },
                                {
                                    "0": "America/Dominica",
                                    "1": "AST",
                                    "2": "-1 day, 20:00:00",
                                    "3": "False"
                                },
                                {
                                    "0": "America/Edmonton",
                                    "1": "MDT",
                                    "2": "-1 day, 18:00:00",
                                    "3": "True"
                                },
                                {
                                    "0": "America/Eirunepe",
                                    "1": "-05",
                                    "2": "-1 day, 19:00:00",
                                    "3": "False"
                                },
                                {
                                    "0": "America/El_Salvador",
                                    "1": "CST",
                                    "2": "-1 day, 18:00:00",
                                    "3": "False"
                                },
                                {
                                    "0": "America/Ensenada",
                                    "1": "PDT",
                                    "2": "-1 day, 17:00:00",
                                    "3": "True"
                                },
                                {
                                    "0": "America/Fortaleza",
                                    "1": "-03",
                                    "2": "-1 day, 21:00:00",
                                    "3": "False"
                                },
                                {
                                    "0": "America/Fort_Nelson",
                                    "1": "MST",
                                    "2": "-1 day, 17:00:00",
                                    "3": "False"
                                },
                                {
                                    "0": "America/Fort_Wayne",
                                    "1": "EDT",
                                    "2": "-1 day, 20:00:00",
                                    "3": "True"
                                },
                                {
                                    "0": "America/Glace_Bay",
                                    "1": "ADT",
                                    "2": "-1 day, 21:00:00",
                                    "3": "True"
                                },
                                {
                                    "0": "America/Godthab",
                                    "1": "-02",
                                    "2": "-1 day, 22:00:00",
                                    "3": "True"
                                },
                                {
                                    "0": "America/Goose_Bay",
                                    "1": "ADT",
                                    "2": "-1 day, 21:00:00",
                                    "3": "True"
                                },
                                {
                                    "0": "America/Grand_Turk",
                                    "1": "EDT",
                                    "2": "-1 day, 20:00:00",
                                    "3": "True"
                                },
                                {
                                    "0": "America/Grenada",
                                    "1": "AST",
                                    "2": "-1 day, 20:00:00",
                                    "3": "False"
                                },
                                {
                                    "0": "America/Guadeloupe",
                                    "1": "AST",
                                    "2": "-1 day, 20:00:00",
                                    "3": "False"
                                },
                                {
                                    "0": "America/Guatemala",
                                    "1": "CST",
                                    "2": "-1 day, 18:00:00",
                                    "3": "False"
                                },
                                {
                                    "0": "America/Guayaquil",
                                    "1": "-05",
                                    "2": "-1 day, 19:00:00",
                                    "3": "False"
                                },
                                {
                                    "0": "America/Guyana",
                                    "1": "-04",
                                    "2": "-1 day, 20:00:00",
                                    "3": "False"
                                },
                                {
                                    "0": "America/Halifax",
                                    "1": "ADT",
                                    "2": "-1 day, 21:00:00",
                                    "3": "True"
                                },
                                {
                                    "0": "America/Havana",
                                    "1": "CDT",
                                    "2": "-1 day, 20:00:00",
                                    "3": "True"
                                },
                                {
                                    "0": "America/Hermosillo",
                                    "1": "MST",
                                    "2": "-1 day, 17:00:00",
                                    "3": "False"
                                },
                                {
                                    "0": "America/Indiana/Indianapolis",
                                    "1": "EDT",
                                    "2": "-1 day, 20:00:00",
                                    "3": "True"
                                },
                                {
                                    "0": "America/Indiana/Knox",
                                    "1": "CDT",
                                    "2": "-1 day, 19:00:00",
                                    "3": "True"
                                },
                                {
                                    "0": "America/Indiana/Marengo",
                                    "1": "EDT",
                                    "2": "-1 day, 20:00:00",
                                    "3": "True"
                                },
                                {
                                    "0": "America/Indiana/Petersburg",
                                    "1": "EDT",
                                    "2": "-1 day, 20:00:00",
                                    "3": "True"
                                },
                                {
                                    "0": "America/Indiana/Tell_City",
                                    "1": "CDT",
                                    "2": "-1 day, 19:00:00",
                                    "3": "True"
                                },
                                {
                                    "0": "America/Indiana/Vevay",
                                    "1": "EDT",
                                    "2": "-1 day, 20:00:00",
                                    "3": "True"
                                },
                                {
                                    "0": "America/Indiana/Vincennes",
                                    "1": "EDT",
                                    "2": "-1 day, 20:00:00",
                                    "3": "True"
                                },
                                {
                                    "0": "America/Indiana/Winamac",
                                    "1": "EDT",
                                    "2": "-1 day, 20:00:00",
                                    "3": "True"
                                },
                                {
                                    "0": "America/Indianapolis",
                                    "1": "EDT",
                                    "2": "-1 day, 20:00:00",
                                    "3": "True"
                                },
                                {
                                    "0": "America/Inuvik",
                                    "1": "MDT",
                                    "2": "-1 day, 18:00:00",
                                    "3": "True"
                                },
                                {
                                    "0": "America/Iqaluit",
                                    "1": "EDT",
                                    "2": "-1 day, 20:00:00",
                                    "3": "True"
                                },
                                {
                                    "0": "America/Jamaica",
                                    "1": "EST",
                                    "2": "-1 day, 19:00:00",
                                    "3": "False"
                                },
                                {
                                    "0": "America/Jujuy",
                                    "1": "-03",
                                    "2": "-1 day, 21:00:00",
                                    "3": "False"
                                },
                                {
                                    "0": "America/Juneau",
                                    "1": "AKDT",
                                    "2": "-1 day, 16:00:00",
                                    "3": "True"
                                },
                                {
                                    "0": "America/Kentucky/Louisville",
                                    "1": "EDT",
                                    "2": "-1 day, 20:00:00",
                                    "3": "True"
                                },
                                {
                                    "0": "America/Kentucky/Monticello",
                                    "1": "EDT",
                                    "2": "-1 day, 20:00:00",
                                    "3": "True"
                                },
                                {
                                    "0": "America/Knox_IN",
                                    "1": "CDT",
                                    "2": "-1 day, 19:00:00",
                                    "3": "True"
                                },
                                {
                                    "0": "America/Kralendijk",
                                    "1": "AST",
                                    "2": "-1 day, 20:00:00",
                                    "3": "False"
                                },
                                {
                                    "0": "America/La_Paz",
                                    "1": "-04",
                                    "2": "-1 day, 20:00:00",
                                    "3": "False"
                                },
                                {
                                    "0": "America/Lima",
                                    "1": "-05",
                                    "2": "-1 day, 19:00:00",
                                    "3": "False"
                                },
                                {
                                    "0": "America/Los_Angeles",
                                    "1": "PDT",
                                    "2": "-1 day, 17:00:00",
                                    "3": "True"
                                },
                                {
                                    "0": "America/Louisville",
                                    "1": "EDT",
                                    "2": "-1 day, 20:00:00",
                                    "3": "True"
                                },
                                {
                                    "0": "America/Lower_Princes",
                                    "1": "AST",
                                    "2": "-1 day, 20:00:00",
                                    "3": "False"
                                },
                                {
                                    "0": "America/Maceio",
                                    "1": "-03",
                                    "2": "-1 day, 21:00:00",
                                    "3": "False"
                                },
                                {
                                    "0": "America/Managua",
                                    "1": "CST",
                                    "2": "-1 day, 18:00:00",
                                    "3": "False"
                                },
                                {
                                    "0": "America/Manaus",
                                    "1": "-04",
                                    "2": "-1 day, 20:00:00",
                                    "3": "False"
                                },
                                {
                                    "0": "America/Marigot",
                                    "1": "AST",
                                    "2": "-1 day, 20:00:00",
                                    "3": "False"
                                },
                                {
                                    "0": "America/Martinique",
                                    "1": "AST",
                                    "2": "-1 day, 20:00:00",
                                    "3": "False"
                                },
                                {
                                    "0": "America/Matamoros",
                                    "1": "CDT",
                                    "2": "-1 day, 19:00:00",
                                    "3": "True"
                                },
                                {
                                    "0": "America/Mazatlan",
                                    "1": "MDT",
                                    "2": "-1 day, 18:00:00",
                                    "3": "True"
                                },
                                {
                                    "0": "America/Mendoza",
                                    "1": "-03",
                                    "2": "-1 day, 21:00:00",
                                    "3": "False"
                                },
                                {
                                    "0": "America/Menominee",
                                    "1": "CDT",
                                    "2": "-1 day, 19:00:00",
                                    "3": "True"
                                },
                                {
                                    "0": "America/Merida",
                                    "1": "CDT",
                                    "2": "-1 day, 19:00:00",
                                    "3": "True"
                                },
                                {
                                    "0": "America/Metlakatla",
                                    "1": "AKDT",
                                    "2": "-1 day, 16:00:00",
                                    "3": "True"
                                },
                                {
                                    "0": "America/Mexico_City",
                                    "1": "CDT",
                                    "2": "-1 day, 19:00:00",
                                    "3": "True"
                                },
                                {
                                    "0": "America/Miquelon",
                                    "1": "-02",
                                    "2": "-1 day, 22:00:00",
                                    "3": "True"
                                },
                                {
                                    "0": "America/Moncton",
                                    "1": "ADT",
                                    "2": "-1 day, 21:00:00",
                                    "3": "True"
                                },
                                {
                                    "0": "America/Monterrey",
                                    "1": "CDT",
                                    "2": "-1 day, 19:00:00",
                                    "3": "True"
                                },
                                {
                                    "0": "America/Montevideo",
                                    "1": "-03",
                                    "2": "-1 day, 21:00:00",
                                    "3": "False"
                                },
                                {
                                    "0": "America/Montreal",
                                    "1": "EDT",
                                    "2": "-1 day, 20:00:00",
                                    "3": "True"
                                },
                                {
                                    "0": "America/Montserrat",
                                    "1": "AST",
                                    "2": "-1 day, 20:00:00",
                                    "3": "False"
                                },
                                {
                                    "0": "America/Nassau",
                                    "1": "EDT",
                                    "2": "-1 day, 20:00:00",
                                    "3": "True"
                                },
                                {
                                    "0": "America/New_York",
                                    "1": "EDT",
                                    "2": "-1 day, 20:00:00",
                                    "3": "True"
                                },
                                {
                                    "0": "America/Nipigon",
                                    "1": "EDT",
                                    "2": "-1 day, 20:00:00",
                                    "3": "True"
                                },
                                {
                                    "0": "America/Nome",
                                    "1": "AKDT",
                                    "2": "-1 day, 16:00:00",
                                    "3": "True"
                                },
                                {
                                    "0": "America/Noronha",
                                    "1": "-02",
                                    "2": "-1 day, 22:00:00",
                                    "3": "False"
                                },
                                {
                                    "0": "America/North_Dakota/Beulah",
                                    "1": "CDT",
                                    "2": "-1 day, 19:00:00",
                                    "3": "True"
                                },
                                {
                                    "0": "America/North_Dakota/Center",
                                    "1": "CDT",
                                    "2": "-1 day, 19:00:00",
                                    "3": "True"
                                },
                                {
                                    "0": "America/North_Dakota/New_Salem",
                                    "1": "CDT",
                                    "2": "-1 day, 19:00:00",
                                    "3": "True"
                                },
                                {
                                    "0": "America/Nuuk",
                                    "1": "-02",
                                    "2": "-1 day, 22:00:00",
                                    "3": "True"
                                },
                                {
                                    "0": "America/Ojinaga",
                                    "1": "MDT",
                                    "2": "-1 day, 18:00:00",
                                    "3": "True"
                                },
                                {
                                    "0": "America/Panama",
                                    "1": "EST",
                                    "2": "-1 day, 19:00:00",
                                    "3": "False"
                                },
                                {
                                    "0": "America/Pangnirtung",
                                    "1": "EDT",
                                    "2": "-1 day, 20:00:00",
                                    "3": "True"
                                },
                                {
                                    "0": "America/Paramaribo",
                                    "1": "-03",
                                    "2": "-1 day, 21:00:00",
                                    "3": "False"
                                },
                                {
                                    "0": "America/Phoenix",
                                    "1": "MST",
                                    "2": "-1 day, 17:00:00",
                                    "3": "False"
                                },
                                {
                                    "0": "America/Port-au-Prince",
                                    "1": "EDT",
                                    "2": "-1 day, 20:00:00",
                                    "3": "True"
                                },
                                {
                                    "0": "America/Porto_Acre",
                                    "1": "-05",
                                    "2": "-1 day, 19:00:00",
                                    "3": "False"
                                },
                                {
                                    "0": "America/Porto_Velho",
                                    "1": "-04",
                                    "2": "-1 day, 20:00:00",
                                    "3": "False"
                                },
                                {
                                    "0": "America/Port_of_Spain",
                                    "1": "AST",
                                    "2": "-1 day, 20:00:00",
                                    "3": "False"
                                },
                                {
                                    "0": "America/Puerto_Rico",
                                    "1": "AST",
                                    "2": "-1 day, 20:00:00",
                                    "3": "False"
                                },
                                {
                                    "0": "America/Punta_Arenas",
                                    "1": "-03",
                                    "2": "-1 day, 21:00:00",
                                    "3": "False"
                                },
                                {
                                    "0": "America/Rainy_River",
                                    "1": "CDT",
                                    "2": "-1 day, 19:00:00",
                                    "3": "True"
                                },
                                {
                                    "0": "America/Rankin_Inlet",
                                    "1": "CDT",
                                    "2": "-1 day, 19:00:00",
                                    "3": "True"
                                },
                                {
                                    "0": "America/Recife",
                                    "1": "-03",
                                    "2": "-1 day, 21:00:00",
                                    "3": "False"
                                },
                                {
                                    "0": "America/Regina",
                                    "1": "CST",
                                    "2": "-1 day, 18:00:00",
                                    "3": "False"
                                },
                                {
                                    "0": "America/Resolute",
                                    "1": "CDT",
                                    "2": "-1 day, 19:00:00",
                                    "3": "True"
                                },
                                {
                                    "0": "America/Rio_Branco",
                                    "1": "-05",
                                    "2": "-1 day, 19:00:00",
                                    "3": "False"
                                },
                                {
                                    "0": "America/Rosario",
                                    "1": "-03",
                                    "2": "-1 day, 21:00:00",
                                    "3": "False"
                                },
                                {
                                    "0": "America/Santarem",
                                    "1": "-03",
                                    "2": "-1 day, 21:00:00",
                                    "3": "False"
                                },
                                {
                                    "0": "America/Santa_Isabel",
                                    "1": "PDT",
                                    "2": "-1 day, 17:00:00",
                                    "3": "True"
                                },
                                {
                                    "0": "America/Santiago",
                                    "1": "-04",
                                    "2": "-1 day, 20:00:00",
                                    "3": "False"
                                },
                                {
                                    "0": "America/Santo_Domingo",
                                    "1": "AST",
                                    "2": "-1 day, 20:00:00",
                                    "3": "False"
                                },
                                {
                                    "0": "America/Sao_Paulo",
                                    "1": "-03",
                                    "2": "-1 day, 21:00:00",
                                    "3": "False"
                                },
                                {
                                    "0": "America/Scoresbysund",
                                    "1": "+00",
                                    "2": "0:00:00",
                                    "3": "True"
                                },
                                {
                                    "0": "America/Shiprock",
                                    "1": "MDT",
                                    "2": "-1 day, 18:00:00",
                                    "3": "True"
                                },
                                {
                                    "0": "America/Sitka",
                                    "1": "AKDT",
                                    "2": "-1 day, 16:00:00",
                                    "3": "True"
                                },
                                {
                                    "0": "America/St_Barthelemy",
                                    "1": "AST",
                                    "2": "-1 day, 20:00:00",
                                    "3": "False"
                                },
                                {
                                    "0": "America/St_Johns",
                                    "1": "NDT",
                                    "2": "-1 day, 21:30:00",
                                    "3": "True"
                                },
                                {
                                    "0": "America/St_Kitts",
                                    "1": "AST",
                                    "2": "-1 day, 20:00:00",
                                    "3": "False"
                                },
                                {
                                    "0": "America/St_Lucia",
                                    "1": "AST",
                                    "2": "-1 day, 20:00:00",
                                    "3": "False"
                                },
                                {
                                    "0": "America/St_Thomas",
                                    "1": "AST",
                                    "2": "-1 day, 20:00:00",
                                    "3": "False"
                                },
                                {
                                    "0": "America/St_Vincent",
                                    "1": "AST",
                                    "2": "-1 day, 20:00:00",
                                    "3": "False"
                                },
                                {
                                    "0": "America/Swift_Current",
                                    "1": "CST",
                                    "2": "-1 day, 18:00:00",
                                    "3": "False"
                                },
                                {
                                    "0": "America/Tegucigalpa",
                                    "1": "CST",
                                    "2": "-1 day, 18:00:00",
                                    "3": "False"
                                },
                                {
                                    "0": "America/Thule",
                                    "1": "ADT",
                                    "2": "-1 day, 21:00:00",
                                    "3": "True"
                                },
                                {
                                    "0": "America/Thunder_Bay",
                                    "1": "EDT",
                                    "2": "-1 day, 20:00:00",
                                    "3": "True"
                                },
                                {
                                    "0": "America/Tijuana",
                                    "1": "PDT",
                                    "2": "-1 day, 17:00:00",
                                    "3": "True"
                                },
                                {
                                    "0": "America/Toronto",
                                    "1": "EDT",
                                    "2": "-1 day, 20:00:00",
                                    "3": "True"
                                },
                                {
                                    "0": "America/Tortola",
                                    "1": "AST",
                                    "2": "-1 day, 20:00:00",
                                    "3": "False"
                                },
                                {
                                    "0": "America/Vancouver",
                                    "1": "PDT",
                                    "2": "-1 day, 17:00:00",
                                    "3": "True"
                                },
                                {
                                    "0": "America/Virgin",
                                    "1": "AST",
                                    "2": "-1 day, 20:00:00",
                                    "3": "False"
                                },
                                {
                                    "0": "America/Whitehorse",
                                    "1": "MST",
                                    "2": "-1 day, 17:00:00",
                                    "3": "False"
                                },
                                {
                                    "0": "America/Winnipeg",
                                    "1": "CDT",
                                    "2": "-1 day, 19:00:00",
                                    "3": "True"
                                },
                                {
                                    "0": "America/Yakutat",
                                    "1": "AKDT",
                                    "2": "-1 day, 16:00:00",
                                    "3": "True"
                                },
                                {
                                    "0": "America/Yellowknife",
                                    "1": "MDT",
                                    "2": "-1 day, 18:00:00",
                                    "3": "True"
                                },
                                {
                                    "0": "Antarctica/Casey",
                                    "1": "+11",
                                    "2": "11:00:00",
                                    "3": "False"
                                },
                                {
                                    "0": "Antarctica/Davis",
                                    "1": "+07",
                                    "2": "7:00:00",
                                    "3": "False"
                                },
                                {
                                    "0": "Antarctica/DumontDUrville",
                                    "1": "+10",
                                    "2": "10:00:00",
                                    "3": "False"
                                },
                                {
                                    "0": "Antarctica/Macquarie",
                                    "1": "AEST",
                                    "2": "10:00:00",
                                    "3": "False"
                                },
                                {
                                    "0": "Antarctica/Mawson",
                                    "1": "+05",
                                    "2": "5:00:00",
                                    "3": "False"
                                },
                                {
                                    "0": "Antarctica/McMurdo",
                                    "1": "NZST",
                                    "2": "12:00:00",
                                    "3": "False"
                                },
                                {
                                    "0": "Antarctica/Palmer",
                                    "1": "-03",
                                    "2": "-1 day, 21:00:00",
                                    "3": "False"
                                },
                                {
                                    "0": "Antarctica/Rothera",
                                    "1": "-03",
                                    "2": "-1 day, 21:00:00",
                                    "3": "False"
                                },
                                {
                                    "0": "Antarctica/South_Pole",
                                    "1": "NZST",
                                    "2": "12:00:00",
                                    "3": "False"
                                },
                                {
                                    "0": "Antarctica/Syowa",
                                    "1": "+03",
                                    "2": "3:00:00",
                                    "3": "False"
                                },
                                {
                                    "0": "Antarctica/Troll",
                                    "1": "+02",
                                    "2": "2:00:00",
                                    "3": "True"
                                },
                                {
                                    "0": "Antarctica/Vostok",
                                    "1": "+06",
                                    "2": "6:00:00",
                                    "3": "False"
                                },
                                {
                                    "0": "Arctic/Longyearbyen",
                                    "1": "CEST",
                                    "2": "2:00:00",
                                    "3": "True"
                                },
                                {
                                    "0": "Asia/Aden",
                                    "1": "+03",
                                    "2": "3:00:00",
                                    "3": "False"
                                },
                                {
                                    "0": "Asia/Almaty",
                                    "1": "+06",
                                    "2": "6:00:00",
                                    "3": "False"
                                },
                                {
                                    "0": "Asia/Amman",
                                    "1": "EEST",
                                    "2": "3:00:00",
                                    "3": "True"
                                },
                                {
                                    "0": "Asia/Anadyr",
                                    "1": "+12",
                                    "2": "12:00:00",
                                    "3": "False"
                                },
                                {
                                    "0": "Asia/Aqtau",
                                    "1": "+05",
                                    "2": "5:00:00",
                                    "3": "False"
                                },
                                {
                                    "0": "Asia/Aqtobe",
                                    "1": "+05",
                                    "2": "5:00:00",
                                    "3": "False"
                                },
                                {
                                    "0": "Asia/Ashgabat",
                                    "1": "+05",
                                    "2": "5:00:00",
                                    "3": "False"
                                },
                                {
                                    "0": "Asia/Ashkhabad",
                                    "1": "+05",
                                    "2": "5:00:00",
                                    "3": "False"
                                },
                                {
                                    "0": "Asia/Atyrau",
                                    "1": "+05",
                                    "2": "5:00:00",
                                    "3": "False"
                                },
                                {
                                    "0": "Asia/Baghdad",
                                    "1": "+03",
                                    "2": "3:00:00",
                                    "3": "False"
                                },
                                {
                                    "0": "Asia/Bahrain",
                                    "1": "+03",
                                    "2": "3:00:00",
                                    "3": "False"
                                },
                                {
                                    "0": "Asia/Baku",
                                    "1": "+04",
                                    "2": "4:00:00",
                                    "3": "False"
                                },
                                {
                                    "0": "Asia/Bangkok",
                                    "1": "+07",
                                    "2": "7:00:00",
                                    "3": "False"
                                },
                                {
                                    "0": "Asia/Barnaul",
                                    "1": "+07",
                                    "2": "7:00:00",
                                    "3": "False"
                                },
                                {
                                    "0": "Asia/Beirut",
                                    "1": "EEST",
                                    "2": "3:00:00",
                                    "3": "True"
                                },
                                {
                                    "0": "Asia/Bishkek",
                                    "1": "+06",
                                    "2": "6:00:00",
                                    "3": "False"
                                },
                                {
                                    "0": "Asia/Brunei",
                                    "1": "+08",
                                    "2": "8:00:00",
                                    "3": "False"
                                },
                                {
                                    "0": "Asia/Calcutta",
                                    "1": "IST",
                                    "2": "5:30:00",
                                    "3": "False"
                                },
                                {
                                    "0": "Asia/Chita",
                                    "1": "+09",
                                    "2": "9:00:00",
                                    "3": "False"
                                },
                                {
                                    "0": "Asia/Choibalsan",
                                    "1": "+08",
                                    "2": "8:00:00",
                                    "3": "False"
                                },
                                {
                                    "0": "Asia/Chongqing",
                                    "1": "CST",
                                    "2": "8:00:00",
                                    "3": "False"
                                },
                                {
                                    "0": "Asia/Chungking",
                                    "1": "CST",
                                    "2": "8:00:00",
                                    "3": "False"
                                },
                                {
                                    "0": "Asia/Colombo",
                                    "1": "+0530",
                                    "2": "5:30:00",
                                    "3": "False"
                                },
                                {
                                    "0": "Asia/Dacca",
                                    "1": "+06",
                                    "2": "6:00:00",
                                    "3": "False"
                                },
                                {
                                    "0": "Asia/Damascus",
                                    "1": "EEST",
                                    "2": "3:00:00",
                                    "3": "True"
                                },
                                {
                                    "0": "Asia/Dhaka",
                                    "1": "+06",
                                    "2": "6:00:00",
                                    "3": "False"
                                },
                                {
                                    "0": "Asia/Dili",
                                    "1": "+09",
                                    "2": "9:00:00",
                                    "3": "False"
                                },
                                {
                                    "0": "Asia/Dubai",
                                    "1": "+04",
                                    "2": "4:00:00",
                                    "3": "False"
                                },
                                {
                                    "0": "Asia/Dushanbe",
                                    "1": "+05",
                                    "2": "5:00:00",
                                    "3": "False"
                                },
                                {
                                    "0": "Asia/Famagusta",
                                    "1": "EEST",
                                    "2": "3:00:00",
                                    "3": "True"
                                },
                                {
                                    "0": "Asia/Gaza",
                                    "1": "EEST",
                                    "2": "3:00:00",
                                    "3": "True"
                                },
                                {
                                    "0": "Asia/Harbin",
                                    "1": "CST",
                                    "2": "8:00:00",
                                    "3": "False"
                                },
                                {
                                    "0": "Asia/Hebron",
                                    "1": "EEST",
                                    "2": "3:00:00",
                                    "3": "True"
                                },
                                {
                                    "0": "Asia/Hong_Kong",
                                    "1": "HKT",
                                    "2": "8:00:00",
                                    "3": "False"
                                },
                                {
                                    "0": "Asia/Hovd",
                                    "1": "+07",
                                    "2": "7:00:00",
                                    "3": "False"
                                },
                                {
                                    "0": "Asia/Ho_Chi_Minh",
                                    "1": "+07",
                                    "2": "7:00:00",
                                    "3": "False"
                                },
                                {
                                    "0": "Asia/Irkutsk",
                                    "1": "+08",
                                    "2": "8:00:00",
                                    "3": "False"
                                },
                                {
                                    "0": "Asia/Istanbul",
                                    "1": "+03",
                                    "2": "3:00:00",
                                    "3": "False"
                                },
                                {
                                    "0": "Asia/Jakarta",
                                    "1": "WIB",
                                    "2": "7:00:00",
                                    "3": "False"
                                },
                                {
                                    "0": "Asia/Jayapura",
                                    "1": "WIT",
                                    "2": "9:00:00",
                                    "3": "False"
                                },
                                {
                                    "0": "Asia/Jerusalem",
                                    "1": "IDT",
                                    "2": "3:00:00",
                                    "3": "True"
                                },
                                {
                                    "0": "Asia/Kabul",
                                    "1": "+0430",
                                    "2": "4:30:00",
                                    "3": "False"
                                },
                                {
                                    "0": "Asia/Kamchatka",
                                    "1": "+12",
                                    "2": "12:00:00",
                                    "3": "False"
                                },
                                {
                                    "0": "Asia/Karachi",
                                    "1": "PKT",
                                    "2": "5:00:00",
                                    "3": "False"
                                },
                                {
                                    "0": "Asia/Kashgar",
                                    "1": "+06",
                                    "2": "6:00:00",
                                    "3": "False"
                                },
                                {
                                    "0": "Asia/Kathmandu",
                                    "1": "+0545",
                                    "2": "5:45:00",
                                    "3": "False"
                                },
                                {
                                    "0": "Asia/Katmandu",
                                    "1": "+0545",
                                    "2": "5:45:00",
                                    "3": "False"
                                },
                                {
                                    "0": "Asia/Khandyga",
                                    "1": "+09",
                                    "2": "9:00:00",
                                    "3": "False"
                                },
                                {
                                    "0": "Asia/Kolkata",
                                    "1": "IST",
                                    "2": "5:30:00",
                                    "3": "False"
                                },
                                {
                                    "0": "Asia/Krasnoyarsk",
                                    "1": "+07",
                                    "2": "7:00:00",
                                    "3": "False"
                                },
                                {
                                    "0": "Asia/Kuala_Lumpur",
                                    "1": "+08",
                                    "2": "8:00:00",
                                    "3": "False"
                                },
                                {
                                    "0": "Asia/Kuching",
                                    "1": "+08",
                                    "2": "8:00:00",
                                    "3": "False"
                                },
                                {
                                    "0": "Asia/Kuwait",
                                    "1": "+03",
                                    "2": "3:00:00",
                                    "3": "False"
                                },
                                {
                                    "0": "Asia/Macao",
                                    "1": "CST",
                                    "2": "8:00:00",
                                    "3": "False"
                                },
                                {
                                    "0": "Asia/Macau",
                                    "1": "CST",
                                    "2": "8:00:00",
                                    "3": "False"
                                },
                                {
                                    "0": "Asia/Magadan",
                                    "1": "+11",
                                    "2": "11:00:00",
                                    "3": "False"
                                },
                                {
                                    "0": "Asia/Makassar",
                                    "1": "WITA",
                                    "2": "8:00:00",
                                    "3": "False"
                                },
                                {
                                    "0": "Asia/Manila",
                                    "1": "PST",
                                    "2": "8:00:00",
                                    "3": "False"
                                },
                                {
                                    "0": "Asia/Muscat",
                                    "1": "+04",
                                    "2": "4:00:00",
                                    "3": "False"
                                },
                                {
                                    "0": "Asia/Nicosia",
                                    "1": "EEST",
                                    "2": "3:00:00",
                                    "3": "True"
                                },
                                {
                                    "0": "Asia/Novokuznetsk",
                                    "1": "+07",
                                    "2": "7:00:00",
                                    "3": "False"
                                },
                                {
                                    "0": "Asia/Novosibirsk",
                                    "1": "+07",
                                    "2": "7:00:00",
                                    "3": "False"
                                },
                                {
                                    "0": "Asia/Omsk",
                                    "1": "+06",
                                    "2": "6:00:00",
                                    "3": "False"
                                },
                                {
                                    "0": "Asia/Oral",
                                    "1": "+05",
                                    "2": "5:00:00",
                                    "3": "False"
                                },
                                {
                                    "0": "Asia/Phnom_Penh",
                                    "1": "+07",
                                    "2": "7:00:00",
                                    "3": "False"
                                },
                                {
                                    "0": "Asia/Pontianak",
                                    "1": "WIB",
                                    "2": "7:00:00",
                                    "3": "False"
                                },
                                {
                                    "0": "Asia/Pyongyang",
                                    "1": "KST",
                                    "2": "9:00:00",
                                    "3": "False"
                                },
                                {
                                    "0": "Asia/Qatar",
                                    "1": "+03",
                                    "2": "3:00:00",
                                    "3": "False"
                                },
                                {
                                    "0": "Asia/Qostanay",
                                    "1": "+06",
                                    "2": "6:00:00",
                                    "3": "False"
                                },
                                {
                                    "0": "Asia/Qyzylorda",
                                    "1": "+05",
                                    "2": "5:00:00",
                                    "3": "False"
                                },
                                {
                                    "0": "Asia/Rangoon",
                                    "1": "+0630",
                                    "2": "6:30:00",
                                    "3": "False"
                                },
                                {
                                    "0": "Asia/Riyadh",
                                    "1": "+03",
                                    "2": "3:00:00",
                                    "3": "False"
                                },
                                {
                                    "0": "Asia/Saigon",
                                    "1": "+07",
                                    "2": "7:00:00",
                                    "3": "False"
                                },
                                {
                                    "0": "Asia/Sakhalin",
                                    "1": "+11",
                                    "2": "11:00:00",
                                    "3": "False"
                                },
                                {
                                    "0": "Asia/Samarkand",
                                    "1": "+05",
                                    "2": "5:00:00",
                                    "3": "False"
                                },
                                {
                                    "0": "Asia/Seoul",
                                    "1": "KST",
                                    "2": "9:00:00",
                                    "3": "False"
                                },
                                {
                                    "0": "Asia/Shanghai",
                                    "1": "CST",
                                    "2": "8:00:00",
                                    "3": "False"
                                },
                                {
                                    "0": "Asia/Singapore",
                                    "1": "+08",
                                    "2": "8:00:00",
                                    "3": "False"
                                },
                                {
                                    "0": "Asia/Srednekolymsk",
                                    "1": "+11",
                                    "2": "11:00:00",
                                    "3": "False"
                                },
                                {
                                    "0": "Asia/Taipei",
                                    "1": "CST",
                                    "2": "8:00:00",
                                    "3": "False"
                                },
                                {
                                    "0": "Asia/Tashkent",
                                    "1": "+05",
                                    "2": "5:00:00",
                                    "3": "False"
                                },
                                {
                                    "0": "Asia/Tbilisi",
                                    "1": "+04",
                                    "2": "4:00:00",
                                    "3": "False"
                                },
                                {
                                    "0": "Asia/Tehran",
                                    "1": "+0430",
                                    "2": "4:30:00",
                                    "3": "True"
                                },
                                {
                                    "0": "Asia/Tel_Aviv",
                                    "1": "IDT",
                                    "2": "3:00:00",
                                    "3": "True"
                                },
                                {
                                    "0": "Asia/Thimbu",
                                    "1": "+06",
                                    "2": "6:00:00",
                                    "3": "False"
                                },
                                {
                                    "0": "Asia/Thimphu",
                                    "1": "+06",
                                    "2": "6:00:00",
                                    "3": "False"
                                },
                                {
                                    "0": "Asia/Tokyo",
                                    "1": "JST",
                                    "2": "9:00:00",
                                    "3": "False"
                                },
                                {
                                    "0": "Asia/Tomsk",
                                    "1": "+07",
                                    "2": "7:00:00",
                                    "3": "False"
                                },
                                {
                                    "0": "Asia/Ujung_Pandang",
                                    "1": "WITA",
                                    "2": "8:00:00",
                                    "3": "False"
                                },
                                {
                                    "0": "Asia/Ulaanbaatar",
                                    "1": "+08",
                                    "2": "8:00:00",
                                    "3": "False"
                                },
                                {
                                    "0": "Asia/Ulan_Bator",
                                    "1": "+08",
                                    "2": "8:00:00",
                                    "3": "False"
                                },
                                {
                                    "0": "Asia/Urumqi",
                                    "1": "+06",
                                    "2": "6:00:00",
                                    "3": "False"
                                },
                                {
                                    "0": "Asia/Ust-Nera",
                                    "1": "+10",
                                    "2": "10:00:00",
                                    "3": "False"
                                },
                                {
                                    "0": "Asia/Vientiane",
                                    "1": "+07",
                                    "2": "7:00:00",
                                    "3": "False"
                                },
                                {
                                    "0": "Asia/Vladivostok",
                                    "1": "+10",
                                    "2": "10:00:00",
                                    "3": "False"
                                },
                                {
                                    "0": "Asia/Yakutsk",
                                    "1": "+09",
                                    "2": "9:00:00",
                                    "3": "False"
                                },
                                {
                                    "0": "Asia/Yangon",
                                    "1": "+0630",
                                    "2": "6:30:00",
                                    "3": "False"
                                },
                                {
                                    "0": "Asia/Yekaterinburg",
                                    "1": "+05",
                                    "2": "5:00:00",
                                    "3": "False"
                                },
                                {
                                    "0": "Asia/Yerevan",
                                    "1": "+04",
                                    "2": "4:00:00",
                                    "3": "False"
                                },
                                {
                                    "0": "Atlantic/Azores",
                                    "1": "+00",
                                    "2": "0:00:00",
                                    "3": "True"
                                },
                                {
                                    "0": "Atlantic/Bermuda",
                                    "1": "ADT",
                                    "2": "-1 day, 21:00:00",
                                    "3": "True"
                                },
                                {
                                    "0": "Atlantic/Canary",
                                    "1": "WEST",
                                    "2": "1:00:00",
                                    "3": "True"
                                },
                                {
                                    "0": "Atlantic/Cape_Verde",
                                    "1": "-01",
                                    "2": "-1 day, 23:00:00",
                                    "3": "False"
                                },
                                {
                                    "0": "Atlantic/Faeroe",
                                    "1": "WEST",
                                    "2": "1:00:00",
                                    "3": "True"
                                },
                                {
                                    "0": "Atlantic/Faroe",
                                    "1": "WEST",
                                    "2": "1:00:00",
                                    "3": "True"
                                },
                                {
                                    "0": "Atlantic/Jan_Mayen",
                                    "1": "CEST",
                                    "2": "2:00:00",
                                    "3": "True"
                                },
                                {
                                    "0": "Atlantic/Madeira",
                                    "1": "WEST",
                                    "2": "1:00:00",
                                    "3": "True"
                                },
                                {
                                    "0": "Atlantic/Reykjavik",
                                    "1": "GMT",
                                    "2": "0:00:00",
                                    "3": "False"
                                },
                                {
                                    "0": "Atlantic/South_Georgia",
                                    "1": "-02",
                                    "2": "-1 day, 22:00:00",
                                    "3": "False"
                                },
                                {
                                    "0": "Atlantic/Stanley",
                                    "1": "-03",
                                    "2": "-1 day, 21:00:00",
                                    "3": "False"
                                },
                                {
                                    "0": "Atlantic/St_Helena",
                                    "1": "GMT",
                                    "2": "0:00:00",
                                    "3": "False"
                                },
                                {
                                    "0": "Australia/ACT",
                                    "1": "AEST",
                                    "2": "10:00:00",
                                    "3": "False"
                                },
                                {
                                    "0": "Australia/Adelaide",
                                    "1": "ACST",
                                    "2": "9:30:00",
                                    "3": "False"
                                },
                                {
                                    "0": "Australia/Brisbane",
                                    "1": "AEST",
                                    "2": "10:00:00",
                                    "3": "False"
                                },
                                {
                                    "0": "Australia/Broken_Hill",
                                    "1": "ACST",
                                    "2": "9:30:00",
                                    "3": "False"
                                },
                                {
                                    "0": "Australia/Canberra",
                                    "1": "AEST",
                                    "2": "10:00:00",
                                    "3": "False"
                                },
                                {
                                    "0": "Australia/Currie",
                                    "1": "AEST",
                                    "2": "10:00:00",
                                    "3": "False"
                                },
                                {
                                    "0": "Australia/Darwin",
                                    "1": "ACST",
                                    "2": "9:30:00",
                                    "3": "False"
                                },
                                {
                                    "0": "Australia/Eucla",
                                    "1": "+0845",
                                    "2": "8:45:00",
                                    "3": "False"
                                },
                                {
                                    "0": "Australia/Hobart",
                                    "1": "AEST",
                                    "2": "10:00:00",
                                    "3": "False"
                                },
                                {
                                    "0": "Australia/LHI",
                                    "1": "+1030",
                                    "2": "10:30:00",
                                    "3": "False"
                                },
                                {
                                    "0": "Australia/Lindeman",
                                    "1": "AEST",
                                    "2": "10:00:00",
                                    "3": "False"
                                },
                                {
                                    "0": "Australia/Lord_Howe",
                                    "1": "+1030",
                                    "2": "10:30:00",
                                    "3": "False"
                                },
                                {
                                    "0": "Australia/Melbourne",
                                    "1": "AEST",
                                    "2": "10:00:00",
                                    "3": "False"
                                },
                                {
                                    "0": "Australia/North",
                                    "1": "ACST",
                                    "2": "9:30:00",
                                    "3": "False"
                                },
                                {
                                    "0": "Australia/NSW",
                                    "1": "AEST",
                                    "2": "10:00:00",
                                    "3": "False"
                                },
                                {
                                    "0": "Australia/Perth",
                                    "1": "AWST",
                                    "2": "8:00:00",
                                    "3": "False"
                                },
                                {
                                    "0": "Australia/Queensland",
                                    "1": "AEST",
                                    "2": "10:00:00",
                                    "3": "False"
                                },
                                {
                                    "0": "Australia/South",
                                    "1": "ACST",
                                    "2": "9:30:00",
                                    "3": "False"
                                },
                                {
                                    "0": "Australia/Sydney",
                                    "1": "AEST",
                                    "2": "10:00:00",
                                    "3": "False"
                                },
                                {
                                    "0": "Australia/Tasmania",
                                    "1": "AEST",
                                    "2": "10:00:00",
                                    "3": "False"
                                },
                                {
                                    "0": "Australia/Victoria",
                                    "1": "AEST",
                                    "2": "10:00:00",
                                    "3": "False"
                                },
                                {
                                    "0": "Australia/West",
                                    "1": "AWST",
                                    "2": "8:00:00",
                                    "3": "False"
                                },
                                {
                                    "0": "Australia/Yancowinna",
                                    "1": "ACST",
                                    "2": "9:30:00",
                                    "3": "False"
                                },
                                {
                                    "0": "Brazil/Acre",
                                    "1": "-05",
                                    "2": "-1 day, 19:00:00",
                                    "3": "False"
                                },
                                {
                                    "0": "Brazil/DeNoronha",
                                    "1": "-02",
                                    "2": "-1 day, 22:00:00",
                                    "3": "False"
                                },
                                {
                                    "0": "Brazil/East",
                                    "1": "-03",
                                    "2": "-1 day, 21:00:00",
                                    "3": "False"
                                },
                                {
                                    "0": "Brazil/West",
                                    "1": "-04",
                                    "2": "-1 day, 20:00:00",
                                    "3": "False"
                                },
                                {
                                    "0": "Canada/Atlantic",
                                    "1": "ADT",
                                    "2": "-1 day, 21:00:00",
                                    "3": "True"
                                },
                                {
                                    "0": "Canada/Central",
                                    "1": "CDT",
                                    "2": "-1 day, 19:00:00",
                                    "3": "True"
                                },
                                {
                                    "0": "Canada/Eastern",
                                    "1": "EDT",
                                    "2": "-1 day, 20:00:00",
                                    "3": "True"
                                },
                                {
                                    "0": "Canada/Mountain",
                                    "1": "MDT",
                                    "2": "-1 day, 18:00:00",
                                    "3": "True"
                                },
                                {
                                    "0": "Canada/Newfoundland",
                                    "1": "NDT",
                                    "2": "-1 day, 21:30:00",
                                    "3": "True"
                                },
                                {
                                    "0": "Canada/Pacific",
                                    "1": "PDT",
                                    "2": "-1 day, 17:00:00",
                                    "3": "True"
                                },
                                {
                                    "0": "Canada/Saskatchewan",
                                    "1": "CST",
                                    "2": "-1 day, 18:00:00",
                                    "3": "False"
                                },
                                {
                                    "0": "Canada/Yukon",
                                    "1": "MST",
                                    "2": "-1 day, 17:00:00",
                                    "3": "False"
                                },
                                {
                                    "0": "CET",
                                    "1": "CEST",
                                    "2": "2:00:00",
                                    "3": "True"
                                },
                                {
                                    "0": "Chile/Continental",
                                    "1": "-04",
                                    "2": "-1 day, 20:00:00",
                                    "3": "False"
                                },
                                {
                                    "0": "Chile/EasterIsland",
                                    "1": "-06",
                                    "2": "-1 day, 18:00:00",
                                    "3": "False"
                                },
                                {
                                    "0": "CST6CDT",
                                    "1": "CDT",
                                    "2": "-1 day, 19:00:00",
                                    "3": "True"
                                },
                                {
                                    "0": "Cuba",
                                    "1": "CDT",
                                    "2": "-1 day, 20:00:00",
                                    "3": "True"
                                },
                                {
                                    "0": "EET",
                                    "1": "EEST",
                                    "2": "3:00:00",
                                    "3": "True"
                                },
                                {
                                    "0": "Egypt",
                                    "1": "EET",
                                    "2": "2:00:00",
                                    "3": "False"
                                },
                                {
                                    "0": "Eire",
                                    "1": "IST",
                                    "2": "1:00:00",
                                    "3": "False"
                                },
                                {
                                    "0": "EST",
                                    "1": "EST",
                                    "2": "-1 day, 19:00:00",
                                    "3": "False"
                                },
                                {
                                    "0": "EST5EDT",
                                    "1": "EDT",
                                    "2": "-1 day, 20:00:00",
                                    "3": "True"
                                },
                                {
                                    "0": "Etc/GMT",
                                    "1": "GMT",
                                    "2": "0:00:00",
                                    "3": "False"
                                },
                                {
                                    "0": "Etc/GMT+0",
                                    "1": "GMT",
                                    "2": "0:00:00",
                                    "3": "False"
                                },
                                {
                                    "0": "Etc/GMT+1",
                                    "1": "-01",
                                    "2": "-1 day, 23:00:00",
                                    "3": "False"
                                },
                                {
                                    "0": "Etc/GMT+10",
                                    "1": "-10",
                                    "2": "-1 day, 14:00:00",
                                    "3": "False"
                                },
                                {
                                    "0": "Etc/GMT+11",
                                    "1": "-11",
                                    "2": "-1 day, 13:00:00",
                                    "3": "False"
                                },
                                {
                                    "0": "Etc/GMT+12",
                                    "1": "-12",
                                    "2": "-1 day, 12:00:00",
                                    "3": "False"
                                },
                                {
                                    "0": "Etc/GMT+2",
                                    "1": "-02",
                                    "2": "-1 day, 22:00:00",
                                    "3": "False"
                                },
                                {
                                    "0": "Etc/GMT+3",
                                    "1": "-03",
                                    "2": "-1 day, 21:00:00",
                                    "3": "False"
                                },
                                {
                                    "0": "Etc/GMT+4",
                                    "1": "-04",
                                    "2": "-1 day, 20:00:00",
                                    "3": "False"
                                },
                                {
                                    "0": "Etc/GMT+5",
                                    "1": "-05",
                                    "2": "-1 day, 19:00:00",
                                    "3": "False"
                                },
                                {
                                    "0": "Etc/GMT+6",
                                    "1": "-06",
                                    "2": "-1 day, 18:00:00",
                                    "3": "False"
                                },
                                {
                                    "0": "Etc/GMT+7",
                                    "1": "-07",
                                    "2": "-1 day, 17:00:00",
                                    "3": "False"
                                },
                                {
                                    "0": "Etc/GMT+8",
                                    "1": "-08",
                                    "2": "-1 day, 16:00:00",
                                    "3": "False"
                                },
                                {
                                    "0": "Etc/GMT+9",
                                    "1": "-09",
                                    "2": "-1 day, 15:00:00",
                                    "3": "False"
                                },
                                {
                                    "0": "Etc/GMT-0",
                                    "1": "GMT",
                                    "2": "0:00:00",
                                    "3": "False"
                                },
                                {
                                    "0": "Etc/GMT-1",
                                    "1": "+01",
                                    "2": "1:00:00",
                                    "3": "False"
                                },
                                {
                                    "0": "Etc/GMT-10",
                                    "1": "+10",
                                    "2": "10:00:00",
                                    "3": "False"
                                },
                                {
                                    "0": "Etc/GMT-11",
                                    "1": "+11",
                                    "2": "11:00:00",
                                    "3": "False"
                                },
                                {
                                    "0": "Etc/GMT-12",
                                    "1": "+12",
                                    "2": "12:00:00",
                                    "3": "False"
                                },
                                {
                                    "0": "Etc/GMT-13",
                                    "1": "+13",
                                    "2": "13:00:00",
                                    "3": "False"
                                },
                                {
                                    "0": "Etc/GMT-14",
                                    "1": "+14",
                                    "2": "14:00:00",
                                    "3": "False"
                                },
                                {
                                    "0": "Etc/GMT-2",
                                    "1": "+02",
                                    "2": "2:00:00",
                                    "3": "False"
                                },
                                {
                                    "0": "Etc/GMT-3",
                                    "1": "+03",
                                    "2": "3:00:00",
                                    "3": "False"
                                },
                                {
                                    "0": "Etc/GMT-4",
                                    "1": "+04",
                                    "2": "4:00:00",
                                    "3": "False"
                                },
                                {
                                    "0": "Etc/GMT-5",
                                    "1": "+05",
                                    "2": "5:00:00",
                                    "3": "False"
                                },
                                {
                                    "0": "Etc/GMT-6",
                                    "1": "+06",
                                    "2": "6:00:00",
                                    "3": "False"
                                },
                                {
                                    "0": "Etc/GMT-7",
                                    "1": "+07",
                                    "2": "7:00:00",
                                    "3": "False"
                                },
                                {
                                    "0": "Etc/GMT-8",
                                    "1": "+08",
                                    "2": "8:00:00",
                                    "3": "False"
                                },
                                {
                                    "0": "Etc/GMT-9",
                                    "1": "+09",
                                    "2": "9:00:00",
                                    "3": "False"
                                },
                                {
                                    "0": "Etc/GMT0",
                                    "1": "GMT",
                                    "2": "0:00:00",
                                    "3": "False"
                                },
                                {
                                    "0": "Etc/Greenwich",
                                    "1": "GMT",
                                    "2": "0:00:00",
                                    "3": "False"
                                },
                                {
                                    "0": "Etc/UCT",
                                    "1": "UTC",
                                    "2": "0:00:00",
                                    "3": "False"
                                },
                                {
                                    "0": "Etc/Universal",
                                    "1": "UTC",
                                    "2": "0:00:00",
                                    "3": "False"
                                },
                                {
                                    "0": "Etc/UTC",
                                    "1": "UTC",
                                    "2": "0:00:00",
                                    "3": "False"
                                },
                                {
                                    "0": "Etc/Zulu",
                                    "1": "UTC",
                                    "2": "0:00:00",
                                    "3": "False"
                                },
                                {
                                    "0": "Europe/Amsterdam",
                                    "1": "CEST",
                                    "2": "2:00:00",
                                    "3": "True"
                                },
                                {
                                    "0": "Europe/Andorra",
                                    "1": "CEST",
                                    "2": "2:00:00",
                                    "3": "True"
                                },
                                {
                                    "0": "Europe/Astrakhan",
                                    "1": "+04",
                                    "2": "4:00:00",
                                    "3": "False"
                                },
                                {
                                    "0": "Europe/Athens",
                                    "1": "EEST",
                                    "2": "3:00:00",
                                    "3": "True"
                                },
                                {
                                    "0": "Europe/Belfast",
                                    "1": "BST",
                                    "2": "1:00:00",
                                    "3": "True"
                                },
                                {
                                    "0": "Europe/Belgrade",
                                    "1": "CEST",
                                    "2": "2:00:00",
                                    "3": "True"
                                },
                                {
                                    "0": "Europe/Berlin",
                                    "1": "CEST",
                                    "2": "2:00:00",
                                    "3": "True"
                                },
                                {
                                    "0": "Europe/Bratislava",
                                    "1": "CEST",
                                    "2": "2:00:00",
                                    "3": "True"
                                },
                                {
                                    "0": "Europe/Brussels",
                                    "1": "CEST",
                                    "2": "2:00:00",
                                    "3": "True"
                                },
                                {
                                    "0": "Europe/Bucharest",
                                    "1": "EEST",
                                    "2": "3:00:00",
                                    "3": "True"
                                },
                                {
                                    "0": "Europe/Budapest",
                                    "1": "CEST",
                                    "2": "2:00:00",
                                    "3": "True"
                                },
                                {
                                    "0": "Europe/Busingen",
                                    "1": "CEST",
                                    "2": "2:00:00",
                                    "3": "True"
                                },
                                {
                                    "0": "Europe/Chisinau",
                                    "1": "EEST",
                                    "2": "3:00:00",
                                    "3": "True"
                                },
                                {
                                    "0": "Europe/Copenhagen",
                                    "1": "CEST",
                                    "2": "2:00:00",
                                    "3": "True"
                                },
                                {
                                    "0": "Europe/Dublin",
                                    "1": "IST",
                                    "2": "1:00:00",
                                    "3": "False"
                                },
                                {
                                    "0": "Europe/Gibraltar",
                                    "1": "CEST",
                                    "2": "2:00:00",
                                    "3": "True"
                                },
                                {
                                    "0": "Europe/Guernsey",
                                    "1": "BST",
                                    "2": "1:00:00",
                                    "3": "True"
                                },
                                {
                                    "0": "Europe/Helsinki",
                                    "1": "EEST",
                                    "2": "3:00:00",
                                    "3": "True"
                                },
                                {
                                    "0": "Europe/Isle_of_Man",
                                    "1": "BST",
                                    "2": "1:00:00",
                                    "3": "True"
                                },
                                {
                                    "0": "Europe/Istanbul",
                                    "1": "+03",
                                    "2": "3:00:00",
                                    "3": "False"
                                },
                                {
                                    "0": "Europe/Jersey",
                                    "1": "BST",
                                    "2": "1:00:00",
                                    "3": "True"
                                },
                                {
                                    "0": "Europe/Kaliningrad",
                                    "1": "EET",
                                    "2": "2:00:00",
                                    "3": "False"
                                },
                                {
                                    "0": "Europe/Kiev",
                                    "1": "EEST",
                                    "2": "3:00:00",
                                    "3": "True"
                                },
                                {
                                    "0": "Europe/Kirov",
                                    "1": "+03",
                                    "2": "3:00:00",
                                    "3": "False"
                                },
                                {
                                    "0": "Europe/Lisbon",
                                    "1": "WEST",
                                    "2": "1:00:00",
                                    "3": "True"
                                },
                                {
                                    "0": "Europe/Ljubljana",
                                    "1": "CEST",
                                    "2": "2:00:00",
                                    "3": "True"
                                },
                                {
                                    "0": "Europe/London",
                                    "1": "BST",
                                    "2": "1:00:00",
                                    "3": "True"
                                },
                                {
                                    "0": "Europe/Luxembourg",
                                    "1": "CEST",
                                    "2": "2:00:00",
                                    "3": "True"
                                },
                                {
                                    "0": "Europe/Madrid",
                                    "1": "CEST",
                                    "2": "2:00:00",
                                    "3": "True"
                                },
                                {
                                    "0": "Europe/Malta",
                                    "1": "CEST",
                                    "2": "2:00:00",
                                    "3": "True"
                                },
                                {
                                    "0": "Europe/Mariehamn",
                                    "1": "EEST",
                                    "2": "3:00:00",
                                    "3": "True"
                                },
                                {
                                    "0": "Europe/Minsk",
                                    "1": "+03",
                                    "2": "3:00:00",
                                    "3": "False"
                                },
                                {
                                    "0": "Europe/Monaco",
                                    "1": "CEST",
                                    "2": "2:00:00",
                                    "3": "True"
                                },
                                {
                                    "0": "Europe/Moscow",
                                    "1": "MSK",
                                    "2": "3:00:00",
                                    "3": "False"
                                },
                                {
                                    "0": "Europe/Nicosia",
                                    "1": "EEST",
                                    "2": "3:00:00",
                                    "3": "True"
                                },
                                {
                                    "0": "Europe/Oslo",
                                    "1": "CEST",
                                    "2": "2:00:00",
                                    "3": "True"
                                },
                                {
                                    "0": "Europe/Paris",
                                    "1": "CEST",
                                    "2": "2:00:00",
                                    "3": "True"
                                },
                                {
                                    "0": "Europe/Podgorica",
                                    "1": "CEST",
                                    "2": "2:00:00",
                                    "3": "True"
                                },
                                {
                                    "0": "Europe/Prague",
                                    "1": "CEST",
                                    "2": "2:00:00",
                                    "3": "True"
                                },
                                {
                                    "0": "Europe/Riga",
                                    "1": "EEST",
                                    "2": "3:00:00",
                                    "3": "True"
                                },
                                {
                                    "0": "Europe/Rome",
                                    "1": "CEST",
                                    "2": "2:00:00",
                                    "3": "True"
                                },
                                {
                                    "0": "Europe/Samara",
                                    "1": "+04",
                                    "2": "4:00:00",
                                    "3": "False"
                                },
                                {
                                    "0": "Europe/San_Marino",
                                    "1": "CEST",
                                    "2": "2:00:00",
                                    "3": "True"
                                },
                                {
                                    "0": "Europe/Sarajevo",
                                    "1": "CEST",
                                    "2": "2:00:00",
                                    "3": "True"
                                },
                                {
                                    "0": "Europe/Saratov",
                                    "1": "+04",
                                    "2": "4:00:00",
                                    "3": "False"
                                },
                                {
                                    "0": "Europe/Simferopol",
                                    "1": "MSK",
                                    "2": "3:00:00",
                                    "3": "False"
                                },
                                {
                                    "0": "Europe/Skopje",
                                    "1": "CEST",
                                    "2": "2:00:00",
                                    "3": "True"
                                },
                                {
                                    "0": "Europe/Sofia",
                                    "1": "EEST",
                                    "2": "3:00:00",
                                    "3": "True"
                                },
                                {
                                    "0": "Europe/Stockholm",
                                    "1": "CEST",
                                    "2": "2:00:00",
                                    "3": "True"
                                },
                                {
                                    "0": "Europe/Tallinn",
                                    "1": "EEST",
                                    "2": "3:00:00",
                                    "3": "True"
                                },
                                {
                                    "0": "Europe/Tirane",
                                    "1": "CEST",
                                    "2": "2:00:00",
                                    "3": "True"
                                },
                                {
                                    "0": "Europe/Tiraspol",
                                    "1": "EEST",
                                    "2": "3:00:00",
                                    "3": "True"
                                },
                                {
                                    "0": "Europe/Ulyanovsk",
                                    "1": "+04",
                                    "2": "4:00:00",
                                    "3": "False"
                                },
                                {
                                    "0": "Europe/Uzhgorod",
                                    "1": "EEST",
                                    "2": "3:00:00",
                                    "3": "True"
                                },
                                {
                                    "0": "Europe/Vaduz",
                                    "1": "CEST",
                                    "2": "2:00:00",
                                    "3": "True"
                                },
                                {
                                    "0": "Europe/Vatican",
                                    "1": "CEST",
                                    "2": "2:00:00",
                                    "3": "True"
                                },
                                {
                                    "0": "Europe/Vienna",
                                    "1": "CEST",
                                    "2": "2:00:00",
                                    "3": "True"
                                },
                                {
                                    "0": "Europe/Vilnius",
                                    "1": "EEST",
                                    "2": "3:00:00",
                                    "3": "True"
                                },
                                {
                                    "0": "Europe/Volgograd",
                                    "1": "+03",
                                    "2": "3:00:00",
                                    "3": "False"
                                },
                                {
                                    "0": "Europe/Warsaw",
                                    "1": "CEST",
                                    "2": "2:00:00",
                                    "3": "True"
                                },
                                {
                                    "0": "Europe/Zagreb",
                                    "1": "CEST",
                                    "2": "2:00:00",
                                    "3": "True"
                                },
                                {
                                    "0": "Europe/Zaporozhye",
                                    "1": "EEST",
                                    "2": "3:00:00",
                                    "3": "True"
                                },
                                {
                                    "0": "Europe/Zurich",
                                    "1": "CEST",
                                    "2": "2:00:00",
                                    "3": "True"
                                },
                                {
                                    "0": "Factory",
                                    "1": "-00",
                                    "2": "0:00:00",
                                    "3": "False"
                                },
                                {
                                    "0": "GB",
                                    "1": "BST",
                                    "2": "1:00:00",
                                    "3": "True"
                                },
                                {
                                    "0": "GB-Eire",
                                    "1": "BST",
                                    "2": "1:00:00",
                                    "3": "True"
                                },
                                {
                                    "0": "GMT",
                                    "1": "GMT",
                                    "2": "0:00:00",
                                    "3": "False"
                                },
                                {
                                    "0": "GMT+0",
                                    "1": "GMT",
                                    "2": "0:00:00",
                                    "3": "False"
                                },
                                {
                                    "0": "GMT-0",
                                    "1": "GMT",
                                    "2": "0:00:00",
                                    "3": "False"
                                },
                                {
                                    "0": "GMT0",
                                    "1": "GMT",
                                    "2": "0:00:00",
                                    "3": "False"
                                },
                                {
                                    "0": "Greenwich",
                                    "1": "GMT",
                                    "2": "0:00:00",
                                    "3": "False"
                                },
                                {
                                    "0": "Hongkong",
                                    "1": "HKT",
                                    "2": "8:00:00",
                                    "3": "False"
                                },
                                {
                                    "0": "HST",
                                    "1": "HST",
                                    "2": "-1 day, 14:00:00",
                                    "3": "False"
                                },
                                {
                                    "0": "Iceland",
                                    "1": "GMT",
                                    "2": "0:00:00",
                                    "3": "False"
                                },
                                {
                                    "0": "Indian/Antananarivo",
                                    "1": "EAT",
                                    "2": "3:00:00",
                                    "3": "False"
                                },
                                {
                                    "0": "Indian/Chagos",
                                    "1": "+06",
                                    "2": "6:00:00",
                                    "3": "False"
                                },
                                {
                                    "0": "Indian/Christmas",
                                    "1": "+07",
                                    "2": "7:00:00",
                                    "3": "False"
                                },
                                {
                                    "0": "Indian/Cocos",
                                    "1": "+0630",
                                    "2": "6:30:00",
                                    "3": "False"
                                },
                                {
                                    "0": "Indian/Comoro",
                                    "1": "EAT",
                                    "2": "3:00:00",
                                    "3": "False"
                                },
                                {
                                    "0": "Indian/Kerguelen",
                                    "1": "+05",
                                    "2": "5:00:00",
                                    "3": "False"
                                },
                                {
                                    "0": "Indian/Mahe",
                                    "1": "+04",
                                    "2": "4:00:00",
                                    "3": "False"
                                },
                                {
                                    "0": "Indian/Maldives",
                                    "1": "+05",
                                    "2": "5:00:00",
                                    "3": "False"
                                },
                                {
                                    "0": "Indian/Mauritius",
                                    "1": "+04",
                                    "2": "4:00:00",
                                    "3": "False"
                                },
                                {
                                    "0": "Indian/Mayotte",
                                    "1": "EAT",
                                    "2": "3:00:00",
                                    "3": "False"
                                },
                                {
                                    "0": "Indian/Reunion",
                                    "1": "+04",
                                    "2": "4:00:00",
                                    "3": "False"
                                },
                                {
                                    "0": "Iran",
                                    "1": "+0430",
                                    "2": "4:30:00",
                                    "3": "True"
                                },
                                {
                                    "0": "Israel",
                                    "1": "IDT",
                                    "2": "3:00:00",
                                    "3": "True"
                                },
                                {
                                    "0": "Jamaica",
                                    "1": "EST",
                                    "2": "-1 day, 19:00:00",
                                    "3": "False"
                                },
                                {
                                    "0": "Japan",
                                    "1": "JST",
                                    "2": "9:00:00",
                                    "3": "False"
                                },
                                {
                                    "0": "Kwajalein",
                                    "1": "+12",
                                    "2": "12:00:00",
                                    "3": "False"
                                },
                                {
                                    "0": "Libya",
                                    "1": "EET",
                                    "2": "2:00:00",
                                    "3": "False"
                                },
                                {
                                    "0": "MET",
                                    "1": "MEST",
                                    "2": "2:00:00",
                                    "3": "True"
                                },
                                {
                                    "0": "Mexico/BajaNorte",
                                    "1": "PDT",
                                    "2": "-1 day, 17:00:00",
                                    "3": "True"
                                },
                                {
                                    "0": "Mexico/BajaSur",
                                    "1": "MDT",
                                    "2": "-1 day, 18:00:00",
                                    "3": "True"
                                },
                                {
                                    "0": "Mexico/General",
                                    "1": "CDT",
                                    "2": "-1 day, 19:00:00",
                                    "3": "True"
                                },
                                {
                                    "0": "MST",
                                    "1": "MST",
                                    "2": "-1 day, 17:00:00",
                                    "3": "False"
                                },
                                {
                                    "0": "MST7MDT",
                                    "1": "MDT",
                                    "2": "-1 day, 18:00:00",
                                    "3": "True"
                                },
                                {
                                    "0": "Navajo",
                                    "1": "MDT",
                                    "2": "-1 day, 18:00:00",
                                    "3": "True"
                                },
                                {
                                    "0": "NZ",
                                    "1": "NZST",
                                    "2": "12:00:00",
                                    "3": "False"
                                },
                                {
                                    "0": "NZ-CHAT",
                                    "1": "+1245",
                                    "2": "12:45:00",
                                    "3": "False"
                                },
                                {
                                    "0": "Pacific/Apia",
                                    "1": "+13",
                                    "2": "13:00:00",
                                    "3": "False"
                                },
                                {
                                    "0": "Pacific/Auckland",
                                    "1": "NZST",
                                    "2": "12:00:00",
                                    "3": "False"
                                },
                                {
                                    "0": "Pacific/Bougainville",
                                    "1": "+11",
                                    "2": "11:00:00",
                                    "3": "False"
                                },
                                {
                                    "0": "Pacific/Chatham",
                                    "1": "+1245",
                                    "2": "12:45:00",
                                    "3": "False"
                                },
                                {
                                    "0": "Pacific/Chuuk",
                                    "1": "+10",
                                    "2": "10:00:00",
                                    "3": "False"
                                },
                                {
                                    "0": "Pacific/Easter",
                                    "1": "-06",
                                    "2": "-1 day, 18:00:00",
                                    "3": "False"
                                },
                                {
                                    "0": "Pacific/Efate",
                                    "1": "+11",
                                    "2": "11:00:00",
                                    "3": "False"
                                },
                                {
                                    "0": "Pacific/Enderbury",
                                    "1": "+13",
                                    "2": "13:00:00",
                                    "3": "False"
                                },
                                {
                                    "0": "Pacific/Fakaofo",
                                    "1": "+13",
                                    "2": "13:00:00",
                                    "3": "False"
                                },
                                {
                                    "0": "Pacific/Fiji",
                                    "1": "+12",
                                    "2": "12:00:00",
                                    "3": "False"
                                },
                                {
                                    "0": "Pacific/Funafuti",
                                    "1": "+12",
                                    "2": "12:00:00",
                                    "3": "False"
                                },
                                {
                                    "0": "Pacific/Galapagos",
                                    "1": "-06",
                                    "2": "-1 day, 18:00:00",
                                    "3": "False"
                                },
                                {
                                    "0": "Pacific/Gambier",
                                    "1": "-09",
                                    "2": "-1 day, 15:00:00",
                                    "3": "False"
                                },
                                {
                                    "0": "Pacific/Guadalcanal",
                                    "1": "+11",
                                    "2": "11:00:00",
                                    "3": "False"
                                },
                                {
                                    "0": "Pacific/Guam",
                                    "1": "ChST",
                                    "2": "10:00:00",
                                    "3": "False"
                                },
                                {
                                    "0": "Pacific/Honolulu",
                                    "1": "HST",
                                    "2": "-1 day, 14:00:00",
                                    "3": "False"
                                },
                                {
                                    "0": "Pacific/Johnston",
                                    "1": "HST",
                                    "2": "-1 day, 14:00:00",
                                    "3": "False"
                                },
                                {
                                    "0": "Pacific/Kanton",
                                    "1": "+13",
                                    "2": "13:00:00",
                                    "3": "False"
                                },
                                {
                                    "0": "Pacific/Kiritimati",
                                    "1": "+14",
                                    "2": "14:00:00",
                                    "3": "False"
                                },
                                {
                                    "0": "Pacific/Kosrae",
                                    "1": "+11",
                                    "2": "11:00:00",
                                    "3": "False"
                                },
                                {
                                    "0": "Pacific/Kwajalein",
                                    "1": "+12",
                                    "2": "12:00:00",
                                    "3": "False"
                                },
                                {
                                    "0": "Pacific/Majuro",
                                    "1": "+12",
                                    "2": "12:00:00",
                                    "3": "False"
                                },
                                {
                                    "0": "Pacific/Marquesas",
                                    "1": "-0930",
                                    "2": "-1 day, 14:30:00",
                                    "3": "False"
                                },
                                {
                                    "0": "Pacific/Midway",
                                    "1": "SST",
                                    "2": "-1 day, 13:00:00",
                                    "3": "False"
                                },
                                {
                                    "0": "Pacific/Nauru",
                                    "1": "+12",
                                    "2": "12:00:00",
                                    "3": "False"
                                },
                                {
                                    "0": "Pacific/Niue",
                                    "1": "-11",
                                    "2": "-1 day, 13:00:00",
                                    "3": "False"
                                },
                                {
                                    "0": "Pacific/Norfolk",
                                    "1": "+11",
                                    "2": "11:00:00",
                                    "3": "False"
                                },
                                {
                                    "0": "Pacific/Noumea",
                                    "1": "+11",
                                    "2": "11:00:00",
                                    "3": "False"
                                },
                                {
                                    "0": "Pacific/Pago_Pago",
                                    "1": "SST",
                                    "2": "-1 day, 13:00:00",
                                    "3": "False"
                                },
                                {
                                    "0": "Pacific/Palau",
                                    "1": "+09",
                                    "2": "9:00:00",
                                    "3": "False"
                                },
                                {
                                    "0": "Pacific/Pitcairn",
                                    "1": "-08",
                                    "2": "-1 day, 16:00:00",
                                    "3": "False"
                                },
                                {
                                    "0": "Pacific/Pohnpei",
                                    "1": "+11",
                                    "2": "11:00:00",
                                    "3": "False"
                                },
                                {
                                    "0": "Pacific/Ponape",
                                    "1": "+11",
                                    "2": "11:00:00",
                                    "3": "False"
                                },
                                {
                                    "0": "Pacific/Port_Moresby",
                                    "1": "+10",
                                    "2": "10:00:00",
                                    "3": "False"
                                },
                                {
                                    "0": "Pacific/Rarotonga",
                                    "1": "-10",
                                    "2": "-1 day, 14:00:00",
                                    "3": "False"
                                },
                                {
                                    "0": "Pacific/Saipan",
                                    "1": "ChST",
                                    "2": "10:00:00",
                                    "3": "False"
                                },
                                {
                                    "0": "Pacific/Samoa",
                                    "1": "SST",
                                    "2": "-1 day, 13:00:00",
                                    "3": "False"
                                },
                                {
                                    "0": "Pacific/Tahiti",
                                    "1": "-10",
                                    "2": "-1 day, 14:00:00",
                                    "3": "False"
                                },
                                {
                                    "0": "Pacific/Tarawa",
                                    "1": "+12",
                                    "2": "12:00:00",
                                    "3": "False"
                                },
                                {
                                    "0": "Pacific/Tongatapu",
                                    "1": "+13",
                                    "2": "13:00:00",
                                    "3": "False"
                                },
                                {
                                    "0": "Pacific/Truk",
                                    "1": "+10",
                                    "2": "10:00:00",
                                    "3": "False"
                                },
                                {
                                    "0": "Pacific/Wake",
                                    "1": "+12",
                                    "2": "12:00:00",
                                    "3": "False"
                                },
                                {
                                    "0": "Pacific/Wallis",
                                    "1": "+12",
                                    "2": "12:00:00",
                                    "3": "False"
                                },
                                {
                                    "0": "Pacific/Yap",
                                    "1": "+10",
                                    "2": "10:00:00",
                                    "3": "False"
                                },
                                {
                                    "0": "Poland",
                                    "1": "CEST",
                                    "2": "2:00:00",
                                    "3": "True"
                                },
                                {
                                    "0": "Portugal",
                                    "1": "WEST",
                                    "2": "1:00:00",
                                    "3": "True"
                                },
                                {
                                    "0": "PRC",
                                    "1": "CST",
                                    "2": "8:00:00",
                                    "3": "False"
                                },
                                {
                                    "0": "PST8PDT",
                                    "1": "PDT",
                                    "2": "-1 day, 17:00:00",
                                    "3": "True"
                                },
                                {
                                    "0": "ROC",
                                    "1": "CST",
                                    "2": "8:00:00",
                                    "3": "False"
                                },
                                {
                                    "0": "ROK",
                                    "1": "KST",
                                    "2": "9:00:00",
                                    "3": "False"
                                },
                                {
                                    "0": "Singapore",
                                    "1": "+08",
                                    "2": "8:00:00",
                                    "3": "False"
                                },
                                {
                                    "0": "Turkey",
                                    "1": "+03",
                                    "2": "3:00:00",
                                    "3": "False"
                                },
                                {
                                    "0": "UCT",
                                    "1": "UTC",
                                    "2": "0:00:00",
                                    "3": "False"
                                },
                                {
                                    "0": "Universal",
                                    "1": "UTC",
                                    "2": "0:00:00",
                                    "3": "False"
                                },
                                {
                                    "0": "US/Alaska",
                                    "1": "AKDT",
                                    "2": "-1 day, 16:00:00",
                                    "3": "True"
                                },
                                {
                                    "0": "US/Aleutian",
                                    "1": "HDT",
                                    "2": "-1 day, 15:00:00",
                                    "3": "True"
                                },
                                {
                                    "0": "US/Arizona",
                                    "1": "MST",
                                    "2": "-1 day, 17:00:00",
                                    "3": "False"
                                },
                                {
                                    "0": "US/Central",
                                    "1": "CDT",
                                    "2": "-1 day, 19:00:00",
                                    "3": "True"
                                },
                                {
                                    "0": "US/East-Indiana",
                                    "1": "EDT",
                                    "2": "-1 day, 20:00:00",
                                    "3": "True"
                                },
                                {
                                    "0": "US/Eastern",
                                    "1": "EDT",
                                    "2": "-1 day, 20:00:00",
                                    "3": "True"
                                },
                                {
                                    "0": "US/Hawaii",
                                    "1": "HST",
                                    "2": "-1 day, 14:00:00",
                                    "3": "False"
                                },
                                {
                                    "0": "US/Indiana-Starke",
                                    "1": "CDT",
                                    "2": "-1 day, 19:00:00",
                                    "3": "True"
                                },
                                {
                                    "0": "US/Michigan",
                                    "1": "EDT",
                                    "2": "-1 day, 20:00:00",
                                    "3": "True"
                                },
                                {
                                    "0": "US/Mountain",
                                    "1": "MDT",
                                    "2": "-1 day, 18:00:00",
                                    "3": "True"
                                },
                                {
                                    "0": "US/Pacific",
                                    "1": "PDT",
                                    "2": "-1 day, 17:00:00",
                                    "3": "True"
                                },
                                {
                                    "0": "US/Samoa",
                                    "1": "SST",
                                    "2": "-1 day, 13:00:00",
                                    "3": "False"
                                },
                                {
                                    "0": "UTC",
                                    "1": "UTC",
                                    "2": "0:00:00",
                                    "3": "False"
                                },
                                {
                                    "0": "W-SU",
                                    "1": "MSK",
                                    "2": "3:00:00",
                                    "3": "False"
                                },
                                {
                                    "0": "WET",
                                    "1": "WEST",
                                    "2": "1:00:00",
                                    "3": "True"
                                },
                                {
                                    "0": "Zulu",
                                    "1": "UTC",
                                    "2": "0:00:00",
                                    "3": "False"
                                }
                            ]
                        },
                        "text/html": [
                            "<table>",
                            "<tr><th>name</th><th>abbrev</th><th>utc_offset</th><th>is_dst</th></tr>",
                            "<tr><td>Africa/Abidjan</td><td>GMT</td><td>0:00:00</td><td>False</td></tr>",
                            "<tr><td>Africa/Accra</td><td>GMT</td><td>0:00:00</td><td>False</td></tr>",
                            "<tr><td>Africa/Addis_Ababa</td><td>EAT</td><td>3:00:00</td><td>False</td></tr>",
                            "<tr><td>Africa/Algiers</td><td>CET</td><td>1:00:00</td><td>False</td></tr>",
                            "<tr><td>Africa/Asmara</td><td>EAT</td><td>3:00:00</td><td>False</td></tr>",
                            "<tr><td>Africa/Asmera</td><td>EAT</td><td>3:00:00</td><td>False</td></tr>",
                            "<tr><td>Africa/Bamako</td><td>GMT</td><td>0:00:00</td><td>False</td></tr>",
                            "<tr><td>Africa/Bangui</td><td>WAT</td><td>1:00:00</td><td>False</td></tr>",
                            "<tr><td>Africa/Banjul</td><td>GMT</td><td>0:00:00</td><td>False</td></tr>",
                            "<tr><td>Africa/Bissau</td><td>GMT</td><td>0:00:00</td><td>False</td></tr>",
                            "<tr><td>Africa/Blantyre</td><td>CAT</td><td>2:00:00</td><td>False</td></tr>",
                            "<tr><td>Africa/Brazzaville</td><td>WAT</td><td>1:00:00</td><td>False</td></tr>",
                            "<tr><td>Africa/Bujumbura</td><td>CAT</td><td>2:00:00</td><td>False</td></tr>",
                            "<tr><td>Africa/Cairo</td><td>EET</td><td>2:00:00</td><td>False</td></tr>",
                            "<tr><td>Africa/Casablanca</td><td>+00</td><td>0:00:00</td><td>True</td></tr>",
                            "<tr><td>Africa/Ceuta</td><td>CEST</td><td>2:00:00</td><td>True</td></tr>",
                            "<tr><td>Africa/Conakry</td><td>GMT</td><td>0:00:00</td><td>False</td></tr>",
                            "<tr><td>Africa/Dakar</td><td>GMT</td><td>0:00:00</td><td>False</td></tr>",
                            "<tr><td>Africa/Dar_es_Salaam</td><td>EAT</td><td>3:00:00</td><td>False</td></tr>",
                            "<tr><td>Africa/Djibouti</td><td>EAT</td><td>3:00:00</td><td>False</td></tr>",
                            "<tr><td>Africa/Douala</td><td>WAT</td><td>1:00:00</td><td>False</td></tr>",
                            "<tr><td>Africa/El_Aaiun</td><td>+00</td><td>0:00:00</td><td>True</td></tr>",
                            "<tr><td>Africa/Freetown</td><td>GMT</td><td>0:00:00</td><td>False</td></tr>",
                            "<tr><td>Africa/Gaborone</td><td>CAT</td><td>2:00:00</td><td>False</td></tr>",
                            "<tr><td>Africa/Harare</td><td>CAT</td><td>2:00:00</td><td>False</td></tr>",
                            "<tr><td>Africa/Johannesburg</td><td>SAST</td><td>2:00:00</td><td>False</td></tr>",
                            "<tr><td>Africa/Juba</td><td>CAT</td><td>2:00:00</td><td>False</td></tr>",
                            "<tr><td>Africa/Kampala</td><td>EAT</td><td>3:00:00</td><td>False</td></tr>",
                            "<tr><td>Africa/Khartoum</td><td>CAT</td><td>2:00:00</td><td>False</td></tr>",
                            "<tr><td>Africa/Kigali</td><td>CAT</td><td>2:00:00</td><td>False</td></tr>",
                            "<tr><td>Africa/Kinshasa</td><td>WAT</td><td>1:00:00</td><td>False</td></tr>",
                            "<tr><td>Africa/Lagos</td><td>WAT</td><td>1:00:00</td><td>False</td></tr>",
                            "<tr><td>Africa/Libreville</td><td>WAT</td><td>1:00:00</td><td>False</td></tr>",
                            "<tr><td>Africa/Lome</td><td>GMT</td><td>0:00:00</td><td>False</td></tr>",
                            "<tr><td>Africa/Luanda</td><td>WAT</td><td>1:00:00</td><td>False</td></tr>",
                            "<tr><td>Africa/Lubumbashi</td><td>CAT</td><td>2:00:00</td><td>False</td></tr>",
                            "<tr><td>Africa/Lusaka</td><td>CAT</td><td>2:00:00</td><td>False</td></tr>",
                            "<tr><td>Africa/Malabo</td><td>WAT</td><td>1:00:00</td><td>False</td></tr>",
                            "<tr><td>Africa/Maputo</td><td>CAT</td><td>2:00:00</td><td>False</td></tr>",
                            "<tr><td>Africa/Maseru</td><td>SAST</td><td>2:00:00</td><td>False</td></tr>",
                            "<tr><td>Africa/Mbabane</td><td>SAST</td><td>2:00:00</td><td>False</td></tr>",
                            "<tr><td>Africa/Mogadishu</td><td>EAT</td><td>3:00:00</td><td>False</td></tr>",
                            "<tr><td>Africa/Monrovia</td><td>GMT</td><td>0:00:00</td><td>False</td></tr>",
                            "<tr><td>Africa/Nairobi</td><td>EAT</td><td>3:00:00</td><td>False</td></tr>",
                            "<tr><td>Africa/Ndjamena</td><td>WAT</td><td>1:00:00</td><td>False</td></tr>",
                            "<tr><td>Africa/Niamey</td><td>WAT</td><td>1:00:00</td><td>False</td></tr>",
                            "<tr><td>Africa/Nouakchott</td><td>GMT</td><td>0:00:00</td><td>False</td></tr>",
                            "<tr><td>Africa/Ouagadougou</td><td>GMT</td><td>0:00:00</td><td>False</td></tr>",
                            "<tr><td>Africa/Porto-Novo</td><td>WAT</td><td>1:00:00</td><td>False</td></tr>",
                            "<tr><td>Africa/Sao_Tome</td><td>GMT</td><td>0:00:00</td><td>False</td></tr>",
                            "<tr><td>Africa/Timbuktu</td><td>GMT</td><td>0:00:00</td><td>False</td></tr>",
                            "<tr><td>Africa/Tripoli</td><td>EET</td><td>2:00:00</td><td>False</td></tr>",
                            "<tr><td>Africa/Tunis</td><td>CET</td><td>1:00:00</td><td>False</td></tr>",
                            "<tr><td>Africa/Windhoek</td><td>CAT</td><td>2:00:00</td><td>False</td></tr>",
                            "<tr><td>America/Adak</td><td>HDT</td><td>-1 day, 15:00:00</td><td>True</td></tr>",
                            "<tr><td>America/Anchorage</td><td>AKDT</td><td>-1 day, 16:00:00</td><td>True</td></tr>",
                            "<tr><td>America/Anguilla</td><td>AST</td><td>-1 day, 20:00:00</td><td>False</td></tr>",
                            "<tr><td>America/Antigua</td><td>AST</td><td>-1 day, 20:00:00</td><td>False</td></tr>",
                            "<tr><td>America/Araguaina</td><td>-03</td><td>-1 day, 21:00:00</td><td>False</td></tr>",
                            "<tr><td>America/Argentina/Buenos_Aires</td><td>-03</td><td>-1 day, 21:00:00</td><td>False</td></tr>",
                            "<tr><td>America/Argentina/Catamarca</td><td>-03</td><td>-1 day, 21:00:00</td><td>False</td></tr>",
                            "<tr><td>America/Argentina/ComodRivadavia</td><td>-03</td><td>-1 day, 21:00:00</td><td>False</td></tr>",
                            "<tr><td>America/Argentina/Cordoba</td><td>-03</td><td>-1 day, 21:00:00</td><td>False</td></tr>",
                            "<tr><td>America/Argentina/Jujuy</td><td>-03</td><td>-1 day, 21:00:00</td><td>False</td></tr>",
                            "<tr><td>America/Argentina/La_Rioja</td><td>-03</td><td>-1 day, 21:00:00</td><td>False</td></tr>",
                            "<tr><td>America/Argentina/Mendoza</td><td>-03</td><td>-1 day, 21:00:00</td><td>False</td></tr>",
                            "<tr><td>America/Argentina/Rio_Gallegos</td><td>-03</td><td>-1 day, 21:00:00</td><td>False</td></tr>",
                            "<tr><td>America/Argentina/Salta</td><td>-03</td><td>-1 day, 21:00:00</td><td>False</td></tr>",
                            "<tr><td>America/Argentina/San_Juan</td><td>-03</td><td>-1 day, 21:00:00</td><td>False</td></tr>",
                            "<tr><td>America/Argentina/San_Luis</td><td>-03</td><td>-1 day, 21:00:00</td><td>False</td></tr>",
                            "<tr><td>America/Argentina/Tucuman</td><td>-03</td><td>-1 day, 21:00:00</td><td>False</td></tr>",
                            "<tr><td>America/Argentina/Ushuaia</td><td>-03</td><td>-1 day, 21:00:00</td><td>False</td></tr>",
                            "<tr><td>America/Aruba</td><td>AST</td><td>-1 day, 20:00:00</td><td>False</td></tr>",
                            "<tr><td>America/Asuncion</td><td>-04</td><td>-1 day, 20:00:00</td><td>False</td></tr>",
                            "<tr><td>America/Atikokan</td><td>EST</td><td>-1 day, 19:00:00</td><td>False</td></tr>",
                            "<tr><td>America/Atka</td><td>HDT</td><td>-1 day, 15:00:00</td><td>True</td></tr>",
                            "<tr><td>America/Bahia</td><td>-03</td><td>-1 day, 21:00:00</td><td>False</td></tr>",
                            "<tr><td>America/Bahia_Banderas</td><td>CDT</td><td>-1 day, 19:00:00</td><td>True</td></tr>",
                            "<tr><td>America/Barbados</td><td>AST</td><td>-1 day, 20:00:00</td><td>False</td></tr>",
                            "<tr><td>America/Belem</td><td>-03</td><td>-1 day, 21:00:00</td><td>False</td></tr>",
                            "<tr><td>America/Belize</td><td>CST</td><td>-1 day, 18:00:00</td><td>False</td></tr>",
                            "<tr><td>America/Blanc-Sablon</td><td>AST</td><td>-1 day, 20:00:00</td><td>False</td></tr>",
                            "<tr><td>America/Boa_Vista</td><td>-04</td><td>-1 day, 20:00:00</td><td>False</td></tr>",
                            "<tr><td>America/Bogota</td><td>-05</td><td>-1 day, 19:00:00</td><td>False</td></tr>",
                            "<tr><td>America/Boise</td><td>MDT</td><td>-1 day, 18:00:00</td><td>True</td></tr>",
                            "<tr><td>America/Buenos_Aires</td><td>-03</td><td>-1 day, 21:00:00</td><td>False</td></tr>",
                            "<tr><td>America/Cambridge_Bay</td><td>MDT</td><td>-1 day, 18:00:00</td><td>True</td></tr>",
                            "<tr><td>America/Campo_Grande</td><td>-04</td><td>-1 day, 20:00:00</td><td>False</td></tr>",
                            "<tr><td>America/Cancun</td><td>EST</td><td>-1 day, 19:00:00</td><td>False</td></tr>",
                            "<tr><td>America/Caracas</td><td>-04</td><td>-1 day, 20:00:00</td><td>False</td></tr>",
                            "<tr><td>America/Catamarca</td><td>-03</td><td>-1 day, 21:00:00</td><td>False</td></tr>",
                            "<tr><td>America/Cayenne</td><td>-03</td><td>-1 day, 21:00:00</td><td>False</td></tr>",
                            "<tr><td>America/Cayman</td><td>EST</td><td>-1 day, 19:00:00</td><td>False</td></tr>",
                            "<tr><td>America/Chicago</td><td>CDT</td><td>-1 day, 19:00:00</td><td>True</td></tr>",
                            "<tr><td>America/Chihuahua</td><td>MDT</td><td>-1 day, 18:00:00</td><td>True</td></tr>",
                            "<tr><td>America/Coral_Harbour</td><td>EST</td><td>-1 day, 19:00:00</td><td>False</td></tr>",
                            "<tr><td>America/Cordoba</td><td>-03</td><td>-1 day, 21:00:00</td><td>False</td></tr>",
                            "<tr><td>America/Costa_Rica</td><td>CST</td><td>-1 day, 18:00:00</td><td>False</td></tr>",
                            "<tr><td>America/Creston</td><td>MST</td><td>-1 day, 17:00:00</td><td>False</td></tr>",
                            "<tr><td>America/Cuiaba</td><td>-04</td><td>-1 day, 20:00:00</td><td>False</td></tr>",
                            "<tr><td>America/Curacao</td><td>AST</td><td>-1 day, 20:00:00</td><td>False</td></tr>",
                            "<tr><td>America/Danmarkshavn</td><td>GMT</td><td>0:00:00</td><td>False</td></tr>",
                            "<tr><td>America/Dawson</td><td>MST</td><td>-1 day, 17:00:00</td><td>False</td></tr>",
                            "<tr><td>America/Dawson_Creek</td><td>MST</td><td>-1 day, 17:00:00</td><td>False</td></tr>",
                            "<tr><td>America/Denver</td><td>MDT</td><td>-1 day, 18:00:00</td><td>True</td></tr>",
                            "<tr><td>America/Detroit</td><td>EDT</td><td>-1 day, 20:00:00</td><td>True</td></tr>",
                            "<tr><td>America/Dominica</td><td>AST</td><td>-1 day, 20:00:00</td><td>False</td></tr>",
                            "<tr><td>America/Edmonton</td><td>MDT</td><td>-1 day, 18:00:00</td><td>True</td></tr>",
                            "<tr><td>America/Eirunepe</td><td>-05</td><td>-1 day, 19:00:00</td><td>False</td></tr>",
                            "<tr><td>America/El_Salvador</td><td>CST</td><td>-1 day, 18:00:00</td><td>False</td></tr>",
                            "<tr><td>America/Ensenada</td><td>PDT</td><td>-1 day, 17:00:00</td><td>True</td></tr>",
                            "<tr><td>America/Fortaleza</td><td>-03</td><td>-1 day, 21:00:00</td><td>False</td></tr>",
                            "<tr><td>America/Fort_Nelson</td><td>MST</td><td>-1 day, 17:00:00</td><td>False</td></tr>",
                            "<tr><td>America/Fort_Wayne</td><td>EDT</td><td>-1 day, 20:00:00</td><td>True</td></tr>",
                            "<tr><td>America/Glace_Bay</td><td>ADT</td><td>-1 day, 21:00:00</td><td>True</td></tr>",
                            "<tr><td>America/Godthab</td><td>-02</td><td>-1 day, 22:00:00</td><td>True</td></tr>",
                            "<tr><td>America/Goose_Bay</td><td>ADT</td><td>-1 day, 21:00:00</td><td>True</td></tr>",
                            "<tr><td>America/Grand_Turk</td><td>EDT</td><td>-1 day, 20:00:00</td><td>True</td></tr>",
                            "<tr><td>America/Grenada</td><td>AST</td><td>-1 day, 20:00:00</td><td>False</td></tr>",
                            "<tr><td>America/Guadeloupe</td><td>AST</td><td>-1 day, 20:00:00</td><td>False</td></tr>",
                            "<tr><td>America/Guatemala</td><td>CST</td><td>-1 day, 18:00:00</td><td>False</td></tr>",
                            "<tr><td>America/Guayaquil</td><td>-05</td><td>-1 day, 19:00:00</td><td>False</td></tr>",
                            "<tr><td>America/Guyana</td><td>-04</td><td>-1 day, 20:00:00</td><td>False</td></tr>",
                            "<tr><td>America/Halifax</td><td>ADT</td><td>-1 day, 21:00:00</td><td>True</td></tr>",
                            "<tr><td>America/Havana</td><td>CDT</td><td>-1 day, 20:00:00</td><td>True</td></tr>",
                            "<tr><td>America/Hermosillo</td><td>MST</td><td>-1 day, 17:00:00</td><td>False</td></tr>",
                            "<tr><td>America/Indiana/Indianapolis</td><td>EDT</td><td>-1 day, 20:00:00</td><td>True</td></tr>",
                            "<tr><td>America/Indiana/Knox</td><td>CDT</td><td>-1 day, 19:00:00</td><td>True</td></tr>",
                            "<tr><td>America/Indiana/Marengo</td><td>EDT</td><td>-1 day, 20:00:00</td><td>True</td></tr>",
                            "<tr><td>America/Indiana/Petersburg</td><td>EDT</td><td>-1 day, 20:00:00</td><td>True</td></tr>",
                            "<tr><td>America/Indiana/Tell_City</td><td>CDT</td><td>-1 day, 19:00:00</td><td>True</td></tr>",
                            "<tr><td>America/Indiana/Vevay</td><td>EDT</td><td>-1 day, 20:00:00</td><td>True</td></tr>",
                            "<tr><td>America/Indiana/Vincennes</td><td>EDT</td><td>-1 day, 20:00:00</td><td>True</td></tr>",
                            "<tr><td>America/Indiana/Winamac</td><td>EDT</td><td>-1 day, 20:00:00</td><td>True</td></tr>",
                            "<tr><td>America/Indianapolis</td><td>EDT</td><td>-1 day, 20:00:00</td><td>True</td></tr>",
                            "<tr><td>America/Inuvik</td><td>MDT</td><td>-1 day, 18:00:00</td><td>True</td></tr>",
                            "<tr><td>America/Iqaluit</td><td>EDT</td><td>-1 day, 20:00:00</td><td>True</td></tr>",
                            "<tr><td>America/Jamaica</td><td>EST</td><td>-1 day, 19:00:00</td><td>False</td></tr>",
                            "<tr><td>America/Jujuy</td><td>-03</td><td>-1 day, 21:00:00</td><td>False</td></tr>",
                            "<tr><td>America/Juneau</td><td>AKDT</td><td>-1 day, 16:00:00</td><td>True</td></tr>",
                            "<tr><td>America/Kentucky/Louisville</td><td>EDT</td><td>-1 day, 20:00:00</td><td>True</td></tr>",
                            "<tr><td>America/Kentucky/Monticello</td><td>EDT</td><td>-1 day, 20:00:00</td><td>True</td></tr>",
                            "<tr><td>America/Knox_IN</td><td>CDT</td><td>-1 day, 19:00:00</td><td>True</td></tr>",
                            "<tr><td>America/Kralendijk</td><td>AST</td><td>-1 day, 20:00:00</td><td>False</td></tr>",
                            "<tr><td>America/La_Paz</td><td>-04</td><td>-1 day, 20:00:00</td><td>False</td></tr>",
                            "<tr><td>America/Lima</td><td>-05</td><td>-1 day, 19:00:00</td><td>False</td></tr>",
                            "<tr><td>America/Los_Angeles</td><td>PDT</td><td>-1 day, 17:00:00</td><td>True</td></tr>",
                            "<tr><td>America/Louisville</td><td>EDT</td><td>-1 day, 20:00:00</td><td>True</td></tr>",
                            "<tr><td>America/Lower_Princes</td><td>AST</td><td>-1 day, 20:00:00</td><td>False</td></tr>",
                            "<tr><td>America/Maceio</td><td>-03</td><td>-1 day, 21:00:00</td><td>False</td></tr>",
                            "<tr><td>America/Managua</td><td>CST</td><td>-1 day, 18:00:00</td><td>False</td></tr>",
                            "<tr><td>America/Manaus</td><td>-04</td><td>-1 day, 20:00:00</td><td>False</td></tr>",
                            "<tr><td>America/Marigot</td><td>AST</td><td>-1 day, 20:00:00</td><td>False</td></tr>",
                            "<tr><td>America/Martinique</td><td>AST</td><td>-1 day, 20:00:00</td><td>False</td></tr>",
                            "<tr><td>America/Matamoros</td><td>CDT</td><td>-1 day, 19:00:00</td><td>True</td></tr>",
                            "<tr><td>America/Mazatlan</td><td>MDT</td><td>-1 day, 18:00:00</td><td>True</td></tr>",
                            "<tr><td>America/Mendoza</td><td>-03</td><td>-1 day, 21:00:00</td><td>False</td></tr>",
                            "<tr><td>America/Menominee</td><td>CDT</td><td>-1 day, 19:00:00</td><td>True</td></tr>",
                            "<tr><td>America/Merida</td><td>CDT</td><td>-1 day, 19:00:00</td><td>True</td></tr>",
                            "<tr><td>America/Metlakatla</td><td>AKDT</td><td>-1 day, 16:00:00</td><td>True</td></tr>",
                            "<tr><td>America/Mexico_City</td><td>CDT</td><td>-1 day, 19:00:00</td><td>True</td></tr>",
                            "<tr><td>America/Miquelon</td><td>-02</td><td>-1 day, 22:00:00</td><td>True</td></tr>",
                            "<tr><td>America/Moncton</td><td>ADT</td><td>-1 day, 21:00:00</td><td>True</td></tr>",
                            "<tr><td>America/Monterrey</td><td>CDT</td><td>-1 day, 19:00:00</td><td>True</td></tr>",
                            "<tr><td>America/Montevideo</td><td>-03</td><td>-1 day, 21:00:00</td><td>False</td></tr>",
                            "<tr><td>America/Montreal</td><td>EDT</td><td>-1 day, 20:00:00</td><td>True</td></tr>",
                            "<tr><td>America/Montserrat</td><td>AST</td><td>-1 day, 20:00:00</td><td>False</td></tr>",
                            "<tr><td>America/Nassau</td><td>EDT</td><td>-1 day, 20:00:00</td><td>True</td></tr>",
                            "<tr><td>America/New_York</td><td>EDT</td><td>-1 day, 20:00:00</td><td>True</td></tr>",
                            "<tr><td>America/Nipigon</td><td>EDT</td><td>-1 day, 20:00:00</td><td>True</td></tr>",
                            "<tr><td>America/Nome</td><td>AKDT</td><td>-1 day, 16:00:00</td><td>True</td></tr>",
                            "<tr><td>America/Noronha</td><td>-02</td><td>-1 day, 22:00:00</td><td>False</td></tr>",
                            "<tr><td>America/North_Dakota/Beulah</td><td>CDT</td><td>-1 day, 19:00:00</td><td>True</td></tr>",
                            "<tr><td>America/North_Dakota/Center</td><td>CDT</td><td>-1 day, 19:00:00</td><td>True</td></tr>",
                            "<tr><td>America/North_Dakota/New_Salem</td><td>CDT</td><td>-1 day, 19:00:00</td><td>True</td></tr>",
                            "<tr><td>America/Nuuk</td><td>-02</td><td>-1 day, 22:00:00</td><td>True</td></tr>",
                            "<tr><td>America/Ojinaga</td><td>MDT</td><td>-1 day, 18:00:00</td><td>True</td></tr>",
                            "<tr><td>America/Panama</td><td>EST</td><td>-1 day, 19:00:00</td><td>False</td></tr>",
                            "<tr><td>America/Pangnirtung</td><td>EDT</td><td>-1 day, 20:00:00</td><td>True</td></tr>",
                            "<tr><td>America/Paramaribo</td><td>-03</td><td>-1 day, 21:00:00</td><td>False</td></tr>",
                            "<tr><td>America/Phoenix</td><td>MST</td><td>-1 day, 17:00:00</td><td>False</td></tr>",
                            "<tr><td>America/Port-au-Prince</td><td>EDT</td><td>-1 day, 20:00:00</td><td>True</td></tr>",
                            "<tr><td>America/Porto_Acre</td><td>-05</td><td>-1 day, 19:00:00</td><td>False</td></tr>",
                            "<tr><td>America/Porto_Velho</td><td>-04</td><td>-1 day, 20:00:00</td><td>False</td></tr>",
                            "<tr><td>America/Port_of_Spain</td><td>AST</td><td>-1 day, 20:00:00</td><td>False</td></tr>",
                            "<tr><td>America/Puerto_Rico</td><td>AST</td><td>-1 day, 20:00:00</td><td>False</td></tr>",
                            "<tr><td>America/Punta_Arenas</td><td>-03</td><td>-1 day, 21:00:00</td><td>False</td></tr>",
                            "<tr><td>America/Rainy_River</td><td>CDT</td><td>-1 day, 19:00:00</td><td>True</td></tr>",
                            "<tr><td>America/Rankin_Inlet</td><td>CDT</td><td>-1 day, 19:00:00</td><td>True</td></tr>",
                            "<tr><td>America/Recife</td><td>-03</td><td>-1 day, 21:00:00</td><td>False</td></tr>",
                            "<tr><td>America/Regina</td><td>CST</td><td>-1 day, 18:00:00</td><td>False</td></tr>",
                            "<tr><td>America/Resolute</td><td>CDT</td><td>-1 day, 19:00:00</td><td>True</td></tr>",
                            "<tr><td>America/Rio_Branco</td><td>-05</td><td>-1 day, 19:00:00</td><td>False</td></tr>",
                            "<tr><td>America/Rosario</td><td>-03</td><td>-1 day, 21:00:00</td><td>False</td></tr>",
                            "<tr><td>America/Santarem</td><td>-03</td><td>-1 day, 21:00:00</td><td>False</td></tr>",
                            "<tr><td>America/Santa_Isabel</td><td>PDT</td><td>-1 day, 17:00:00</td><td>True</td></tr>",
                            "<tr><td>America/Santiago</td><td>-04</td><td>-1 day, 20:00:00</td><td>False</td></tr>",
                            "<tr><td>America/Santo_Domingo</td><td>AST</td><td>-1 day, 20:00:00</td><td>False</td></tr>",
                            "<tr><td>America/Sao_Paulo</td><td>-03</td><td>-1 day, 21:00:00</td><td>False</td></tr>",
                            "<tr><td>America/Scoresbysund</td><td>+00</td><td>0:00:00</td><td>True</td></tr>",
                            "<tr><td>America/Shiprock</td><td>MDT</td><td>-1 day, 18:00:00</td><td>True</td></tr>",
                            "<tr><td>America/Sitka</td><td>AKDT</td><td>-1 day, 16:00:00</td><td>True</td></tr>",
                            "<tr><td>America/St_Barthelemy</td><td>AST</td><td>-1 day, 20:00:00</td><td>False</td></tr>",
                            "<tr><td>America/St_Johns</td><td>NDT</td><td>-1 day, 21:30:00</td><td>True</td></tr>",
                            "<tr><td>America/St_Kitts</td><td>AST</td><td>-1 day, 20:00:00</td><td>False</td></tr>",
                            "<tr><td>America/St_Lucia</td><td>AST</td><td>-1 day, 20:00:00</td><td>False</td></tr>",
                            "<tr><td>America/St_Thomas</td><td>AST</td><td>-1 day, 20:00:00</td><td>False</td></tr>",
                            "<tr><td>America/St_Vincent</td><td>AST</td><td>-1 day, 20:00:00</td><td>False</td></tr>",
                            "<tr><td>America/Swift_Current</td><td>CST</td><td>-1 day, 18:00:00</td><td>False</td></tr>",
                            "<tr><td>America/Tegucigalpa</td><td>CST</td><td>-1 day, 18:00:00</td><td>False</td></tr>",
                            "<tr><td>America/Thule</td><td>ADT</td><td>-1 day, 21:00:00</td><td>True</td></tr>",
                            "<tr><td>America/Thunder_Bay</td><td>EDT</td><td>-1 day, 20:00:00</td><td>True</td></tr>",
                            "<tr><td>America/Tijuana</td><td>PDT</td><td>-1 day, 17:00:00</td><td>True</td></tr>",
                            "<tr><td>America/Toronto</td><td>EDT</td><td>-1 day, 20:00:00</td><td>True</td></tr>",
                            "<tr><td>America/Tortola</td><td>AST</td><td>-1 day, 20:00:00</td><td>False</td></tr>",
                            "<tr><td>America/Vancouver</td><td>PDT</td><td>-1 day, 17:00:00</td><td>True</td></tr>",
                            "<tr><td>America/Virgin</td><td>AST</td><td>-1 day, 20:00:00</td><td>False</td></tr>",
                            "<tr><td>America/Whitehorse</td><td>MST</td><td>-1 day, 17:00:00</td><td>False</td></tr>",
                            "<tr><td>America/Winnipeg</td><td>CDT</td><td>-1 day, 19:00:00</td><td>True</td></tr>",
                            "<tr><td>America/Yakutat</td><td>AKDT</td><td>-1 day, 16:00:00</td><td>True</td></tr>",
                            "<tr><td>America/Yellowknife</td><td>MDT</td><td>-1 day, 18:00:00</td><td>True</td></tr>",
                            "<tr><td>Antarctica/Casey</td><td>+11</td><td>11:00:00</td><td>False</td></tr>",
                            "<tr><td>Antarctica/Davis</td><td>+07</td><td>7:00:00</td><td>False</td></tr>",
                            "<tr><td>Antarctica/DumontDUrville</td><td>+10</td><td>10:00:00</td><td>False</td></tr>",
                            "<tr><td>Antarctica/Macquarie</td><td>AEST</td><td>10:00:00</td><td>False</td></tr>",
                            "<tr><td>Antarctica/Mawson</td><td>+05</td><td>5:00:00</td><td>False</td></tr>",
                            "<tr><td>Antarctica/McMurdo</td><td>NZST</td><td>12:00:00</td><td>False</td></tr>",
                            "<tr><td>Antarctica/Palmer</td><td>-03</td><td>-1 day, 21:00:00</td><td>False</td></tr>",
                            "<tr><td>Antarctica/Rothera</td><td>-03</td><td>-1 day, 21:00:00</td><td>False</td></tr>",
                            "<tr><td>Antarctica/South_Pole</td><td>NZST</td><td>12:00:00</td><td>False</td></tr>",
                            "<tr><td>Antarctica/Syowa</td><td>+03</td><td>3:00:00</td><td>False</td></tr>",
                            "<tr><td>Antarctica/Troll</td><td>+02</td><td>2:00:00</td><td>True</td></tr>",
                            "<tr><td>Antarctica/Vostok</td><td>+06</td><td>6:00:00</td><td>False</td></tr>",
                            "<tr><td>Arctic/Longyearbyen</td><td>CEST</td><td>2:00:00</td><td>True</td></tr>",
                            "<tr><td>Asia/Aden</td><td>+03</td><td>3:00:00</td><td>False</td></tr>",
                            "<tr><td>Asia/Almaty</td><td>+06</td><td>6:00:00</td><td>False</td></tr>",
                            "<tr><td>Asia/Amman</td><td>EEST</td><td>3:00:00</td><td>True</td></tr>",
                            "<tr><td>Asia/Anadyr</td><td>+12</td><td>12:00:00</td><td>False</td></tr>",
                            "<tr><td>Asia/Aqtau</td><td>+05</td><td>5:00:00</td><td>False</td></tr>",
                            "<tr><td>Asia/Aqtobe</td><td>+05</td><td>5:00:00</td><td>False</td></tr>",
                            "<tr><td>Asia/Ashgabat</td><td>+05</td><td>5:00:00</td><td>False</td></tr>",
                            "<tr><td>Asia/Ashkhabad</td><td>+05</td><td>5:00:00</td><td>False</td></tr>",
                            "<tr><td>Asia/Atyrau</td><td>+05</td><td>5:00:00</td><td>False</td></tr>",
                            "<tr><td>Asia/Baghdad</td><td>+03</td><td>3:00:00</td><td>False</td></tr>",
                            "<tr><td>Asia/Bahrain</td><td>+03</td><td>3:00:00</td><td>False</td></tr>",
                            "<tr><td>Asia/Baku</td><td>+04</td><td>4:00:00</td><td>False</td></tr>",
                            "<tr><td>Asia/Bangkok</td><td>+07</td><td>7:00:00</td><td>False</td></tr>",
                            "<tr><td>Asia/Barnaul</td><td>+07</td><td>7:00:00</td><td>False</td></tr>",
                            "<tr><td>Asia/Beirut</td><td>EEST</td><td>3:00:00</td><td>True</td></tr>",
                            "<tr><td>Asia/Bishkek</td><td>+06</td><td>6:00:00</td><td>False</td></tr>",
                            "<tr><td>Asia/Brunei</td><td>+08</td><td>8:00:00</td><td>False</td></tr>",
                            "<tr><td>Asia/Calcutta</td><td>IST</td><td>5:30:00</td><td>False</td></tr>",
                            "<tr><td>Asia/Chita</td><td>+09</td><td>9:00:00</td><td>False</td></tr>",
                            "<tr><td>Asia/Choibalsan</td><td>+08</td><td>8:00:00</td><td>False</td></tr>",
                            "<tr><td>Asia/Chongqing</td><td>CST</td><td>8:00:00</td><td>False</td></tr>",
                            "<tr><td>Asia/Chungking</td><td>CST</td><td>8:00:00</td><td>False</td></tr>",
                            "<tr><td>Asia/Colombo</td><td>+0530</td><td>5:30:00</td><td>False</td></tr>",
                            "<tr><td>Asia/Dacca</td><td>+06</td><td>6:00:00</td><td>False</td></tr>",
                            "<tr><td>Asia/Damascus</td><td>EEST</td><td>3:00:00</td><td>True</td></tr>",
                            "<tr><td>Asia/Dhaka</td><td>+06</td><td>6:00:00</td><td>False</td></tr>",
                            "<tr><td>Asia/Dili</td><td>+09</td><td>9:00:00</td><td>False</td></tr>",
                            "<tr><td>Asia/Dubai</td><td>+04</td><td>4:00:00</td><td>False</td></tr>",
                            "<tr><td>Asia/Dushanbe</td><td>+05</td><td>5:00:00</td><td>False</td></tr>",
                            "<tr><td>Asia/Famagusta</td><td>EEST</td><td>3:00:00</td><td>True</td></tr>",
                            "<tr><td>Asia/Gaza</td><td>EEST</td><td>3:00:00</td><td>True</td></tr>",
                            "<tr><td>Asia/Harbin</td><td>CST</td><td>8:00:00</td><td>False</td></tr>",
                            "<tr><td>Asia/Hebron</td><td>EEST</td><td>3:00:00</td><td>True</td></tr>",
                            "<tr><td>Asia/Hong_Kong</td><td>HKT</td><td>8:00:00</td><td>False</td></tr>",
                            "<tr><td>Asia/Hovd</td><td>+07</td><td>7:00:00</td><td>False</td></tr>",
                            "<tr><td>Asia/Ho_Chi_Minh</td><td>+07</td><td>7:00:00</td><td>False</td></tr>",
                            "<tr><td>Asia/Irkutsk</td><td>+08</td><td>8:00:00</td><td>False</td></tr>",
                            "<tr><td>Asia/Istanbul</td><td>+03</td><td>3:00:00</td><td>False</td></tr>",
                            "<tr><td>Asia/Jakarta</td><td>WIB</td><td>7:00:00</td><td>False</td></tr>",
                            "<tr><td>Asia/Jayapura</td><td>WIT</td><td>9:00:00</td><td>False</td></tr>",
                            "<tr><td>Asia/Jerusalem</td><td>IDT</td><td>3:00:00</td><td>True</td></tr>",
                            "<tr><td>Asia/Kabul</td><td>+0430</td><td>4:30:00</td><td>False</td></tr>",
                            "<tr><td>Asia/Kamchatka</td><td>+12</td><td>12:00:00</td><td>False</td></tr>",
                            "<tr><td>Asia/Karachi</td><td>PKT</td><td>5:00:00</td><td>False</td></tr>",
                            "<tr><td>Asia/Kashgar</td><td>+06</td><td>6:00:00</td><td>False</td></tr>",
                            "<tr><td>Asia/Kathmandu</td><td>+0545</td><td>5:45:00</td><td>False</td></tr>",
                            "<tr><td>Asia/Katmandu</td><td>+0545</td><td>5:45:00</td><td>False</td></tr>",
                            "<tr><td>Asia/Khandyga</td><td>+09</td><td>9:00:00</td><td>False</td></tr>",
                            "<tr><td>Asia/Kolkata</td><td>IST</td><td>5:30:00</td><td>False</td></tr>",
                            "<tr><td>Asia/Krasnoyarsk</td><td>+07</td><td>7:00:00</td><td>False</td></tr>",
                            "<tr><td>Asia/Kuala_Lumpur</td><td>+08</td><td>8:00:00</td><td>False</td></tr>",
                            "<tr><td>Asia/Kuching</td><td>+08</td><td>8:00:00</td><td>False</td></tr>",
                            "<tr><td>Asia/Kuwait</td><td>+03</td><td>3:00:00</td><td>False</td></tr>",
                            "<tr><td>Asia/Macao</td><td>CST</td><td>8:00:00</td><td>False</td></tr>",
                            "<tr><td>Asia/Macau</td><td>CST</td><td>8:00:00</td><td>False</td></tr>",
                            "<tr><td>Asia/Magadan</td><td>+11</td><td>11:00:00</td><td>False</td></tr>",
                            "<tr><td>Asia/Makassar</td><td>WITA</td><td>8:00:00</td><td>False</td></tr>",
                            "<tr><td>Asia/Manila</td><td>PST</td><td>8:00:00</td><td>False</td></tr>",
                            "<tr><td>Asia/Muscat</td><td>+04</td><td>4:00:00</td><td>False</td></tr>",
                            "<tr><td>Asia/Nicosia</td><td>EEST</td><td>3:00:00</td><td>True</td></tr>",
                            "<tr><td>Asia/Novokuznetsk</td><td>+07</td><td>7:00:00</td><td>False</td></tr>",
                            "<tr><td>Asia/Novosibirsk</td><td>+07</td><td>7:00:00</td><td>False</td></tr>",
                            "<tr><td>Asia/Omsk</td><td>+06</td><td>6:00:00</td><td>False</td></tr>",
                            "<tr><td>Asia/Oral</td><td>+05</td><td>5:00:00</td><td>False</td></tr>",
                            "<tr><td>Asia/Phnom_Penh</td><td>+07</td><td>7:00:00</td><td>False</td></tr>",
                            "<tr><td>Asia/Pontianak</td><td>WIB</td><td>7:00:00</td><td>False</td></tr>",
                            "<tr><td>Asia/Pyongyang</td><td>KST</td><td>9:00:00</td><td>False</td></tr>",
                            "<tr><td>Asia/Qatar</td><td>+03</td><td>3:00:00</td><td>False</td></tr>",
                            "<tr><td>Asia/Qostanay</td><td>+06</td><td>6:00:00</td><td>False</td></tr>",
                            "<tr><td>Asia/Qyzylorda</td><td>+05</td><td>5:00:00</td><td>False</td></tr>",
                            "<tr><td>Asia/Rangoon</td><td>+0630</td><td>6:30:00</td><td>False</td></tr>",
                            "<tr><td>Asia/Riyadh</td><td>+03</td><td>3:00:00</td><td>False</td></tr>",
                            "<tr><td>Asia/Saigon</td><td>+07</td><td>7:00:00</td><td>False</td></tr>",
                            "<tr><td>Asia/Sakhalin</td><td>+11</td><td>11:00:00</td><td>False</td></tr>",
                            "<tr><td>Asia/Samarkand</td><td>+05</td><td>5:00:00</td><td>False</td></tr>",
                            "<tr><td>Asia/Seoul</td><td>KST</td><td>9:00:00</td><td>False</td></tr>",
                            "<tr><td>Asia/Shanghai</td><td>CST</td><td>8:00:00</td><td>False</td></tr>",
                            "<tr><td>Asia/Singapore</td><td>+08</td><td>8:00:00</td><td>False</td></tr>",
                            "<tr><td>Asia/Srednekolymsk</td><td>+11</td><td>11:00:00</td><td>False</td></tr>",
                            "<tr><td>Asia/Taipei</td><td>CST</td><td>8:00:00</td><td>False</td></tr>",
                            "<tr><td>Asia/Tashkent</td><td>+05</td><td>5:00:00</td><td>False</td></tr>",
                            "<tr><td>Asia/Tbilisi</td><td>+04</td><td>4:00:00</td><td>False</td></tr>",
                            "<tr><td>Asia/Tehran</td><td>+0430</td><td>4:30:00</td><td>True</td></tr>",
                            "<tr><td>Asia/Tel_Aviv</td><td>IDT</td><td>3:00:00</td><td>True</td></tr>",
                            "<tr><td>Asia/Thimbu</td><td>+06</td><td>6:00:00</td><td>False</td></tr>",
                            "<tr><td>Asia/Thimphu</td><td>+06</td><td>6:00:00</td><td>False</td></tr>",
                            "<tr><td>Asia/Tokyo</td><td>JST</td><td>9:00:00</td><td>False</td></tr>",
                            "<tr><td>Asia/Tomsk</td><td>+07</td><td>7:00:00</td><td>False</td></tr>",
                            "<tr><td>Asia/Ujung_Pandang</td><td>WITA</td><td>8:00:00</td><td>False</td></tr>",
                            "<tr><td>Asia/Ulaanbaatar</td><td>+08</td><td>8:00:00</td><td>False</td></tr>",
                            "<tr><td>Asia/Ulan_Bator</td><td>+08</td><td>8:00:00</td><td>False</td></tr>",
                            "<tr><td>Asia/Urumqi</td><td>+06</td><td>6:00:00</td><td>False</td></tr>",
                            "<tr><td>Asia/Ust-Nera</td><td>+10</td><td>10:00:00</td><td>False</td></tr>",
                            "<tr><td>Asia/Vientiane</td><td>+07</td><td>7:00:00</td><td>False</td></tr>",
                            "<tr><td>Asia/Vladivostok</td><td>+10</td><td>10:00:00</td><td>False</td></tr>",
                            "<tr><td>Asia/Yakutsk</td><td>+09</td><td>9:00:00</td><td>False</td></tr>",
                            "<tr><td>Asia/Yangon</td><td>+0630</td><td>6:30:00</td><td>False</td></tr>",
                            "<tr><td>Asia/Yekaterinburg</td><td>+05</td><td>5:00:00</td><td>False</td></tr>",
                            "<tr><td>Asia/Yerevan</td><td>+04</td><td>4:00:00</td><td>False</td></tr>",
                            "<tr><td>Atlantic/Azores</td><td>+00</td><td>0:00:00</td><td>True</td></tr>",
                            "<tr><td>Atlantic/Bermuda</td><td>ADT</td><td>-1 day, 21:00:00</td><td>True</td></tr>",
                            "<tr><td>Atlantic/Canary</td><td>WEST</td><td>1:00:00</td><td>True</td></tr>",
                            "<tr><td>Atlantic/Cape_Verde</td><td>-01</td><td>-1 day, 23:00:00</td><td>False</td></tr>",
                            "<tr><td>Atlantic/Faeroe</td><td>WEST</td><td>1:00:00</td><td>True</td></tr>",
                            "<tr><td>Atlantic/Faroe</td><td>WEST</td><td>1:00:00</td><td>True</td></tr>",
                            "<tr><td>Atlantic/Jan_Mayen</td><td>CEST</td><td>2:00:00</td><td>True</td></tr>",
                            "<tr><td>Atlantic/Madeira</td><td>WEST</td><td>1:00:00</td><td>True</td></tr>",
                            "<tr><td>Atlantic/Reykjavik</td><td>GMT</td><td>0:00:00</td><td>False</td></tr>",
                            "<tr><td>Atlantic/South_Georgia</td><td>-02</td><td>-1 day, 22:00:00</td><td>False</td></tr>",
                            "<tr><td>Atlantic/Stanley</td><td>-03</td><td>-1 day, 21:00:00</td><td>False</td></tr>",
                            "<tr><td>Atlantic/St_Helena</td><td>GMT</td><td>0:00:00</td><td>False</td></tr>",
                            "<tr><td>Australia/ACT</td><td>AEST</td><td>10:00:00</td><td>False</td></tr>",
                            "<tr><td>Australia/Adelaide</td><td>ACST</td><td>9:30:00</td><td>False</td></tr>",
                            "<tr><td>Australia/Brisbane</td><td>AEST</td><td>10:00:00</td><td>False</td></tr>",
                            "<tr><td>Australia/Broken_Hill</td><td>ACST</td><td>9:30:00</td><td>False</td></tr>",
                            "<tr><td>Australia/Canberra</td><td>AEST</td><td>10:00:00</td><td>False</td></tr>",
                            "<tr><td>Australia/Currie</td><td>AEST</td><td>10:00:00</td><td>False</td></tr>",
                            "<tr><td>Australia/Darwin</td><td>ACST</td><td>9:30:00</td><td>False</td></tr>",
                            "<tr><td>Australia/Eucla</td><td>+0845</td><td>8:45:00</td><td>False</td></tr>",
                            "<tr><td>Australia/Hobart</td><td>AEST</td><td>10:00:00</td><td>False</td></tr>",
                            "<tr><td>Australia/LHI</td><td>+1030</td><td>10:30:00</td><td>False</td></tr>",
                            "<tr><td>Australia/Lindeman</td><td>AEST</td><td>10:00:00</td><td>False</td></tr>",
                            "<tr><td>Australia/Lord_Howe</td><td>+1030</td><td>10:30:00</td><td>False</td></tr>",
                            "<tr><td>Australia/Melbourne</td><td>AEST</td><td>10:00:00</td><td>False</td></tr>",
                            "<tr><td>Australia/North</td><td>ACST</td><td>9:30:00</td><td>False</td></tr>",
                            "<tr><td>Australia/NSW</td><td>AEST</td><td>10:00:00</td><td>False</td></tr>",
                            "<tr><td>Australia/Perth</td><td>AWST</td><td>8:00:00</td><td>False</td></tr>",
                            "<tr><td>Australia/Queensland</td><td>AEST</td><td>10:00:00</td><td>False</td></tr>",
                            "<tr><td>Australia/South</td><td>ACST</td><td>9:30:00</td><td>False</td></tr>",
                            "<tr><td>Australia/Sydney</td><td>AEST</td><td>10:00:00</td><td>False</td></tr>",
                            "<tr><td>Australia/Tasmania</td><td>AEST</td><td>10:00:00</td><td>False</td></tr>",
                            "<tr><td>Australia/Victoria</td><td>AEST</td><td>10:00:00</td><td>False</td></tr>",
                            "<tr><td>Australia/West</td><td>AWST</td><td>8:00:00</td><td>False</td></tr>",
                            "<tr><td>Australia/Yancowinna</td><td>ACST</td><td>9:30:00</td><td>False</td></tr>",
                            "<tr><td>Brazil/Acre</td><td>-05</td><td>-1 day, 19:00:00</td><td>False</td></tr>",
                            "<tr><td>Brazil/DeNoronha</td><td>-02</td><td>-1 day, 22:00:00</td><td>False</td></tr>",
                            "<tr><td>Brazil/East</td><td>-03</td><td>-1 day, 21:00:00</td><td>False</td></tr>",
                            "<tr><td>Brazil/West</td><td>-04</td><td>-1 day, 20:00:00</td><td>False</td></tr>",
                            "<tr><td>Canada/Atlantic</td><td>ADT</td><td>-1 day, 21:00:00</td><td>True</td></tr>",
                            "<tr><td>Canada/Central</td><td>CDT</td><td>-1 day, 19:00:00</td><td>True</td></tr>",
                            "<tr><td>Canada/Eastern</td><td>EDT</td><td>-1 day, 20:00:00</td><td>True</td></tr>",
                            "<tr><td>Canada/Mountain</td><td>MDT</td><td>-1 day, 18:00:00</td><td>True</td></tr>",
                            "<tr><td>Canada/Newfoundland</td><td>NDT</td><td>-1 day, 21:30:00</td><td>True</td></tr>",
                            "<tr><td>Canada/Pacific</td><td>PDT</td><td>-1 day, 17:00:00</td><td>True</td></tr>",
                            "<tr><td>Canada/Saskatchewan</td><td>CST</td><td>-1 day, 18:00:00</td><td>False</td></tr>",
                            "<tr><td>Canada/Yukon</td><td>MST</td><td>-1 day, 17:00:00</td><td>False</td></tr>",
                            "<tr><td>CET</td><td>CEST</td><td>2:00:00</td><td>True</td></tr>",
                            "<tr><td>Chile/Continental</td><td>-04</td><td>-1 day, 20:00:00</td><td>False</td></tr>",
                            "<tr><td>Chile/EasterIsland</td><td>-06</td><td>-1 day, 18:00:00</td><td>False</td></tr>",
                            "<tr><td>CST6CDT</td><td>CDT</td><td>-1 day, 19:00:00</td><td>True</td></tr>",
                            "<tr><td>Cuba</td><td>CDT</td><td>-1 day, 20:00:00</td><td>True</td></tr>",
                            "<tr><td>EET</td><td>EEST</td><td>3:00:00</td><td>True</td></tr>",
                            "<tr><td>Egypt</td><td>EET</td><td>2:00:00</td><td>False</td></tr>",
                            "<tr><td>Eire</td><td>IST</td><td>1:00:00</td><td>False</td></tr>",
                            "<tr><td>EST</td><td>EST</td><td>-1 day, 19:00:00</td><td>False</td></tr>",
                            "<tr><td>EST5EDT</td><td>EDT</td><td>-1 day, 20:00:00</td><td>True</td></tr>",
                            "<tr><td>Etc/GMT</td><td>GMT</td><td>0:00:00</td><td>False</td></tr>",
                            "<tr><td>Etc/GMT+0</td><td>GMT</td><td>0:00:00</td><td>False</td></tr>",
                            "<tr><td>Etc/GMT+1</td><td>-01</td><td>-1 day, 23:00:00</td><td>False</td></tr>",
                            "<tr><td>Etc/GMT+10</td><td>-10</td><td>-1 day, 14:00:00</td><td>False</td></tr>",
                            "<tr><td>Etc/GMT+11</td><td>-11</td><td>-1 day, 13:00:00</td><td>False</td></tr>",
                            "<tr><td>Etc/GMT+12</td><td>-12</td><td>-1 day, 12:00:00</td><td>False</td></tr>",
                            "<tr><td>Etc/GMT+2</td><td>-02</td><td>-1 day, 22:00:00</td><td>False</td></tr>",
                            "<tr><td>Etc/GMT+3</td><td>-03</td><td>-1 day, 21:00:00</td><td>False</td></tr>",
                            "<tr><td>Etc/GMT+4</td><td>-04</td><td>-1 day, 20:00:00</td><td>False</td></tr>",
                            "<tr><td>Etc/GMT+5</td><td>-05</td><td>-1 day, 19:00:00</td><td>False</td></tr>",
                            "<tr><td>Etc/GMT+6</td><td>-06</td><td>-1 day, 18:00:00</td><td>False</td></tr>",
                            "<tr><td>Etc/GMT+7</td><td>-07</td><td>-1 day, 17:00:00</td><td>False</td></tr>",
                            "<tr><td>Etc/GMT+8</td><td>-08</td><td>-1 day, 16:00:00</td><td>False</td></tr>",
                            "<tr><td>Etc/GMT+9</td><td>-09</td><td>-1 day, 15:00:00</td><td>False</td></tr>",
                            "<tr><td>Etc/GMT-0</td><td>GMT</td><td>0:00:00</td><td>False</td></tr>",
                            "<tr><td>Etc/GMT-1</td><td>+01</td><td>1:00:00</td><td>False</td></tr>",
                            "<tr><td>Etc/GMT-10</td><td>+10</td><td>10:00:00</td><td>False</td></tr>",
                            "<tr><td>Etc/GMT-11</td><td>+11</td><td>11:00:00</td><td>False</td></tr>",
                            "<tr><td>Etc/GMT-12</td><td>+12</td><td>12:00:00</td><td>False</td></tr>",
                            "<tr><td>Etc/GMT-13</td><td>+13</td><td>13:00:00</td><td>False</td></tr>",
                            "<tr><td>Etc/GMT-14</td><td>+14</td><td>14:00:00</td><td>False</td></tr>",
                            "<tr><td>Etc/GMT-2</td><td>+02</td><td>2:00:00</td><td>False</td></tr>",
                            "<tr><td>Etc/GMT-3</td><td>+03</td><td>3:00:00</td><td>False</td></tr>",
                            "<tr><td>Etc/GMT-4</td><td>+04</td><td>4:00:00</td><td>False</td></tr>",
                            "<tr><td>Etc/GMT-5</td><td>+05</td><td>5:00:00</td><td>False</td></tr>",
                            "<tr><td>Etc/GMT-6</td><td>+06</td><td>6:00:00</td><td>False</td></tr>",
                            "<tr><td>Etc/GMT-7</td><td>+07</td><td>7:00:00</td><td>False</td></tr>",
                            "<tr><td>Etc/GMT-8</td><td>+08</td><td>8:00:00</td><td>False</td></tr>",
                            "<tr><td>Etc/GMT-9</td><td>+09</td><td>9:00:00</td><td>False</td></tr>",
                            "<tr><td>Etc/GMT0</td><td>GMT</td><td>0:00:00</td><td>False</td></tr>",
                            "<tr><td>Etc/Greenwich</td><td>GMT</td><td>0:00:00</td><td>False</td></tr>",
                            "<tr><td>Etc/UCT</td><td>UTC</td><td>0:00:00</td><td>False</td></tr>",
                            "<tr><td>Etc/Universal</td><td>UTC</td><td>0:00:00</td><td>False</td></tr>",
                            "<tr><td>Etc/UTC</td><td>UTC</td><td>0:00:00</td><td>False</td></tr>",
                            "<tr><td>Etc/Zulu</td><td>UTC</td><td>0:00:00</td><td>False</td></tr>",
                            "<tr><td>Europe/Amsterdam</td><td>CEST</td><td>2:00:00</td><td>True</td></tr>",
                            "<tr><td>Europe/Andorra</td><td>CEST</td><td>2:00:00</td><td>True</td></tr>",
                            "<tr><td>Europe/Astrakhan</td><td>+04</td><td>4:00:00</td><td>False</td></tr>",
                            "<tr><td>Europe/Athens</td><td>EEST</td><td>3:00:00</td><td>True</td></tr>",
                            "<tr><td>Europe/Belfast</td><td>BST</td><td>1:00:00</td><td>True</td></tr>",
                            "<tr><td>Europe/Belgrade</td><td>CEST</td><td>2:00:00</td><td>True</td></tr>",
                            "<tr><td>Europe/Berlin</td><td>CEST</td><td>2:00:00</td><td>True</td></tr>",
                            "<tr><td>Europe/Bratislava</td><td>CEST</td><td>2:00:00</td><td>True</td></tr>",
                            "<tr><td>Europe/Brussels</td><td>CEST</td><td>2:00:00</td><td>True</td></tr>",
                            "<tr><td>Europe/Bucharest</td><td>EEST</td><td>3:00:00</td><td>True</td></tr>",
                            "<tr><td>Europe/Budapest</td><td>CEST</td><td>2:00:00</td><td>True</td></tr>",
                            "<tr><td>Europe/Busingen</td><td>CEST</td><td>2:00:00</td><td>True</td></tr>",
                            "<tr><td>Europe/Chisinau</td><td>EEST</td><td>3:00:00</td><td>True</td></tr>",
                            "<tr><td>Europe/Copenhagen</td><td>CEST</td><td>2:00:00</td><td>True</td></tr>",
                            "<tr><td>Europe/Dublin</td><td>IST</td><td>1:00:00</td><td>False</td></tr>",
                            "<tr><td>Europe/Gibraltar</td><td>CEST</td><td>2:00:00</td><td>True</td></tr>",
                            "<tr><td>Europe/Guernsey</td><td>BST</td><td>1:00:00</td><td>True</td></tr>",
                            "<tr><td>Europe/Helsinki</td><td>EEST</td><td>3:00:00</td><td>True</td></tr>",
                            "<tr><td>Europe/Isle_of_Man</td><td>BST</td><td>1:00:00</td><td>True</td></tr>",
                            "<tr><td>Europe/Istanbul</td><td>+03</td><td>3:00:00</td><td>False</td></tr>",
                            "<tr><td>Europe/Jersey</td><td>BST</td><td>1:00:00</td><td>True</td></tr>",
                            "<tr><td>Europe/Kaliningrad</td><td>EET</td><td>2:00:00</td><td>False</td></tr>",
                            "<tr><td>Europe/Kiev</td><td>EEST</td><td>3:00:00</td><td>True</td></tr>",
                            "<tr><td>Europe/Kirov</td><td>+03</td><td>3:00:00</td><td>False</td></tr>",
                            "<tr><td>Europe/Lisbon</td><td>WEST</td><td>1:00:00</td><td>True</td></tr>",
                            "<tr><td>Europe/Ljubljana</td><td>CEST</td><td>2:00:00</td><td>True</td></tr>",
                            "<tr><td>Europe/London</td><td>BST</td><td>1:00:00</td><td>True</td></tr>",
                            "<tr><td>Europe/Luxembourg</td><td>CEST</td><td>2:00:00</td><td>True</td></tr>",
                            "<tr><td>Europe/Madrid</td><td>CEST</td><td>2:00:00</td><td>True</td></tr>",
                            "<tr><td>Europe/Malta</td><td>CEST</td><td>2:00:00</td><td>True</td></tr>",
                            "<tr><td>Europe/Mariehamn</td><td>EEST</td><td>3:00:00</td><td>True</td></tr>",
                            "<tr><td>Europe/Minsk</td><td>+03</td><td>3:00:00</td><td>False</td></tr>",
                            "<tr><td>Europe/Monaco</td><td>CEST</td><td>2:00:00</td><td>True</td></tr>",
                            "<tr><td>Europe/Moscow</td><td>MSK</td><td>3:00:00</td><td>False</td></tr>",
                            "<tr><td>Europe/Nicosia</td><td>EEST</td><td>3:00:00</td><td>True</td></tr>",
                            "<tr><td>Europe/Oslo</td><td>CEST</td><td>2:00:00</td><td>True</td></tr>",
                            "<tr><td>Europe/Paris</td><td>CEST</td><td>2:00:00</td><td>True</td></tr>",
                            "<tr><td>Europe/Podgorica</td><td>CEST</td><td>2:00:00</td><td>True</td></tr>",
                            "<tr><td>Europe/Prague</td><td>CEST</td><td>2:00:00</td><td>True</td></tr>",
                            "<tr><td>Europe/Riga</td><td>EEST</td><td>3:00:00</td><td>True</td></tr>",
                            "<tr><td>Europe/Rome</td><td>CEST</td><td>2:00:00</td><td>True</td></tr>",
                            "<tr><td>Europe/Samara</td><td>+04</td><td>4:00:00</td><td>False</td></tr>",
                            "<tr><td>Europe/San_Marino</td><td>CEST</td><td>2:00:00</td><td>True</td></tr>",
                            "<tr><td>Europe/Sarajevo</td><td>CEST</td><td>2:00:00</td><td>True</td></tr>",
                            "<tr><td>Europe/Saratov</td><td>+04</td><td>4:00:00</td><td>False</td></tr>",
                            "<tr><td>Europe/Simferopol</td><td>MSK</td><td>3:00:00</td><td>False</td></tr>",
                            "<tr><td>Europe/Skopje</td><td>CEST</td><td>2:00:00</td><td>True</td></tr>",
                            "<tr><td>Europe/Sofia</td><td>EEST</td><td>3:00:00</td><td>True</td></tr>",
                            "<tr><td>Europe/Stockholm</td><td>CEST</td><td>2:00:00</td><td>True</td></tr>",
                            "<tr><td>Europe/Tallinn</td><td>EEST</td><td>3:00:00</td><td>True</td></tr>",
                            "<tr><td>Europe/Tirane</td><td>CEST</td><td>2:00:00</td><td>True</td></tr>",
                            "<tr><td>Europe/Tiraspol</td><td>EEST</td><td>3:00:00</td><td>True</td></tr>",
                            "<tr><td>Europe/Ulyanovsk</td><td>+04</td><td>4:00:00</td><td>False</td></tr>",
                            "<tr><td>Europe/Uzhgorod</td><td>EEST</td><td>3:00:00</td><td>True</td></tr>",
                            "<tr><td>Europe/Vaduz</td><td>CEST</td><td>2:00:00</td><td>True</td></tr>",
                            "<tr><td>Europe/Vatican</td><td>CEST</td><td>2:00:00</td><td>True</td></tr>",
                            "<tr><td>Europe/Vienna</td><td>CEST</td><td>2:00:00</td><td>True</td></tr>",
                            "<tr><td>Europe/Vilnius</td><td>EEST</td><td>3:00:00</td><td>True</td></tr>",
                            "<tr><td>Europe/Volgograd</td><td>+03</td><td>3:00:00</td><td>False</td></tr>",
                            "<tr><td>Europe/Warsaw</td><td>CEST</td><td>2:00:00</td><td>True</td></tr>",
                            "<tr><td>Europe/Zagreb</td><td>CEST</td><td>2:00:00</td><td>True</td></tr>",
                            "<tr><td>Europe/Zaporozhye</td><td>EEST</td><td>3:00:00</td><td>True</td></tr>",
                            "<tr><td>Europe/Zurich</td><td>CEST</td><td>2:00:00</td><td>True</td></tr>",
                            "<tr><td>Factory</td><td>-00</td><td>0:00:00</td><td>False</td></tr>",
                            "<tr><td>GB</td><td>BST</td><td>1:00:00</td><td>True</td></tr>",
                            "<tr><td>GB-Eire</td><td>BST</td><td>1:00:00</td><td>True</td></tr>",
                            "<tr><td>GMT</td><td>GMT</td><td>0:00:00</td><td>False</td></tr>",
                            "<tr><td>GMT+0</td><td>GMT</td><td>0:00:00</td><td>False</td></tr>",
                            "<tr><td>GMT-0</td><td>GMT</td><td>0:00:00</td><td>False</td></tr>",
                            "<tr><td>GMT0</td><td>GMT</td><td>0:00:00</td><td>False</td></tr>",
                            "<tr><td>Greenwich</td><td>GMT</td><td>0:00:00</td><td>False</td></tr>",
                            "<tr><td>Hongkong</td><td>HKT</td><td>8:00:00</td><td>False</td></tr>",
                            "<tr><td>HST</td><td>HST</td><td>-1 day, 14:00:00</td><td>False</td></tr>",
                            "<tr><td>Iceland</td><td>GMT</td><td>0:00:00</td><td>False</td></tr>",
                            "<tr><td>Indian/Antananarivo</td><td>EAT</td><td>3:00:00</td><td>False</td></tr>",
                            "<tr><td>Indian/Chagos</td><td>+06</td><td>6:00:00</td><td>False</td></tr>",
                            "<tr><td>Indian/Christmas</td><td>+07</td><td>7:00:00</td><td>False</td></tr>",
                            "<tr><td>Indian/Cocos</td><td>+0630</td><td>6:30:00</td><td>False</td></tr>",
                            "<tr><td>Indian/Comoro</td><td>EAT</td><td>3:00:00</td><td>False</td></tr>",
                            "<tr><td>Indian/Kerguelen</td><td>+05</td><td>5:00:00</td><td>False</td></tr>",
                            "<tr><td>Indian/Mahe</td><td>+04</td><td>4:00:00</td><td>False</td></tr>",
                            "<tr><td>Indian/Maldives</td><td>+05</td><td>5:00:00</td><td>False</td></tr>",
                            "<tr><td>Indian/Mauritius</td><td>+04</td><td>4:00:00</td><td>False</td></tr>",
                            "<tr><td>Indian/Mayotte</td><td>EAT</td><td>3:00:00</td><td>False</td></tr>",
                            "<tr><td>Indian/Reunion</td><td>+04</td><td>4:00:00</td><td>False</td></tr>",
                            "<tr><td>Iran</td><td>+0430</td><td>4:30:00</td><td>True</td></tr>",
                            "<tr><td>Israel</td><td>IDT</td><td>3:00:00</td><td>True</td></tr>",
                            "<tr><td>Jamaica</td><td>EST</td><td>-1 day, 19:00:00</td><td>False</td></tr>",
                            "<tr><td>Japan</td><td>JST</td><td>9:00:00</td><td>False</td></tr>",
                            "<tr><td>Kwajalein</td><td>+12</td><td>12:00:00</td><td>False</td></tr>",
                            "<tr><td>Libya</td><td>EET</td><td>2:00:00</td><td>False</td></tr>",
                            "<tr><td>MET</td><td>MEST</td><td>2:00:00</td><td>True</td></tr>",
                            "<tr><td>Mexico/BajaNorte</td><td>PDT</td><td>-1 day, 17:00:00</td><td>True</td></tr>",
                            "<tr><td>Mexico/BajaSur</td><td>MDT</td><td>-1 day, 18:00:00</td><td>True</td></tr>",
                            "<tr><td>Mexico/General</td><td>CDT</td><td>-1 day, 19:00:00</td><td>True</td></tr>",
                            "<tr><td>MST</td><td>MST</td><td>-1 day, 17:00:00</td><td>False</td></tr>",
                            "<tr><td>MST7MDT</td><td>MDT</td><td>-1 day, 18:00:00</td><td>True</td></tr>",
                            "<tr><td>Navajo</td><td>MDT</td><td>-1 day, 18:00:00</td><td>True</td></tr>",
                            "<tr><td>NZ</td><td>NZST</td><td>12:00:00</td><td>False</td></tr>",
                            "<tr><td>NZ-CHAT</td><td>+1245</td><td>12:45:00</td><td>False</td></tr>",
                            "<tr><td>Pacific/Apia</td><td>+13</td><td>13:00:00</td><td>False</td></tr>",
                            "<tr><td>Pacific/Auckland</td><td>NZST</td><td>12:00:00</td><td>False</td></tr>",
                            "<tr><td>Pacific/Bougainville</td><td>+11</td><td>11:00:00</td><td>False</td></tr>",
                            "<tr><td>Pacific/Chatham</td><td>+1245</td><td>12:45:00</td><td>False</td></tr>",
                            "<tr><td>Pacific/Chuuk</td><td>+10</td><td>10:00:00</td><td>False</td></tr>",
                            "<tr><td>Pacific/Easter</td><td>-06</td><td>-1 day, 18:00:00</td><td>False</td></tr>",
                            "<tr><td>Pacific/Efate</td><td>+11</td><td>11:00:00</td><td>False</td></tr>",
                            "<tr><td>Pacific/Enderbury</td><td>+13</td><td>13:00:00</td><td>False</td></tr>",
                            "<tr><td>Pacific/Fakaofo</td><td>+13</td><td>13:00:00</td><td>False</td></tr>",
                            "<tr><td>Pacific/Fiji</td><td>+12</td><td>12:00:00</td><td>False</td></tr>",
                            "<tr><td>Pacific/Funafuti</td><td>+12</td><td>12:00:00</td><td>False</td></tr>",
                            "<tr><td>Pacific/Galapagos</td><td>-06</td><td>-1 day, 18:00:00</td><td>False</td></tr>",
                            "<tr><td>Pacific/Gambier</td><td>-09</td><td>-1 day, 15:00:00</td><td>False</td></tr>",
                            "<tr><td>Pacific/Guadalcanal</td><td>+11</td><td>11:00:00</td><td>False</td></tr>",
                            "<tr><td>Pacific/Guam</td><td>ChST</td><td>10:00:00</td><td>False</td></tr>",
                            "<tr><td>Pacific/Honolulu</td><td>HST</td><td>-1 day, 14:00:00</td><td>False</td></tr>",
                            "<tr><td>Pacific/Johnston</td><td>HST</td><td>-1 day, 14:00:00</td><td>False</td></tr>",
                            "<tr><td>Pacific/Kanton</td><td>+13</td><td>13:00:00</td><td>False</td></tr>",
                            "<tr><td>Pacific/Kiritimati</td><td>+14</td><td>14:00:00</td><td>False</td></tr>",
                            "<tr><td>Pacific/Kosrae</td><td>+11</td><td>11:00:00</td><td>False</td></tr>",
                            "<tr><td>Pacific/Kwajalein</td><td>+12</td><td>12:00:00</td><td>False</td></tr>",
                            "<tr><td>Pacific/Majuro</td><td>+12</td><td>12:00:00</td><td>False</td></tr>",
                            "<tr><td>Pacific/Marquesas</td><td>-0930</td><td>-1 day, 14:30:00</td><td>False</td></tr>",
                            "<tr><td>Pacific/Midway</td><td>SST</td><td>-1 day, 13:00:00</td><td>False</td></tr>",
                            "<tr><td>Pacific/Nauru</td><td>+12</td><td>12:00:00</td><td>False</td></tr>",
                            "<tr><td>Pacific/Niue</td><td>-11</td><td>-1 day, 13:00:00</td><td>False</td></tr>",
                            "<tr><td>Pacific/Norfolk</td><td>+11</td><td>11:00:00</td><td>False</td></tr>",
                            "<tr><td>Pacific/Noumea</td><td>+11</td><td>11:00:00</td><td>False</td></tr>",
                            "<tr><td>Pacific/Pago_Pago</td><td>SST</td><td>-1 day, 13:00:00</td><td>False</td></tr>",
                            "<tr><td>Pacific/Palau</td><td>+09</td><td>9:00:00</td><td>False</td></tr>",
                            "<tr><td>Pacific/Pitcairn</td><td>-08</td><td>-1 day, 16:00:00</td><td>False</td></tr>",
                            "<tr><td>Pacific/Pohnpei</td><td>+11</td><td>11:00:00</td><td>False</td></tr>",
                            "<tr><td>Pacific/Ponape</td><td>+11</td><td>11:00:00</td><td>False</td></tr>",
                            "<tr><td>Pacific/Port_Moresby</td><td>+10</td><td>10:00:00</td><td>False</td></tr>",
                            "<tr><td>Pacific/Rarotonga</td><td>-10</td><td>-1 day, 14:00:00</td><td>False</td></tr>",
                            "<tr><td>Pacific/Saipan</td><td>ChST</td><td>10:00:00</td><td>False</td></tr>",
                            "<tr><td>Pacific/Samoa</td><td>SST</td><td>-1 day, 13:00:00</td><td>False</td></tr>",
                            "<tr><td>Pacific/Tahiti</td><td>-10</td><td>-1 day, 14:00:00</td><td>False</td></tr>",
                            "<tr><td>Pacific/Tarawa</td><td>+12</td><td>12:00:00</td><td>False</td></tr>",
                            "<tr><td>Pacific/Tongatapu</td><td>+13</td><td>13:00:00</td><td>False</td></tr>",
                            "<tr><td>Pacific/Truk</td><td>+10</td><td>10:00:00</td><td>False</td></tr>",
                            "<tr><td>Pacific/Wake</td><td>+12</td><td>12:00:00</td><td>False</td></tr>",
                            "<tr><td>Pacific/Wallis</td><td>+12</td><td>12:00:00</td><td>False</td></tr>",
                            "<tr><td>Pacific/Yap</td><td>+10</td><td>10:00:00</td><td>False</td></tr>",
                            "<tr><td>Poland</td><td>CEST</td><td>2:00:00</td><td>True</td></tr>",
                            "<tr><td>Portugal</td><td>WEST</td><td>1:00:00</td><td>True</td></tr>",
                            "<tr><td>PRC</td><td>CST</td><td>8:00:00</td><td>False</td></tr>",
                            "<tr><td>PST8PDT</td><td>PDT</td><td>-1 day, 17:00:00</td><td>True</td></tr>",
                            "<tr><td>ROC</td><td>CST</td><td>8:00:00</td><td>False</td></tr>",
                            "<tr><td>ROK</td><td>KST</td><td>9:00:00</td><td>False</td></tr>",
                            "<tr><td>Singapore</td><td>+08</td><td>8:00:00</td><td>False</td></tr>",
                            "<tr><td>Turkey</td><td>+03</td><td>3:00:00</td><td>False</td></tr>",
                            "<tr><td>UCT</td><td>UTC</td><td>0:00:00</td><td>False</td></tr>",
                            "<tr><td>Universal</td><td>UTC</td><td>0:00:00</td><td>False</td></tr>",
                            "<tr><td>US/Alaska</td><td>AKDT</td><td>-1 day, 16:00:00</td><td>True</td></tr>",
                            "<tr><td>US/Aleutian</td><td>HDT</td><td>-1 day, 15:00:00</td><td>True</td></tr>",
                            "<tr><td>US/Arizona</td><td>MST</td><td>-1 day, 17:00:00</td><td>False</td></tr>",
                            "<tr><td>US/Central</td><td>CDT</td><td>-1 day, 19:00:00</td><td>True</td></tr>",
                            "<tr><td>US/East-Indiana</td><td>EDT</td><td>-1 day, 20:00:00</td><td>True</td></tr>",
                            "<tr><td>US/Eastern</td><td>EDT</td><td>-1 day, 20:00:00</td><td>True</td></tr>",
                            "<tr><td>US/Hawaii</td><td>HST</td><td>-1 day, 14:00:00</td><td>False</td></tr>",
                            "<tr><td>US/Indiana-Starke</td><td>CDT</td><td>-1 day, 19:00:00</td><td>True</td></tr>",
                            "<tr><td>US/Michigan</td><td>EDT</td><td>-1 day, 20:00:00</td><td>True</td></tr>",
                            "<tr><td>US/Mountain</td><td>MDT</td><td>-1 day, 18:00:00</td><td>True</td></tr>",
                            "<tr><td>US/Pacific</td><td>PDT</td><td>-1 day, 17:00:00</td><td>True</td></tr>",
                            "<tr><td>US/Samoa</td><td>SST</td><td>-1 day, 13:00:00</td><td>False</td></tr>",
                            "<tr><td>UTC</td><td>UTC</td><td>0:00:00</td><td>False</td></tr>",
                            "<tr><td>W-SU</td><td>MSK</td><td>3:00:00</td><td>False</td></tr>",
                            "<tr><td>WET</td><td>WEST</td><td>1:00:00</td><td>True</td></tr>",
                            "<tr><td>Zulu</td><td>UTC</td><td>0:00:00</td><td>False</td></tr>",
                            "</table>"
                        ]
                    }
                }
            ],
            "execution_count": 36
        },
        {
            "cell_type": "code",
            "source": [
                "-- to get abbev of contry by using abbev column \r\n",
                "\r\n",
                "SELECT *\r\n",
                "FROM pg_timezone_names\r\n",
                "WHERE abbrev like '%EE%'\r\n",
                ""
            ],
            "metadata": {
                "azdata_cell_guid": "ce51940c-0e81-4073-b60c-e8cea264eea4"
            },
            "outputs": [
                {
                    "output_type": "display_data",
                    "data": {
                        "text/html": "(27 row(s) affected)"
                    },
                    "metadata": {}
                },
                {
                    "output_type": "display_data",
                    "data": {
                        "text/html": "Total execution time: 00:00:00.494"
                    },
                    "metadata": {}
                },
                {
                    "output_type": "execute_result",
                    "metadata": {},
                    "execution_count": 52,
                    "data": {
                        "application/vnd.dataresource+json": {
                            "schema": {
                                "fields": [
                                    {
                                        "name": "name"
                                    },
                                    {
                                        "name": "abbrev"
                                    },
                                    {
                                        "name": "utc_offset"
                                    },
                                    {
                                        "name": "is_dst"
                                    }
                                ]
                            },
                            "data": [
                                {
                                    "0": "Africa/Cairo",
                                    "1": "EET",
                                    "2": "2:00:00",
                                    "3": "False"
                                },
                                {
                                    "0": "Africa/Tripoli",
                                    "1": "EET",
                                    "2": "2:00:00",
                                    "3": "False"
                                },
                                {
                                    "0": "Asia/Amman",
                                    "1": "EEST",
                                    "2": "3:00:00",
                                    "3": "True"
                                },
                                {
                                    "0": "Asia/Beirut",
                                    "1": "EEST",
                                    "2": "3:00:00",
                                    "3": "True"
                                },
                                {
                                    "0": "Asia/Damascus",
                                    "1": "EEST",
                                    "2": "3:00:00",
                                    "3": "True"
                                },
                                {
                                    "0": "Asia/Famagusta",
                                    "1": "EEST",
                                    "2": "3:00:00",
                                    "3": "True"
                                },
                                {
                                    "0": "Asia/Gaza",
                                    "1": "EEST",
                                    "2": "3:00:00",
                                    "3": "True"
                                },
                                {
                                    "0": "Asia/Hebron",
                                    "1": "EEST",
                                    "2": "3:00:00",
                                    "3": "True"
                                },
                                {
                                    "0": "Asia/Nicosia",
                                    "1": "EEST",
                                    "2": "3:00:00",
                                    "3": "True"
                                },
                                {
                                    "0": "EET",
                                    "1": "EEST",
                                    "2": "3:00:00",
                                    "3": "True"
                                },
                                {
                                    "0": "Egypt",
                                    "1": "EET",
                                    "2": "2:00:00",
                                    "3": "False"
                                },
                                {
                                    "0": "Europe/Athens",
                                    "1": "EEST",
                                    "2": "3:00:00",
                                    "3": "True"
                                },
                                {
                                    "0": "Europe/Bucharest",
                                    "1": "EEST",
                                    "2": "3:00:00",
                                    "3": "True"
                                },
                                {
                                    "0": "Europe/Chisinau",
                                    "1": "EEST",
                                    "2": "3:00:00",
                                    "3": "True"
                                },
                                {
                                    "0": "Europe/Helsinki",
                                    "1": "EEST",
                                    "2": "3:00:00",
                                    "3": "True"
                                },
                                {
                                    "0": "Europe/Kaliningrad",
                                    "1": "EET",
                                    "2": "2:00:00",
                                    "3": "False"
                                },
                                {
                                    "0": "Europe/Kiev",
                                    "1": "EEST",
                                    "2": "3:00:00",
                                    "3": "True"
                                },
                                {
                                    "0": "Europe/Mariehamn",
                                    "1": "EEST",
                                    "2": "3:00:00",
                                    "3": "True"
                                },
                                {
                                    "0": "Europe/Nicosia",
                                    "1": "EEST",
                                    "2": "3:00:00",
                                    "3": "True"
                                },
                                {
                                    "0": "Europe/Riga",
                                    "1": "EEST",
                                    "2": "3:00:00",
                                    "3": "True"
                                },
                                {
                                    "0": "Europe/Sofia",
                                    "1": "EEST",
                                    "2": "3:00:00",
                                    "3": "True"
                                },
                                {
                                    "0": "Europe/Tallinn",
                                    "1": "EEST",
                                    "2": "3:00:00",
                                    "3": "True"
                                },
                                {
                                    "0": "Europe/Tiraspol",
                                    "1": "EEST",
                                    "2": "3:00:00",
                                    "3": "True"
                                },
                                {
                                    "0": "Europe/Uzhgorod",
                                    "1": "EEST",
                                    "2": "3:00:00",
                                    "3": "True"
                                },
                                {
                                    "0": "Europe/Vilnius",
                                    "1": "EEST",
                                    "2": "3:00:00",
                                    "3": "True"
                                },
                                {
                                    "0": "Europe/Zaporozhye",
                                    "1": "EEST",
                                    "2": "3:00:00",
                                    "3": "True"
                                },
                                {
                                    "0": "Libya",
                                    "1": "EET",
                                    "2": "2:00:00",
                                    "3": "False"
                                }
                            ]
                        },
                        "text/html": [
                            "<table>",
                            "<tr><th>name</th><th>abbrev</th><th>utc_offset</th><th>is_dst</th></tr>",
                            "<tr><td>Africa/Cairo</td><td>EET</td><td>2:00:00</td><td>False</td></tr>",
                            "<tr><td>Africa/Tripoli</td><td>EET</td><td>2:00:00</td><td>False</td></tr>",
                            "<tr><td>Asia/Amman</td><td>EEST</td><td>3:00:00</td><td>True</td></tr>",
                            "<tr><td>Asia/Beirut</td><td>EEST</td><td>3:00:00</td><td>True</td></tr>",
                            "<tr><td>Asia/Damascus</td><td>EEST</td><td>3:00:00</td><td>True</td></tr>",
                            "<tr><td>Asia/Famagusta</td><td>EEST</td><td>3:00:00</td><td>True</td></tr>",
                            "<tr><td>Asia/Gaza</td><td>EEST</td><td>3:00:00</td><td>True</td></tr>",
                            "<tr><td>Asia/Hebron</td><td>EEST</td><td>3:00:00</td><td>True</td></tr>",
                            "<tr><td>Asia/Nicosia</td><td>EEST</td><td>3:00:00</td><td>True</td></tr>",
                            "<tr><td>EET</td><td>EEST</td><td>3:00:00</td><td>True</td></tr>",
                            "<tr><td>Egypt</td><td>EET</td><td>2:00:00</td><td>False</td></tr>",
                            "<tr><td>Europe/Athens</td><td>EEST</td><td>3:00:00</td><td>True</td></tr>",
                            "<tr><td>Europe/Bucharest</td><td>EEST</td><td>3:00:00</td><td>True</td></tr>",
                            "<tr><td>Europe/Chisinau</td><td>EEST</td><td>3:00:00</td><td>True</td></tr>",
                            "<tr><td>Europe/Helsinki</td><td>EEST</td><td>3:00:00</td><td>True</td></tr>",
                            "<tr><td>Europe/Kaliningrad</td><td>EET</td><td>2:00:00</td><td>False</td></tr>",
                            "<tr><td>Europe/Kiev</td><td>EEST</td><td>3:00:00</td><td>True</td></tr>",
                            "<tr><td>Europe/Mariehamn</td><td>EEST</td><td>3:00:00</td><td>True</td></tr>",
                            "<tr><td>Europe/Nicosia</td><td>EEST</td><td>3:00:00</td><td>True</td></tr>",
                            "<tr><td>Europe/Riga</td><td>EEST</td><td>3:00:00</td><td>True</td></tr>",
                            "<tr><td>Europe/Sofia</td><td>EEST</td><td>3:00:00</td><td>True</td></tr>",
                            "<tr><td>Europe/Tallinn</td><td>EEST</td><td>3:00:00</td><td>True</td></tr>",
                            "<tr><td>Europe/Tiraspol</td><td>EEST</td><td>3:00:00</td><td>True</td></tr>",
                            "<tr><td>Europe/Uzhgorod</td><td>EEST</td><td>3:00:00</td><td>True</td></tr>",
                            "<tr><td>Europe/Vilnius</td><td>EEST</td><td>3:00:00</td><td>True</td></tr>",
                            "<tr><td>Europe/Zaporozhye</td><td>EEST</td><td>3:00:00</td><td>True</td></tr>",
                            "<tr><td>Libya</td><td>EET</td><td>2:00:00</td><td>False</td></tr>",
                            "</table>"
                        ]
                    }
                }
            ],
            "execution_count": 52
        },
        {
            "cell_type": "code",
            "source": [
                "SELECT '2020-01-01 00:00:00 -0' at time zone 'EET'"
            ],
            "metadata": {
                "azdata_cell_guid": "1e29e1e9-1b9b-4de9-98b5-0aa3b4fd5a9f"
            },
            "outputs": [
                {
                    "output_type": "display_data",
                    "data": {
                        "text/html": "(1 row(s) affected)"
                    },
                    "metadata": {}
                },
                {
                    "output_type": "display_data",
                    "data": {
                        "text/html": "Total execution time: 00:00:00.007"
                    },
                    "metadata": {}
                },
                {
                    "output_type": "execute_result",
                    "execution_count": 22,
                    "data": {
                        "application/vnd.dataresource+json": {
                            "schema": {
                                "fields": [
                                    {
                                        "name": "timezone"
                                    }
                                ]
                            },
                            "data": [
                                {
                                    "0": "2020-01-01T02:00:00"
                                }
                            ]
                        },
                        "text/html": "<table><tr><th>timezone</th></tr><tr><td>2020-01-01T02:00:00</td></tr></table>"
                    },
                    "metadata": {}
                }
            ],
            "execution_count": 22
        },
        {
            "cell_type": "code",
            "source": [
                "-- get the current date\r\n",
                "SELECT CURRENT_DATE;\r\n",
                "SELECT CURRENT_TIMESTAMP;\r\n",
                "SELECT CURRENT_TIME;\r\n",
                "SELECT LOCALTIMESTAMP;\r\n",
                "SELECT now();"
            ],
            "metadata": {
                "azdata_cell_guid": "c9296a8a-b2cd-40e1-87f2-c6ee88163185"
            },
            "outputs": [
                {
                    "output_type": "display_data",
                    "data": {
                        "text/html": "(1 row(s) affected)"
                    },
                    "metadata": {}
                },
                {
                    "output_type": "display_data",
                    "data": {
                        "text/html": "(1 row(s) affected)"
                    },
                    "metadata": {}
                },
                {
                    "output_type": "display_data",
                    "data": {
                        "text/html": "(1 row(s) affected)"
                    },
                    "metadata": {}
                },
                {
                    "output_type": "display_data",
                    "data": {
                        "text/html": "(1 row(s) affected)"
                    },
                    "metadata": {}
                },
                {
                    "output_type": "display_data",
                    "data": {
                        "text/html": "(1 row(s) affected)"
                    },
                    "metadata": {}
                },
                {
                    "output_type": "display_data",
                    "data": {
                        "text/html": "Total execution time: 00:00:00.095"
                    },
                    "metadata": {}
                },
                {
                    "output_type": "execute_result",
                    "metadata": {},
                    "execution_count": 4,
                    "data": {
                        "application/vnd.dataresource+json": {
                            "schema": {
                                "fields": [
                                    {
                                        "name": "current_date"
                                    }
                                ]
                            },
                            "data": [
                                {
                                    "0": "2022-04-17"
                                }
                            ]
                        },
                        "text/html": [
                            "<table>",
                            "<tr><th>current_date</th></tr>",
                            "<tr><td>2022-04-17</td></tr>",
                            "</table>"
                        ]
                    }
                },
                {
                    "output_type": "execute_result",
                    "metadata": {},
                    "execution_count": 4,
                    "data": {
                        "application/vnd.dataresource+json": {
                            "schema": {
                                "fields": [
                                    {
                                        "name": "current_timestamp"
                                    }
                                ]
                            },
                            "data": [
                                {
                                    "0": "2022-04-17T08:50:04.349078+02:00"
                                }
                            ]
                        },
                        "text/html": [
                            "<table>",
                            "<tr><th>current_timestamp</th></tr>",
                            "<tr><td>2022-04-17T08:50:04.349078+02:00</td></tr>",
                            "</table>"
                        ]
                    }
                },
                {
                    "output_type": "execute_result",
                    "metadata": {},
                    "execution_count": 4,
                    "data": {
                        "application/vnd.dataresource+json": {
                            "schema": {
                                "fields": [
                                    {
                                        "name": "current_time"
                                    }
                                ]
                            },
                            "data": [
                                {
                                    "0": "08:50:04.362204+02:00"
                                }
                            ]
                        },
                        "text/html": [
                            "<table>",
                            "<tr><th>current_time</th></tr>",
                            "<tr><td>08:50:04.362204+02:00</td></tr>",
                            "</table>"
                        ]
                    }
                },
                {
                    "output_type": "execute_result",
                    "metadata": {},
                    "execution_count": 4,
                    "data": {
                        "application/vnd.dataresource+json": {
                            "schema": {
                                "fields": [
                                    {
                                        "name": "localtimestamp"
                                    }
                                ]
                            },
                            "data": [
                                {
                                    "0": "2022-04-17T08:50:04.374014"
                                }
                            ]
                        },
                        "text/html": [
                            "<table>",
                            "<tr><th>localtimestamp</th></tr>",
                            "<tr><td>2022-04-17T08:50:04.374014</td></tr>",
                            "</table>"
                        ]
                    }
                },
                {
                    "output_type": "execute_result",
                    "metadata": {},
                    "execution_count": 4,
                    "data": {
                        "application/vnd.dataresource+json": {
                            "schema": {
                                "fields": [
                                    {
                                        "name": "now"
                                    }
                                ]
                            },
                            "data": [
                                {
                                    "0": "2022-04-17T08:50:04.393241+02:00"
                                }
                            ]
                        },
                        "text/html": [
                            "<table>",
                            "<tr><th>now</th></tr>",
                            "<tr><td>2022-04-17T08:50:04.393241+02:00</td></tr>",
                            "</table>"
                        ]
                    }
                }
            ],
            "execution_count": 4
        },
        {
            "cell_type": "code",
            "source": [
                "SELECT current_time, current_date, CURRENT_TIMESTAMP, now()"
            ],
            "metadata": {
                "azdata_cell_guid": "c5ce1995-9e9e-41c8-bd75-1bf3ca04bf78"
            },
            "outputs": [
                {
                    "output_type": "display_data",
                    "data": {
                        "text/html": "(1 row(s) affected)"
                    },
                    "metadata": {}
                },
                {
                    "output_type": "display_data",
                    "data": {
                        "text/html": "Total execution time: 00:00:00.017"
                    },
                    "metadata": {}
                },
                {
                    "output_type": "execute_result",
                    "metadata": {},
                    "execution_count": 6,
                    "data": {
                        "application/vnd.dataresource+json": {
                            "schema": {
                                "fields": [
                                    {
                                        "name": "current_time"
                                    },
                                    {
                                        "name": "current_date"
                                    },
                                    {
                                        "name": "current_timestamp"
                                    },
                                    {
                                        "name": "now"
                                    }
                                ]
                            },
                            "data": [
                                {
                                    "0": "08:53:44.133270+02:00",
                                    "1": "2022-04-17",
                                    "2": "2022-04-17T08:53:44.133270+02:00",
                                    "3": "2022-04-17T08:53:44.133270+02:00"
                                }
                            ]
                        },
                        "text/html": [
                            "<table>",
                            "<tr><th>current_time</th><th>current_date</th><th>current_timestamp</th><th>now</th></tr>",
                            "<tr><td>08:53:44.133270+02:00</td><td>2022-04-17</td><td>2022-04-17T08:53:44.133270+02:00</td><td>2022-04-17T08:53:44.133270+02:00</td></tr>",
                            "</table>"
                        ]
                    }
                }
            ],
            "execution_count": 6
        },
        {
            "cell_type": "code",
            "source": [
                "-- convert the date using date_trunc to zeros the other than select \r\n",
                "SELECT date_trunc('quarter', now())"
            ],
            "metadata": {
                "azdata_cell_guid": "7d4a36ed-754b-4fc2-9d66-a82524491591"
            },
            "outputs": [
                {
                    "output_type": "display_data",
                    "data": {
                        "text/html": "(1 row(s) affected)"
                    },
                    "metadata": {}
                },
                {
                    "output_type": "display_data",
                    "data": {
                        "text/html": "Total execution time: 00:00:00.014"
                    },
                    "metadata": {}
                },
                {
                    "output_type": "execute_result",
                    "metadata": {},
                    "execution_count": 12,
                    "data": {
                        "application/vnd.dataresource+json": {
                            "schema": {
                                "fields": [
                                    {
                                        "name": "date_trunc"
                                    }
                                ]
                            },
                            "data": [
                                {
                                    "0": "2022-04-01T00:00:00+02:00"
                                }
                            ]
                        },
                        "text/html": [
                            "<table>",
                            "<tr><th>date_trunc</th></tr>",
                            "<tr><td>2022-04-01T00:00:00+02:00</td></tr>",
                            "</table>"
                        ]
                    }
                }
            ],
            "execution_count": 12
        },
        {
            "cell_type": "code",
            "source": [
                "-- get the part of the date, day month year decade century millennium \r\n",
                "SELECT date_part('day', now()) _day,\r\n",
                "       date_part('month', now()) _month,\r\n",
                "       date_part('year', now()) _year,\r\n",
                "       date_part('century', now()) century,\r\n",
                "       date_part('millennium', now()) millenium,\r\n",
                "       date_part('decade', now()) decade;\r\n",
                "\r\n",
                "\r\n",
                "-- another functon to extract data from date\r\n",
                "\r\n",
                "SELECT EXTRACT('month'\r\n",
                "               FROM CURRENT_TIMESTAMP);"
            ],
            "metadata": {
                "azdata_cell_guid": "5290d193-4619-46b8-8d64-dcaedf334dc0",
                "tags": []
            },
            "outputs": [
                {
                    "output_type": "display_data",
                    "data": {
                        "text/html": "(1 row(s) affected)"
                    },
                    "metadata": {}
                },
                {
                    "output_type": "display_data",
                    "data": {
                        "text/html": "(1 row(s) affected)"
                    },
                    "metadata": {}
                },
                {
                    "output_type": "display_data",
                    "data": {
                        "text/html": "Total execution time: 00:00:00.021"
                    },
                    "metadata": {}
                },
                {
                    "output_type": "execute_result",
                    "metadata": {},
                    "execution_count": 24,
                    "data": {
                        "application/vnd.dataresource+json": {
                            "schema": {
                                "fields": [
                                    {
                                        "name": "_day"
                                    },
                                    {
                                        "name": "_month"
                                    },
                                    {
                                        "name": "_year"
                                    },
                                    {
                                        "name": "century"
                                    },
                                    {
                                        "name": "millenium"
                                    },
                                    {
                                        "name": "decade"
                                    }
                                ]
                            },
                            "data": [
                                {
                                    "0": "17.0",
                                    "1": "4.0",
                                    "2": "2022.0",
                                    "3": "21.0",
                                    "4": "3.0",
                                    "5": "202.0"
                                }
                            ]
                        },
                        "text/html": [
                            "<table>",
                            "<tr><th>_day</th><th>_month</th><th>_year</th><th>century</th><th>millenium</th><th>decade</th></tr>",
                            "<tr><td>17.0</td><td>4.0</td><td>2022.0</td><td>21.0</td><td>3.0</td><td>202.0</td></tr>",
                            "</table>"
                        ]
                    }
                },
                {
                    "output_type": "execute_result",
                    "metadata": {},
                    "execution_count": 24,
                    "data": {
                        "application/vnd.dataresource+json": {
                            "schema": {
                                "fields": [
                                    {
                                        "name": "extract"
                                    }
                                ]
                            },
                            "data": [
                                {
                                    "0": "4"
                                }
                            ]
                        },
                        "text/html": [
                            "<table>",
                            "<tr><th>extract</th></tr>",
                            "<tr><td>4</td></tr>",
                            "</table>"
                        ]
                    }
                }
            ],
            "execution_count": 24
        },
        {
            "cell_type": "markdown",
            "source": [
                ""
            ],
            "metadata": {
                "azdata_cell_guid": "2fbe1a60-33d2-4c9b-9e92-092e732a3253"
            }
        },
        {
            "cell_type": "code",
            "source": [
                "SELECT interval '3 months';"
            ],
            "metadata": {
                "azdata_cell_guid": "69fe8ecd-feb0-49d1-9f4b-800c442f54b9"
            },
            "outputs": [
                {
                    "output_type": "display_data",
                    "data": {
                        "text/html": "(1 row(s) affected)"
                    },
                    "metadata": {}
                },
                {
                    "output_type": "display_data",
                    "data": {
                        "text/html": "Total execution time: 00:00:00.019"
                    },
                    "metadata": {}
                },
                {
                    "output_type": "execute_result",
                    "metadata": {},
                    "execution_count": 25,
                    "data": {
                        "application/vnd.dataresource+json": {
                            "schema": {
                                "fields": [
                                    {
                                        "name": "interval"
                                    }
                                ]
                            },
                            "data": [
                                {
                                    "0": "90 days, 0:00:00"
                                }
                            ]
                        },
                        "text/html": [
                            "<table>",
                            "<tr><th>interval</th></tr>",
                            "<tr><td>90 days, 0:00:00</td></tr>",
                            "</table>"
                        ]
                    }
                }
            ],
            "execution_count": 25
        },
        {
            "cell_type": "code",
            "source": [
                "-- to get the text value of the date parts\r\n",
                "SELECT to_char(CURRENT_TIMESTAMP, 'Day') _day, to_char(CURRENT_TIMESTAMP, 'Month') _month, to_char(CURRENT_TIMESTAMP, 'year') _year;\r\n",
                ""
            ],
            "metadata": {
                "azdata_cell_guid": "b54fad85-7c00-46f1-878d-189604040155"
            },
            "outputs": [
                {
                    "output_type": "display_data",
                    "data": {
                        "text/html": "(1 row(s) affected)"
                    },
                    "metadata": {}
                },
                {
                    "output_type": "display_data",
                    "data": {
                        "text/html": "Total execution time: 00:00:00.009"
                    },
                    "metadata": {}
                },
                {
                    "output_type": "execute_result",
                    "metadata": {},
                    "execution_count": 30,
                    "data": {
                        "application/vnd.dataresource+json": {
                            "schema": {
                                "fields": [
                                    {
                                        "name": "_day"
                                    },
                                    {
                                        "name": "_month"
                                    },
                                    {
                                        "name": "_year"
                                    }
                                ]
                            },
                            "data": [
                                {
                                    "0": "Sunday   ",
                                    "1": "April    ",
                                    "2": "Centur2"
                                }
                            ]
                        },
                        "text/html": [
                            "<table>",
                            "<tr><th>_day</th><th>_month</th><th>_year</th></tr>",
                            "<tr><td>Sunday   </td><td>April    </td><td>Centur2</td></tr>",
                            "</table>"
                        ]
                    }
                }
            ],
            "execution_count": 30
        },
        {
            "cell_type": "code",
            "source": [
                "-- create timestamp from seprate date and time using + sign:\r\n",
                "SELECT date '2000-02-01' + time '03:00:00' as timestamp;\r\n",
                "\r\n",
                "-- create date by make_date function from date parts \r\n",
                "SELECT make_date(2000,01,03);"
            ],
            "metadata": {
                "azdata_cell_guid": "2b08a732-fea9-44bb-a9c3-afefcf939198",
                "tags": []
            },
            "outputs": [
                {
                    "output_type": "display_data",
                    "data": {
                        "text/html": "(1 row(s) affected)"
                    },
                    "metadata": {}
                },
                {
                    "output_type": "display_data",
                    "data": {
                        "text/html": "(1 row(s) affected)"
                    },
                    "metadata": {}
                },
                {
                    "output_type": "display_data",
                    "data": {
                        "text/html": "Total execution time: 00:00:00.048"
                    },
                    "metadata": {}
                },
                {
                    "output_type": "execute_result",
                    "metadata": {},
                    "execution_count": 32,
                    "data": {
                        "application/vnd.dataresource+json": {
                            "schema": {
                                "fields": [
                                    {
                                        "name": "timestamp"
                                    }
                                ]
                            },
                            "data": [
                                {
                                    "0": "2000-02-01T03:00:00"
                                }
                            ]
                        },
                        "text/html": [
                            "<table>",
                            "<tr><th>timestamp</th></tr>",
                            "<tr><td>2000-02-01T03:00:00</td></tr>",
                            "</table>"
                        ]
                    }
                },
                {
                    "output_type": "execute_result",
                    "metadata": {},
                    "execution_count": 32,
                    "data": {
                        "application/vnd.dataresource+json": {
                            "schema": {
                                "fields": [
                                    {
                                        "name": "make_date"
                                    }
                                ]
                            },
                            "data": [
                                {
                                    "0": "2000-01-03"
                                }
                            ]
                        },
                        "text/html": [
                            "<table>",
                            "<tr><th>make_date</th></tr>",
                            "<tr><td>2000-01-03</td></tr>",
                            "</table>"
                        ]
                    }
                }
            ],
            "execution_count": 32
        },
        {
            "cell_type": "markdown",
            "source": [
                "# Date Math"
            ],
            "metadata": {
                "azdata_cell_guid": "b544f730-e932-4c5a-a919-8b336e45a8f7"
            },
            "attachments": {}
        },
        {
            "cell_type": "code",
            "source": [
                "-- find days elapsed between two dates\r\n",
                "-- First by using minus (-) sign, return no of days between them \r\n",
                "SELECT date('2021-06-02') - date('2020-04-02') as days;\r\n",
                "\r\n",
                "-- using age function\r\n",
                "SELECT age(date('2020-06-30'),date('2020-01-01'));\r\n",
                "\r\n",
                "-- then get the number of month \r\n",
                "SELECT date_part('month',age('2020-06-30','2020-01-01')) as months;\r\n",
                ""
            ],
            "metadata": {
                "azdata_cell_guid": "362f69bc-316a-4d7f-b84b-949ced891918"
            },
            "outputs": [
                {
                    "output_type": "display_data",
                    "data": {
                        "text/html": "(1 row(s) affected)"
                    },
                    "metadata": {}
                },
                {
                    "output_type": "display_data",
                    "data": {
                        "text/html": "(1 row(s) affected)"
                    },
                    "metadata": {}
                },
                {
                    "output_type": "display_data",
                    "data": {
                        "text/html": "(1 row(s) affected)"
                    },
                    "metadata": {}
                },
                {
                    "output_type": "display_data",
                    "data": {
                        "text/html": "Total execution time: 00:00:00.054"
                    },
                    "metadata": {}
                },
                {
                    "output_type": "execute_result",
                    "metadata": {},
                    "execution_count": 9,
                    "data": {
                        "application/vnd.dataresource+json": {
                            "schema": {
                                "fields": [
                                    {
                                        "name": "days"
                                    }
                                ]
                            },
                            "data": [
                                {
                                    "0": "426"
                                }
                            ]
                        },
                        "text/html": [
                            "<table>",
                            "<tr><th>days</th></tr>",
                            "<tr><td>426</td></tr>",
                            "</table>"
                        ]
                    }
                },
                {
                    "output_type": "execute_result",
                    "metadata": {},
                    "execution_count": 9,
                    "data": {
                        "application/vnd.dataresource+json": {
                            "schema": {
                                "fields": [
                                    {
                                        "name": "age"
                                    }
                                ]
                            },
                            "data": [
                                {
                                    "0": "179 days, 0:00:00"
                                }
                            ]
                        },
                        "text/html": [
                            "<table>",
                            "<tr><th>age</th></tr>",
                            "<tr><td>179 days, 0:00:00</td></tr>",
                            "</table>"
                        ]
                    }
                },
                {
                    "output_type": "execute_result",
                    "metadata": {},
                    "execution_count": 9,
                    "data": {
                        "application/vnd.dataresource+json": {
                            "schema": {
                                "fields": [
                                    {
                                        "name": "months"
                                    }
                                ]
                            },
                            "data": [
                                {
                                    "0": "5.0"
                                }
                            ]
                        },
                        "text/html": [
                            "<table>",
                            "<tr><th>months</th></tr>",
                            "<tr><td>5.0</td></tr>",
                            "</table>"
                        ]
                    }
                }
            ],
            "execution_count": 9
        },
        {
            "cell_type": "code",
            "source": [
                "-- adding date using interval\r\n",
                "SELECT date('2020-06-01') + INTERVAL '7 year' as new_date;\r\n",
                "\r\n",
                "-- we can use (+) sign to add days to date\r\n",
                "SELECT date('2020-06-01') + 7;\r\n",
                ""
            ],
            "metadata": {
                "azdata_cell_guid": "f5cbbca8-88d1-4267-b896-51414d23235b"
            },
            "outputs": [
                {
                    "output_type": "display_data",
                    "data": {
                        "text/html": "(1 row(s) affected)"
                    },
                    "metadata": {}
                },
                {
                    "output_type": "display_data",
                    "data": {
                        "text/html": "(1 row(s) affected)"
                    },
                    "metadata": {}
                },
                {
                    "output_type": "display_data",
                    "data": {
                        "text/html": "Total execution time: 00:00:00.022"
                    },
                    "metadata": {}
                },
                {
                    "output_type": "execute_result",
                    "metadata": {},
                    "execution_count": 18,
                    "data": {
                        "application/vnd.dataresource+json": {
                            "schema": {
                                "fields": [
                                    {
                                        "name": "new_date"
                                    }
                                ]
                            },
                            "data": [
                                {
                                    "0": "2027-06-01T00:00:00"
                                }
                            ]
                        },
                        "text/html": [
                            "<table>",
                            "<tr><th>new_date</th></tr>",
                            "<tr><td>2027-06-01T00:00:00</td></tr>",
                            "</table>"
                        ]
                    }
                },
                {
                    "output_type": "execute_result",
                    "metadata": {},
                    "execution_count": 18,
                    "data": {
                        "application/vnd.dataresource+json": {
                            "schema": {
                                "fields": [
                                    {
                                        "name": "Column1"
                                    }
                                ]
                            },
                            "data": [
                                {
                                    "0": "2020-06-08"
                                }
                            ]
                        },
                        "text/html": [
                            "<table>",
                            "<tr><th>Column1</th></tr>",
                            "<tr><td>2020-06-08</td></tr>",
                            "</table>"
                        ]
                    }
                }
            ],
            "execution_count": 18
        },
        {
            "cell_type": "code",
            "source": [
                "-- any of these formulation can be used in where clause\r\n",
                "WHERE event_date < current_date - interval '3 months'"
            ],
            "metadata": {
                "azdata_cell_guid": "6f54edf8-f18e-4cc9-8fdb-1d3390a42ab6"
            },
            "outputs": [
                {
                    "output_type": "display_data",
                    "data": {
                        "text/html": "(1 row(s) affected)"
                    },
                    "metadata": {}
                },
                {
                    "output_type": "display_data",
                    "data": {
                        "text/html": "Total execution time: 00:00:00.009"
                    },
                    "metadata": {}
                },
                {
                    "output_type": "execute_result",
                    "metadata": {},
                    "execution_count": 12,
                    "data": {
                        "application/vnd.dataresource+json": {
                            "schema": {
                                "fields": [
                                    {
                                        "name": "Column1"
                                    }
                                ]
                            },
                            "data": [
                                {
                                    "0": "2020-06-08"
                                }
                            ]
                        },
                        "text/html": [
                            "<table>",
                            "<tr><th>Column1</th></tr>",
                            "<tr><td>2020-06-08</td></tr>",
                            "</table>"
                        ]
                    }
                }
            ],
            "execution_count": 12
        },
        {
            "cell_type": "markdown",
            "source": [
                "# Time Math"
            ],
            "metadata": {
                "azdata_cell_guid": "accd0178-bcdc-454d-9acf-ac4cc9f1902e"
            },
            "attachments": {}
        },
        {
            "cell_type": "code",
            "source": [
                "-- add time using interval \r\n",
                "SELECT time '05:00' + INTERVAL '3 hrs' new_time;\r\n",
                "\r\n",
                "-- we can substract interval from time \r\n",
                "SELECT time '2:00' - INTERVAL '3 hrs' as new_time;\r\n",
                "\r\n",
                "-- we can susbstract time from time \r\n",
                "SELECT time '2:00' -  time '01:00' as new_time;\r\n",
                "\r\n",
                "-- can be multiplied\r\n",
                "SELECT time '05:00' * 40 as time_multiplied;\r\n",
                "\r\n",
                "SELECT interval '1 second' * 2000 as interval_multiplied;\r\n",
                "\r\n",
                "SELECT interval '1 day' * 45 as interval_multiplied;"
            ],
            "metadata": {
                "azdata_cell_guid": "c7df9536-db05-4047-a798-6d29d04fb830",
                "tags": []
            },
            "outputs": [
                {
                    "output_type": "display_data",
                    "data": {
                        "text/html": "(1 row(s) affected)"
                    },
                    "metadata": {}
                },
                {
                    "output_type": "display_data",
                    "data": {
                        "text/html": "(1 row(s) affected)"
                    },
                    "metadata": {}
                },
                {
                    "output_type": "display_data",
                    "data": {
                        "text/html": "(1 row(s) affected)"
                    },
                    "metadata": {}
                },
                {
                    "output_type": "display_data",
                    "data": {
                        "text/html": "(1 row(s) affected)"
                    },
                    "metadata": {}
                },
                {
                    "output_type": "display_data",
                    "data": {
                        "text/html": "(1 row(s) affected)"
                    },
                    "metadata": {}
                },
                {
                    "output_type": "display_data",
                    "data": {
                        "text/html": "(1 row(s) affected)"
                    },
                    "metadata": {}
                },
                {
                    "output_type": "display_data",
                    "data": {
                        "text/html": "Total execution time: 00:00:00.067"
                    },
                    "metadata": {}
                },
                {
                    "output_type": "execute_result",
                    "metadata": {},
                    "execution_count": 28,
                    "data": {
                        "application/vnd.dataresource+json": {
                            "schema": {
                                "fields": [
                                    {
                                        "name": "new_time"
                                    }
                                ]
                            },
                            "data": [
                                {
                                    "0": "08:00:00"
                                }
                            ]
                        },
                        "text/html": [
                            "<table>",
                            "<tr><th>new_time</th></tr>",
                            "<tr><td>08:00:00</td></tr>",
                            "</table>"
                        ]
                    }
                },
                {
                    "output_type": "execute_result",
                    "metadata": {},
                    "execution_count": 28,
                    "data": {
                        "application/vnd.dataresource+json": {
                            "schema": {
                                "fields": [
                                    {
                                        "name": "new_time"
                                    }
                                ]
                            },
                            "data": [
                                {
                                    "0": "23:00:00"
                                }
                            ]
                        },
                        "text/html": [
                            "<table>",
                            "<tr><th>new_time</th></tr>",
                            "<tr><td>23:00:00</td></tr>",
                            "</table>"
                        ]
                    }
                },
                {
                    "output_type": "execute_result",
                    "metadata": {},
                    "execution_count": 28,
                    "data": {
                        "application/vnd.dataresource+json": {
                            "schema": {
                                "fields": [
                                    {
                                        "name": "new_time"
                                    }
                                ]
                            },
                            "data": [
                                {
                                    "0": "1:00:00"
                                }
                            ]
                        },
                        "text/html": [
                            "<table>",
                            "<tr><th>new_time</th></tr>",
                            "<tr><td>1:00:00</td></tr>",
                            "</table>"
                        ]
                    }
                },
                {
                    "output_type": "execute_result",
                    "metadata": {},
                    "execution_count": 28,
                    "data": {
                        "application/vnd.dataresource+json": {
                            "schema": {
                                "fields": [
                                    {
                                        "name": "time_multiplied"
                                    }
                                ]
                            },
                            "data": [
                                {
                                    "0": "8 days, 8:00:00"
                                }
                            ]
                        },
                        "text/html": [
                            "<table>",
                            "<tr><th>time_multiplied</th></tr>",
                            "<tr><td>8 days, 8:00:00</td></tr>",
                            "</table>"
                        ]
                    }
                },
                {
                    "output_type": "execute_result",
                    "metadata": {},
                    "execution_count": 28,
                    "data": {
                        "application/vnd.dataresource+json": {
                            "schema": {
                                "fields": [
                                    {
                                        "name": "interval_multiplied"
                                    }
                                ]
                            },
                            "data": [
                                {
                                    "0": "0:33:20"
                                }
                            ]
                        },
                        "text/html": [
                            "<table>",
                            "<tr><th>interval_multiplied</th></tr>",
                            "<tr><td>0:33:20</td></tr>",
                            "</table>"
                        ]
                    }
                },
                {
                    "output_type": "execute_result",
                    "metadata": {},
                    "execution_count": 28,
                    "data": {
                        "application/vnd.dataresource+json": {
                            "schema": {
                                "fields": [
                                    {
                                        "name": "interval_multiplied"
                                    }
                                ]
                            },
                            "data": [
                                {
                                    "0": "45 days, 0:00:00"
                                }
                            ]
                        },
                        "text/html": [
                            "<table>",
                            "<tr><th>interval_multiplied</th></tr>",
                            "<tr><td>45 days, 0:00:00</td></tr>",
                            "</table>"
                        ]
                    }
                }
            ],
            "execution_count": 28
        },
        {
            "cell_type": "code",
            "source": [
                ""
            ],
            "metadata": {
                "azdata_cell_guid": "cc0b7e5e-4256-4801-ac0c-f07b723cdec3"
            },
            "outputs": [],
            "execution_count": null
        },
        {
            "cell_type": "code",
            "source": [
                ""
            ],
            "metadata": {
                "azdata_cell_guid": "291e2417-64a5-477a-b4b3-464d539c6ef1"
            },
            "outputs": [],
            "execution_count": null
        },
        {
            "cell_type": "code",
            "source": [
                ""
            ],
            "metadata": {
                "azdata_cell_guid": "cb05aadd-cb9d-4d57-ac30-3322582d9d76"
            },
            "outputs": [],
            "execution_count": null
        },
        {
            "cell_type": "code",
            "source": [
                ""
            ],
            "metadata": {
                "azdata_cell_guid": "668ba2cd-a5ac-4767-8ab1-34c26f2ddd00"
            },
            "outputs": [],
            "execution_count": null
        },
        {
            "cell_type": "code",
            "source": [
                ""
            ],
            "metadata": {
                "azdata_cell_guid": "3af5e13a-c841-44ca-b12a-4657fca80b79"
            },
            "outputs": [],
            "execution_count": null
        },
        {
            "cell_type": "code",
            "source": [
                ""
            ],
            "metadata": {
                "azdata_cell_guid": "f74fa79e-9f73-4eb4-9aae-20b547167764"
            },
            "outputs": [],
            "execution_count": null
        },
        {
            "cell_type": "code",
            "source": [
                ""
            ],
            "metadata": {
                "azdata_cell_guid": "23f2fd76-d6dd-470a-a883-44f24289f34c"
            },
            "outputs": [],
            "execution_count": null
        },
        {
            "cell_type": "code",
            "source": [
                ""
            ],
            "metadata": {
                "azdata_cell_guid": "7cda8f00-7493-4560-b864-2502637540da"
            },
            "outputs": [],
            "execution_count": null
        },
        {
            "cell_type": "code",
            "source": [
                ""
            ],
            "metadata": {
                "azdata_cell_guid": "3275c27a-3259-4c2d-bb2c-cfaafa891d01"
            },
            "outputs": [],
            "execution_count": null
        },
        {
            "cell_type": "code",
            "source": [
                ""
            ],
            "metadata": {
                "azdata_cell_guid": "67236628-69ec-4c39-affb-e75376613818"
            },
            "outputs": [],
            "execution_count": null
        },
        {
            "cell_type": "code",
            "source": [
                ""
            ],
            "metadata": {
                "azdata_cell_guid": "8c159ee2-fb41-49db-b592-9ba907edac28"
            },
            "outputs": [],
            "execution_count": null
        },
        {
            "cell_type": "code",
            "source": [
                ""
            ],
            "metadata": {
                "azdata_cell_guid": "6d5d70cd-16d9-4030-aa57-d20460bfb52b"
            },
            "outputs": [],
            "execution_count": null
        },
        {
            "cell_type": "code",
            "source": [
                ""
            ],
            "metadata": {
                "azdata_cell_guid": "3ff7b27b-0f8e-442e-a2dd-070faa9ce935"
            },
            "outputs": [],
            "execution_count": null
        },
        {
            "cell_type": "code",
            "source": [
                ""
            ],
            "metadata": {
                "azdata_cell_guid": "022a5cdf-76fe-4ec0-b2c1-fd4af25ea774"
            },
            "outputs": [],
            "execution_count": null
        },
        {
            "cell_type": "code",
            "source": [
                ""
            ],
            "metadata": {
                "azdata_cell_guid": "9331eccf-9062-45bf-b408-436acd692d46"
            },
            "outputs": [],
            "execution_count": null
        }
    ]
}